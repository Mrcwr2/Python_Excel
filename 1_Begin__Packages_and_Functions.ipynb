{
  "nbformat": 4,
  "nbformat_minor": 0,
  "metadata": {
    "colab": {
      "name": "1-Begin_ Packages and Functions.ipynb",
      "provenance": [],
      "collapsed_sections": [],
      "include_colab_link": true
    },
    "kernelspec": {
      "name": "python3",
      "display_name": "Python 3"
    }
  },
  "cells": [
    {
      "cell_type": "markdown",
      "metadata": {
        "id": "view-in-github",
        "colab_type": "text"
      },
      "source": [
        "<a href=\"https://colab.research.google.com/github/Mrcwr2/Python_Excel/blob/main/1_Begin__Packages_and_Functions.ipynb\" target=\"_parent\"><img src=\"https://colab.research.google.com/assets/colab-badge.svg\" alt=\"Open In Colab\"/></a>"
      ]
    },
    {
      "cell_type": "markdown",
      "metadata": {
        "id": "4rxxdhbNtC09"
      },
      "source": [
        "# Packages and Functions in Python\n",
        "\n",
        "---\n",
        "\n"
      ]
    },
    {
      "cell_type": "markdown",
      "metadata": {
        "id": "br2RphVBIl5E"
      },
      "source": [
        "A package is a collection of Python code which reduces how much coding you need to do"
      ]
    },
    {
      "cell_type": "markdown",
      "metadata": {
        "id": "te9RAnpZEkxC"
      },
      "source": [
        "### **How do you use packages?**"
      ]
    },
    {
      "cell_type": "code",
      "metadata": {
        "id": "3SOeA4JjFqUW",
        "colab": {
          "base_uri": "https://localhost:8080/"
        },
        "outputId": "17054795-b6a1-4e37-a0a3-88f2597aec79"
      },
      "source": [
        "# Check packages\n",
        "!pip list"
      ],
      "execution_count": null,
      "outputs": [
        {
          "output_type": "stream",
          "name": "stdout",
          "text": [
            "Package                       Version\n",
            "----------------------------- --------------\n",
            "absl-py                       0.12.0\n",
            "alabaster                     0.7.12\n",
            "albumentations                0.1.12\n",
            "altair                        4.1.0\n",
            "appdirs                       1.4.4\n",
            "argcomplete                   1.12.3\n",
            "argon2-cffi                   21.1.0\n",
            "arviz                         0.11.2\n",
            "astor                         0.8.1\n",
            "astropy                       4.3.1\n",
            "astunparse                    1.6.3\n",
            "atari-py                      0.2.9\n",
            "atomicwrites                  1.4.0\n",
            "attrs                         21.2.0\n",
            "audioread                     2.1.9\n",
            "autograd                      1.3\n",
            "Babel                         2.9.1\n",
            "backcall                      0.2.0\n",
            "beautifulsoup4                4.6.3\n",
            "bleach                        4.1.0\n",
            "blis                          0.4.1\n",
            "bokeh                         2.3.3\n",
            "Bottleneck                    1.3.2\n",
            "branca                        0.4.2\n",
            "bs4                           0.0.1\n",
            "CacheControl                  0.12.6\n",
            "cached-property               1.5.2\n",
            "cachetools                    4.2.2\n",
            "catalogue                     1.0.0\n",
            "certifi                       2021.5.30\n",
            "cffi                          1.14.6\n",
            "cftime                        1.5.0\n",
            "chardet                       3.0.4\n",
            "charset-normalizer            2.0.6\n",
            "clang                         5.0\n",
            "click                         7.1.2\n",
            "cloudpickle                   1.3.0\n",
            "cmake                         3.12.0\n",
            "cmdstanpy                     0.9.5\n",
            "colorcet                      2.0.6\n",
            "colorlover                    0.3.0\n",
            "community                     1.0.0b1\n",
            "contextlib2                   0.5.5\n",
            "convertdate                   2.3.2\n",
            "coverage                      3.7.1\n",
            "coveralls                     0.5\n",
            "crcmod                        1.7\n",
            "cufflinks                     0.17.3\n",
            "cvxopt                        1.2.6\n",
            "cvxpy                         1.0.31\n",
            "cycler                        0.10.0\n",
            "cymem                         2.0.5\n",
            "Cython                        0.29.24\n",
            "daft                          0.0.4\n",
            "dask                          2.12.0\n",
            "datascience                   0.10.6\n",
            "debugpy                       1.0.0\n",
            "decorator                     4.4.2\n",
            "defusedxml                    0.7.1\n",
            "descartes                     1.1.0\n",
            "dill                          0.3.4\n",
            "distributed                   1.25.3\n",
            "dlib                          19.18.0\n",
            "dm-tree                       0.1.6\n",
            "docopt                        0.6.2\n",
            "docutils                      0.17.1\n",
            "dopamine-rl                   1.0.5\n",
            "earthengine-api               0.1.283\n",
            "easydict                      1.9\n",
            "ecos                          2.0.7.post1\n",
            "editdistance                  0.5.3\n",
            "en-core-web-sm                2.2.5\n",
            "entrypoints                   0.3\n",
            "ephem                         4.0.0.2\n",
            "et-xmlfile                    1.1.0\n",
            "fa2                           0.3.5\n",
            "fastai                        1.0.61\n",
            "fastdtw                       0.3.4\n",
            "fastprogress                  1.0.0\n",
            "fastrlock                     0.6\n",
            "fbprophet                     0.7.1\n",
            "feather-format                0.4.1\n",
            "filelock                      3.0.12\n",
            "firebase-admin                4.4.0\n",
            "fix-yahoo-finance             0.0.22\n",
            "Flask                         1.1.4\n",
            "flatbuffers                   1.12\n",
            "folium                        0.8.3\n",
            "future                        0.16.0\n",
            "gast                          0.4.0\n",
            "GDAL                          2.2.2\n",
            "gdown                         3.6.4\n",
            "gensim                        3.6.0\n",
            "geographiclib                 1.52\n",
            "geopy                         1.17.0\n",
            "gin-config                    0.4.0\n",
            "glob2                         0.7\n",
            "google                        2.0.3\n",
            "google-api-core               1.26.3\n",
            "google-api-python-client      1.12.8\n",
            "google-auth                   1.35.0\n",
            "google-auth-httplib2          0.0.4\n",
            "google-auth-oauthlib          0.4.6\n",
            "google-cloud-bigquery         1.21.0\n",
            "google-cloud-bigquery-storage 1.1.0\n",
            "google-cloud-core             1.0.3\n",
            "google-cloud-datastore        1.8.0\n",
            "google-cloud-firestore        1.7.0\n",
            "google-cloud-language         1.2.0\n",
            "google-cloud-storage          1.18.1\n",
            "google-cloud-translate        1.5.0\n",
            "google-colab                  1.0.0\n",
            "google-pasta                  0.2.0\n",
            "google-resumable-media        0.4.1\n",
            "googleapis-common-protos      1.53.0\n",
            "googledrivedownloader         0.4\n",
            "graphviz                      0.10.1\n",
            "greenlet                      1.1.1\n",
            "grpcio                        1.40.0\n",
            "gspread                       3.0.1\n",
            "gspread-dataframe             3.0.8\n",
            "gym                           0.17.3\n",
            "h5py                          3.1.0\n",
            "HeapDict                      1.0.1\n",
            "hijri-converter               2.2.1\n",
            "holidays                      0.10.5.2\n",
            "holoviews                     1.14.5\n",
            "html5lib                      1.0.1\n",
            "httpimport                    0.5.18\n",
            "httplib2                      0.17.4\n",
            "httplib2shim                  0.0.3\n",
            "humanize                      0.5.1\n",
            "hyperopt                      0.1.2\n",
            "ideep4py                      2.0.0.post3\n",
            "idna                          2.10\n",
            "imageio                       2.4.1\n",
            "imagesize                     1.2.0\n",
            "imbalanced-learn              0.4.3\n",
            "imblearn                      0.0\n",
            "imgaug                        0.2.9\n",
            "importlib-metadata            4.8.1\n",
            "importlib-resources           5.2.2\n",
            "imutils                       0.5.4\n",
            "inflect                       2.1.0\n",
            "iniconfig                     1.1.1\n",
            "intel-openmp                  2021.3.0\n",
            "intervaltree                  2.1.0\n",
            "ipykernel                     4.10.1\n",
            "ipython                       5.5.0\n",
            "ipython-genutils              0.2.0\n",
            "ipython-sql                   0.3.9\n",
            "ipywidgets                    7.6.5\n",
            "itsdangerous                  1.1.0\n",
            "jax                           0.2.20\n",
            "jaxlib                        0.1.71+cuda111\n",
            "jdcal                         1.4.1\n",
            "jedi                          0.18.0\n",
            "jieba                         0.42.1\n",
            "Jinja2                        2.11.3\n",
            "joblib                        1.0.1\n",
            "jpeg4py                       0.1.4\n",
            "jsonschema                    2.6.0\n",
            "jupyter                       1.0.0\n",
            "jupyter-client                5.3.5\n",
            "jupyter-console               5.2.0\n",
            "jupyter-core                  4.7.1\n",
            "jupyterlab-pygments           0.1.2\n",
            "jupyterlab-widgets            1.0.2\n",
            "kaggle                        1.5.12\n",
            "kapre                         0.3.5\n",
            "keras                         2.6.0\n",
            "Keras-Preprocessing           1.1.2\n",
            "keras-vis                     0.4.1\n",
            "kiwisolver                    1.3.2\n",
            "korean-lunar-calendar         0.2.1\n",
            "librosa                       0.8.1\n",
            "lightgbm                      2.2.3\n",
            "llvmlite                      0.34.0\n",
            "lmdb                          0.99\n",
            "LunarCalendar                 0.0.9\n",
            "lxml                          4.2.6\n",
            "Markdown                      3.3.4\n",
            "MarkupSafe                    2.0.1\n",
            "matplotlib                    3.2.2\n",
            "matplotlib-inline             0.1.3\n",
            "matplotlib-venn               0.11.6\n",
            "missingno                     0.5.0\n",
            "mistune                       0.8.4\n",
            "mizani                        0.6.0\n",
            "mkl                           2019.0\n",
            "mlxtend                       0.14.0\n",
            "more-itertools                8.9.0\n",
            "moviepy                       0.2.3.5\n",
            "mpmath                        1.2.1\n",
            "msgpack                       1.0.2\n",
            "multiprocess                  0.70.12.2\n",
            "multitasking                  0.0.9\n",
            "murmurhash                    1.0.5\n",
            "music21                       5.5.0\n",
            "natsort                       5.5.0\n",
            "nbclient                      0.5.4\n",
            "nbconvert                     5.6.1\n",
            "nbformat                      5.1.3\n",
            "nest-asyncio                  1.5.1\n",
            "netCDF4                       1.5.7\n",
            "networkx                      2.6.3\n",
            "nibabel                       3.0.2\n",
            "nltk                          3.2.5\n",
            "notebook                      5.3.1\n",
            "numba                         0.51.2\n",
            "numexpr                       2.7.3\n",
            "numpy                         1.19.5\n",
            "nvidia-ml-py3                 7.352.0\n",
            "oauth2client                  4.1.3\n",
            "oauthlib                      3.1.1\n",
            "okgrade                       0.4.3\n",
            "opencv-contrib-python         4.1.2.30\n",
            "opencv-python                 4.1.2.30\n",
            "openpyxl                      2.5.9\n",
            "opt-einsum                    3.3.0\n",
            "osqp                          0.6.2.post0\n",
            "packaging                     21.0\n",
            "palettable                    3.3.0\n",
            "pandas                        1.1.5\n",
            "pandas-datareader             0.9.0\n",
            "pandas-gbq                    0.13.3\n",
            "pandas-profiling              1.4.1\n",
            "pandocfilters                 1.5.0\n",
            "panel                         0.12.1\n",
            "param                         1.11.1\n",
            "parso                         0.8.2\n",
            "pathlib                       1.0.1\n",
            "patsy                         0.5.1\n",
            "pep517                        0.11.0\n",
            "pexpect                       4.8.0\n",
            "pickleshare                   0.7.5\n",
            "Pillow                        7.1.2\n",
            "pip                           21.1.3\n",
            "pip-tools                     6.2.0\n",
            "plac                          1.1.3\n",
            "plotly                        4.4.1\n",
            "plotnine                      0.6.0\n",
            "pluggy                        0.7.1\n",
            "pooch                         1.5.1\n",
            "portpicker                    1.3.9\n",
            "prefetch-generator            1.0.1\n",
            "preshed                       3.0.5\n",
            "prettytable                   2.2.0\n",
            "progressbar2                  3.38.0\n",
            "prometheus-client             0.11.0\n",
            "promise                       2.3\n",
            "prompt-toolkit                1.0.18\n",
            "protobuf                      3.17.3\n",
            "psutil                        5.4.8\n",
            "psycopg2                      2.7.6.1\n",
            "ptyprocess                    0.7.0\n",
            "py                            1.10.0\n",
            "pyarrow                       3.0.0\n",
            "pyasn1                        0.4.8\n",
            "pyasn1-modules                0.2.8\n",
            "pycocotools                   2.0.2\n",
            "pycparser                     2.20\n",
            "pyct                          0.4.8\n",
            "pydata-google-auth            1.2.0\n",
            "pydot                         1.3.0\n",
            "pydot-ng                      2.0.0\n",
            "pydotplus                     2.0.2\n",
            "PyDrive                       1.3.1\n",
            "pyemd                         0.5.1\n",
            "pyerfa                        2.0.0\n",
            "pyglet                        1.5.0\n",
            "Pygments                      2.6.1\n",
            "pygobject                     3.26.1\n",
            "pymc3                         3.11.4\n",
            "PyMeeus                       0.5.11\n",
            "pymongo                       3.12.0\n",
            "pymystem3                     0.2.0\n",
            "PyOpenGL                      3.1.5\n",
            "pyparsing                     2.4.7\n",
            "pyrsistent                    0.18.0\n",
            "pysndfile                     1.3.8\n",
            "PySocks                       1.7.1\n",
            "pystan                        2.19.1.1\n",
            "pytest                        3.6.4\n",
            "python-apt                    0.0.0\n",
            "python-chess                  0.23.11\n",
            "python-dateutil               2.8.2\n",
            "python-louvain                0.15\n",
            "python-slugify                5.0.2\n",
            "python-utils                  2.5.6\n",
            "pytz                          2018.9\n",
            "pyviz-comms                   2.1.0\n",
            "PyWavelets                    1.1.1\n",
            "PyYAML                        3.13\n",
            "pyzmq                         22.3.0\n",
            "qdldl                         0.1.5.post0\n",
            "qtconsole                     5.1.1\n",
            "QtPy                          1.11.1\n",
            "regex                         2019.12.20\n",
            "requests                      2.23.0\n",
            "requests-oauthlib             1.3.0\n",
            "resampy                       0.2.2\n",
            "retrying                      1.3.3\n",
            "rpy2                          3.4.5\n",
            "rsa                           4.7.2\n",
            "scikit-image                  0.16.2\n",
            "scikit-learn                  0.22.2.post1\n",
            "scipy                         1.4.1\n",
            "screen-resolution-extra       0.0.0\n",
            "scs                           2.1.4\n",
            "seaborn                       0.11.2\n",
            "semver                        2.13.0\n",
            "Send2Trash                    1.8.0\n",
            "setuptools                    57.4.0\n",
            "setuptools-git                1.2\n",
            "Shapely                       1.7.1\n",
            "simplegeneric                 0.8.1\n",
            "six                           1.15.0\n",
            "sklearn                       0.0\n",
            "sklearn-pandas                1.8.0\n",
            "smart-open                    5.2.1\n",
            "snowballstemmer               2.1.0\n",
            "sortedcontainers              2.4.0\n",
            "SoundFile                     0.10.3.post1\n",
            "spacy                         2.2.4\n",
            "Sphinx                        1.8.5\n",
            "sphinxcontrib-serializinghtml 1.1.5\n",
            "sphinxcontrib-websupport      1.2.4\n",
            "SQLAlchemy                    1.4.23\n",
            "sqlparse                      0.4.2\n",
            "srsly                         1.0.5\n",
            "statsmodels                   0.10.2\n",
            "sympy                         1.7.1\n",
            "tables                        3.4.4\n",
            "tabulate                      0.8.9\n",
            "tblib                         1.7.0\n",
            "tensorboard                   2.6.0\n",
            "tensorboard-data-server       0.6.1\n",
            "tensorboard-plugin-wit        1.8.0\n",
            "tensorflow                    2.6.0\n",
            "tensorflow-datasets           4.0.1\n",
            "tensorflow-estimator          2.6.0\n",
            "tensorflow-gcs-config         2.6.0\n",
            "tensorflow-hub                0.12.0\n",
            "tensorflow-metadata           1.2.0\n",
            "tensorflow-probability        0.13.0\n",
            "termcolor                     1.1.0\n",
            "terminado                     0.12.1\n",
            "testpath                      0.5.0\n",
            "text-unidecode                1.3\n",
            "textblob                      0.15.3\n",
            "Theano-PyMC                   1.1.2\n",
            "thinc                         7.4.0\n",
            "tifffile                      2021.8.30\n",
            "toml                          0.10.2\n",
            "tomli                         1.2.1\n",
            "toolz                         0.11.1\n",
            "torch                         1.9.0+cu102\n",
            "torchsummary                  1.5.1\n",
            "torchtext                     0.10.0\n",
            "torchvision                   0.10.0+cu102\n",
            "tornado                       5.1.1\n",
            "tqdm                          4.62.2\n",
            "traitlets                     5.1.0\n",
            "tweepy                        3.10.0\n",
            "typeguard                     2.7.1\n",
            "typing-extensions             3.7.4.3\n",
            "tzlocal                       1.5.1\n",
            "uritemplate                   3.0.1\n",
            "urllib3                       1.24.3\n",
            "vega-datasets                 0.9.0\n",
            "wasabi                        0.8.2\n",
            "wcwidth                       0.2.5\n",
            "webencodings                  0.5.1\n",
            "Werkzeug                      1.0.1\n",
            "wheel                         0.37.0\n",
            "widgetsnbextension            3.5.1\n",
            "wordcloud                     1.5.0\n",
            "wrapt                         1.12.1\n",
            "xarray                        0.18.2\n",
            "xgboost                       0.90\n",
            "xkit                          0.0.0\n",
            "xlrd                          1.1.0\n",
            "xlwt                          1.3.0\n",
            "yellowbrick                   0.9.1\n",
            "zict                          2.0.0\n",
            "zipp                          3.5.0\n"
          ]
        }
      ]
    },
    {
      "cell_type": "markdown",
      "metadata": {
        "id": "fnZRN6KiGO9n"
      },
      "source": [
        "<br>"
      ]
    },
    {
      "cell_type": "code",
      "metadata": {
        "id": "f9xA2fRWE5cS",
        "colab": {
          "base_uri": "https://localhost:8080/"
        },
        "outputId": "cecc43dc-a328-403a-f08f-6968c947bc8c"
      },
      "source": [
        "# Install a package\n",
        "!pip install pandas"
      ],
      "execution_count": null,
      "outputs": [
        {
          "output_type": "stream",
          "name": "stdout",
          "text": [
            "Requirement already satisfied: pandas in /usr/local/lib/python3.7/dist-packages (1.1.5)\n",
            "Requirement already satisfied: pytz>=2017.2 in /usr/local/lib/python3.7/dist-packages (from pandas) (2018.9)\n",
            "Requirement already satisfied: python-dateutil>=2.7.3 in /usr/local/lib/python3.7/dist-packages (from pandas) (2.8.2)\n",
            "Requirement already satisfied: numpy>=1.15.4 in /usr/local/lib/python3.7/dist-packages (from pandas) (1.19.5)\n",
            "Requirement already satisfied: six>=1.5 in /usr/local/lib/python3.7/dist-packages (from python-dateutil>=2.7.3->pandas) (1.15.0)\n"
          ]
        }
      ]
    },
    {
      "cell_type": "markdown",
      "metadata": {
        "id": "UYyqUH_VGPbe"
      },
      "source": [
        "<br>"
      ]
    },
    {
      "cell_type": "code",
      "metadata": {
        "id": "VRE0ivJXGNHa"
      },
      "source": [
        "# Import the code into this notebook\n",
        "import pandas"
      ],
      "execution_count": null,
      "outputs": []
    },
    {
      "cell_type": "markdown",
      "metadata": {
        "id": "7lxNjc9FGQbj"
      },
      "source": [
        "<br>"
      ]
    },
    {
      "cell_type": "code",
      "metadata": {
        "id": "JH2-MnHEGYyP",
        "cellView": "form",
        "colab": {
          "base_uri": "https://localhost:8080/"
        },
        "outputId": "245a249a-4bec-4fc9-f4c7-6de72692e3b3"
      },
      "source": [
        "#@title **<-- Look at the code for pandas**\n",
        "import inspect\n",
        "print(inspect.getsource(pandas))"
      ],
      "execution_count": null,
      "outputs": [
        {
          "output_type": "stream",
          "name": "stdout",
          "text": [
            "# flake8: noqa\n",
            "\n",
            "__docformat__ = \"restructuredtext\"\n",
            "\n",
            "# Let users know if they're missing any of our hard dependencies\n",
            "hard_dependencies = (\"numpy\", \"pytz\", \"dateutil\")\n",
            "missing_dependencies = []\n",
            "\n",
            "for dependency in hard_dependencies:\n",
            "    try:\n",
            "        __import__(dependency)\n",
            "    except ImportError as e:\n",
            "        missing_dependencies.append(f\"{dependency}: {e}\")\n",
            "\n",
            "if missing_dependencies:\n",
            "    raise ImportError(\n",
            "        \"Unable to import required dependencies:\\n\" + \"\\n\".join(missing_dependencies)\n",
            "    )\n",
            "del hard_dependencies, dependency, missing_dependencies\n",
            "\n",
            "# numpy compat\n",
            "from pandas.compat.numpy import (\n",
            "    _np_version_under1p16,\n",
            "    _np_version_under1p17,\n",
            "    _np_version_under1p18,\n",
            "    _is_numpy_dev,\n",
            ")\n",
            "\n",
            "try:\n",
            "    from pandas._libs import hashtable as _hashtable, lib as _lib, tslib as _tslib\n",
            "except ImportError as e:  # pragma: no cover\n",
            "    # hack but overkill to use re\n",
            "    module = str(e).replace(\"cannot import name \", \"\")\n",
            "    raise ImportError(\n",
            "        f\"C extension: {module} not built. If you want to import \"\n",
            "        \"pandas from the source directory, you may need to run \"\n",
            "        \"'python setup.py build_ext --inplace --force' to build the C extensions first.\"\n",
            "    ) from e\n",
            "\n",
            "from pandas._config import (\n",
            "    get_option,\n",
            "    set_option,\n",
            "    reset_option,\n",
            "    describe_option,\n",
            "    option_context,\n",
            "    options,\n",
            ")\n",
            "\n",
            "# let init-time option registration happen\n",
            "import pandas.core.config_init\n",
            "\n",
            "from pandas.core.api import (\n",
            "    # dtype\n",
            "    Int8Dtype,\n",
            "    Int16Dtype,\n",
            "    Int32Dtype,\n",
            "    Int64Dtype,\n",
            "    UInt8Dtype,\n",
            "    UInt16Dtype,\n",
            "    UInt32Dtype,\n",
            "    UInt64Dtype,\n",
            "    CategoricalDtype,\n",
            "    PeriodDtype,\n",
            "    IntervalDtype,\n",
            "    DatetimeTZDtype,\n",
            "    StringDtype,\n",
            "    BooleanDtype,\n",
            "    # missing\n",
            "    NA,\n",
            "    isna,\n",
            "    isnull,\n",
            "    notna,\n",
            "    notnull,\n",
            "    # indexes\n",
            "    Index,\n",
            "    CategoricalIndex,\n",
            "    Int64Index,\n",
            "    UInt64Index,\n",
            "    RangeIndex,\n",
            "    Float64Index,\n",
            "    MultiIndex,\n",
            "    IntervalIndex,\n",
            "    TimedeltaIndex,\n",
            "    DatetimeIndex,\n",
            "    PeriodIndex,\n",
            "    IndexSlice,\n",
            "    # tseries\n",
            "    NaT,\n",
            "    Period,\n",
            "    period_range,\n",
            "    Timedelta,\n",
            "    timedelta_range,\n",
            "    Timestamp,\n",
            "    date_range,\n",
            "    bdate_range,\n",
            "    Interval,\n",
            "    interval_range,\n",
            "    DateOffset,\n",
            "    # conversion\n",
            "    to_numeric,\n",
            "    to_datetime,\n",
            "    to_timedelta,\n",
            "    # misc\n",
            "    Grouper,\n",
            "    factorize,\n",
            "    unique,\n",
            "    value_counts,\n",
            "    NamedAgg,\n",
            "    array,\n",
            "    Categorical,\n",
            "    set_eng_float_format,\n",
            "    Series,\n",
            "    DataFrame,\n",
            ")\n",
            "\n",
            "from pandas.core.arrays.sparse import SparseDtype\n",
            "\n",
            "from pandas.tseries.api import infer_freq\n",
            "from pandas.tseries import offsets\n",
            "\n",
            "from pandas.core.computation.api import eval\n",
            "\n",
            "from pandas.core.reshape.api import (\n",
            "    concat,\n",
            "    lreshape,\n",
            "    melt,\n",
            "    wide_to_long,\n",
            "    merge,\n",
            "    merge_asof,\n",
            "    merge_ordered,\n",
            "    crosstab,\n",
            "    pivot,\n",
            "    pivot_table,\n",
            "    get_dummies,\n",
            "    cut,\n",
            "    qcut,\n",
            ")\n",
            "\n",
            "import pandas.api\n",
            "from pandas.util._print_versions import show_versions\n",
            "\n",
            "from pandas.io.api import (\n",
            "    # excel\n",
            "    ExcelFile,\n",
            "    ExcelWriter,\n",
            "    read_excel,\n",
            "    # parsers\n",
            "    read_csv,\n",
            "    read_fwf,\n",
            "    read_table,\n",
            "    # pickle\n",
            "    read_pickle,\n",
            "    to_pickle,\n",
            "    # pytables\n",
            "    HDFStore,\n",
            "    read_hdf,\n",
            "    # sql\n",
            "    read_sql,\n",
            "    read_sql_query,\n",
            "    read_sql_table,\n",
            "    # misc\n",
            "    read_clipboard,\n",
            "    read_parquet,\n",
            "    read_orc,\n",
            "    read_feather,\n",
            "    read_gbq,\n",
            "    read_html,\n",
            "    read_json,\n",
            "    read_stata,\n",
            "    read_sas,\n",
            "    read_spss,\n",
            ")\n",
            "\n",
            "from pandas.io.json import _json_normalize as json_normalize\n",
            "\n",
            "from pandas.util._tester import test\n",
            "import pandas.testing\n",
            "import pandas.arrays\n",
            "\n",
            "# use the closest tagged version if possible\n",
            "from ._version import get_versions\n",
            "\n",
            "v = get_versions()\n",
            "__version__ = v.get(\"closest-tag\", v[\"version\"])\n",
            "__git_version__ = v.get(\"full-revisionid\")\n",
            "del get_versions, v\n",
            "\n",
            "# GH 27101\n",
            "# TODO: remove Panel compat in 1.0\n",
            "if pandas.compat.PY37:\n",
            "\n",
            "    def __getattr__(name):\n",
            "        import warnings\n",
            "\n",
            "        if name == \"Panel\":\n",
            "\n",
            "            warnings.warn(\n",
            "                \"The Panel class is removed from pandas. Accessing it \"\n",
            "                \"from the top-level namespace will also be removed in the next version\",\n",
            "                FutureWarning,\n",
            "                stacklevel=2,\n",
            "            )\n",
            "\n",
            "            class Panel:\n",
            "                pass\n",
            "\n",
            "            return Panel\n",
            "\n",
            "        elif name == \"datetime\":\n",
            "            warnings.warn(\n",
            "                \"The pandas.datetime class is deprecated \"\n",
            "                \"and will be removed from pandas in a future version. \"\n",
            "                \"Import from datetime module instead.\",\n",
            "                FutureWarning,\n",
            "                stacklevel=2,\n",
            "            )\n",
            "\n",
            "            from datetime import datetime as dt\n",
            "\n",
            "            return dt\n",
            "\n",
            "        elif name == \"np\":\n",
            "\n",
            "            warnings.warn(\n",
            "                \"The pandas.np module is deprecated \"\n",
            "                \"and will be removed from pandas in a future version. \"\n",
            "                \"Import numpy directly instead\",\n",
            "                FutureWarning,\n",
            "                stacklevel=2,\n",
            "            )\n",
            "            import numpy as np\n",
            "\n",
            "            return np\n",
            "\n",
            "        elif name in {\"SparseSeries\", \"SparseDataFrame\"}:\n",
            "            warnings.warn(\n",
            "                f\"The {name} class is removed from pandas. Accessing it from \"\n",
            "                \"the top-level namespace will also be removed in the next version\",\n",
            "                FutureWarning,\n",
            "                stacklevel=2,\n",
            "            )\n",
            "\n",
            "            return type(name, (), {})\n",
            "\n",
            "        elif name == \"SparseArray\":\n",
            "\n",
            "            warnings.warn(\n",
            "                \"The pandas.SparseArray class is deprecated \"\n",
            "                \"and will be removed from pandas in a future version. \"\n",
            "                \"Use pandas.arrays.SparseArray instead.\",\n",
            "                FutureWarning,\n",
            "                stacklevel=2,\n",
            "            )\n",
            "            from pandas.core.arrays.sparse import SparseArray as _SparseArray\n",
            "\n",
            "            return _SparseArray\n",
            "\n",
            "        raise AttributeError(f\"module 'pandas' has no attribute '{name}'\")\n",
            "\n",
            "\n",
            "else:\n",
            "\n",
            "    class Panel:\n",
            "        pass\n",
            "\n",
            "    class SparseDataFrame:\n",
            "        pass\n",
            "\n",
            "    class SparseSeries:\n",
            "        pass\n",
            "\n",
            "    class __numpy:\n",
            "        def __init__(self):\n",
            "            import numpy as np\n",
            "            import warnings\n",
            "\n",
            "            self.np = np\n",
            "            self.warnings = warnings\n",
            "\n",
            "        def __getattr__(self, item):\n",
            "            self.warnings.warn(\n",
            "                \"The pandas.np module is deprecated \"\n",
            "                \"and will be removed from pandas in a future version. \"\n",
            "                \"Import numpy directly instead\",\n",
            "                FutureWarning,\n",
            "                stacklevel=2,\n",
            "            )\n",
            "\n",
            "            try:\n",
            "                return getattr(self.np, item)\n",
            "            except AttributeError as err:\n",
            "                raise AttributeError(f\"module numpy has no attribute {item}\") from err\n",
            "\n",
            "    np = __numpy()\n",
            "\n",
            "    class __Datetime(type):\n",
            "\n",
            "        from datetime import datetime as dt\n",
            "\n",
            "        datetime = dt\n",
            "\n",
            "        def __getattr__(cls, item):\n",
            "            cls.emit_warning()\n",
            "\n",
            "            try:\n",
            "                return getattr(cls.datetime, item)\n",
            "            except AttributeError as err:\n",
            "                raise AttributeError(\n",
            "                    f\"module datetime has no attribute {item}\"\n",
            "                ) from err\n",
            "\n",
            "        def __instancecheck__(cls, other):\n",
            "            return isinstance(other, cls.datetime)\n",
            "\n",
            "    class __DatetimeSub(metaclass=__Datetime):\n",
            "        def emit_warning(dummy=0):\n",
            "            import warnings\n",
            "\n",
            "            warnings.warn(\n",
            "                \"The pandas.datetime class is deprecated \"\n",
            "                \"and will be removed from pandas in a future version. \"\n",
            "                \"Import from datetime instead.\",\n",
            "                FutureWarning,\n",
            "                stacklevel=3,\n",
            "            )\n",
            "\n",
            "        def __new__(cls, *args, **kwargs):\n",
            "            cls.emit_warning()\n",
            "            from datetime import datetime as dt\n",
            "\n",
            "            return dt(*args, **kwargs)\n",
            "\n",
            "    datetime = __DatetimeSub\n",
            "\n",
            "    class __SparseArray(type):\n",
            "\n",
            "        from pandas.core.arrays.sparse import SparseArray as sa\n",
            "\n",
            "        SparseArray = sa\n",
            "\n",
            "        def __instancecheck__(cls, other):\n",
            "            return isinstance(other, cls.SparseArray)\n",
            "\n",
            "    class __SparseArraySub(metaclass=__SparseArray):\n",
            "        def emit_warning(dummy=0):\n",
            "            import warnings\n",
            "\n",
            "            warnings.warn(\n",
            "                \"The pandas.SparseArray class is deprecated \"\n",
            "                \"and will be removed from pandas in a future version. \"\n",
            "                \"Use pandas.arrays.SparseArray instead.\",\n",
            "                FutureWarning,\n",
            "                stacklevel=3,\n",
            "            )\n",
            "\n",
            "        def __new__(cls, *args, **kwargs):\n",
            "            cls.emit_warning()\n",
            "            from pandas.core.arrays.sparse import SparseArray as sa\n",
            "\n",
            "            return sa(*args, **kwargs)\n",
            "\n",
            "    SparseArray = __SparseArraySub\n",
            "\n",
            "\n",
            "# module level doc-string\n",
            "__doc__ = \"\"\"\n",
            "pandas - a powerful data analysis and manipulation library for Python\n",
            "=====================================================================\n",
            "\n",
            "**pandas** is a Python package providing fast, flexible, and expressive data\n",
            "structures designed to make working with \"relational\" or \"labeled\" data both\n",
            "easy and intuitive. It aims to be the fundamental high-level building block for\n",
            "doing practical, **real world** data analysis in Python. Additionally, it has\n",
            "the broader goal of becoming **the most powerful and flexible open source data\n",
            "analysis / manipulation tool available in any language**. It is already well on\n",
            "its way toward this goal.\n",
            "\n",
            "Main Features\n",
            "-------------\n",
            "Here are just a few of the things that pandas does well:\n",
            "\n",
            "  - Easy handling of missing data in floating point as well as non-floating\n",
            "    point data.\n",
            "  - Size mutability: columns can be inserted and deleted from DataFrame and\n",
            "    higher dimensional objects\n",
            "  - Automatic and explicit data alignment: objects can be explicitly aligned\n",
            "    to a set of labels, or the user can simply ignore the labels and let\n",
            "    `Series`, `DataFrame`, etc. automatically align the data for you in\n",
            "    computations.\n",
            "  - Powerful, flexible group by functionality to perform split-apply-combine\n",
            "    operations on data sets, for both aggregating and transforming data.\n",
            "  - Make it easy to convert ragged, differently-indexed data in other Python\n",
            "    and NumPy data structures into DataFrame objects.\n",
            "  - Intelligent label-based slicing, fancy indexing, and subsetting of large\n",
            "    data sets.\n",
            "  - Intuitive merging and joining data sets.\n",
            "  - Flexible reshaping and pivoting of data sets.\n",
            "  - Hierarchical labeling of axes (possible to have multiple labels per tick).\n",
            "  - Robust IO tools for loading data from flat files (CSV and delimited),\n",
            "    Excel files, databases, and saving/loading data from the ultrafast HDF5\n",
            "    format.\n",
            "  - Time series-specific functionality: date range generation and frequency\n",
            "    conversion, moving window statistics, date shifting and lagging.\n",
            "\"\"\"\n",
            "\n"
          ]
        }
      ]
    },
    {
      "cell_type": "markdown",
      "metadata": {
        "id": "ucRRtXKZKeyP"
      },
      "source": [
        "\n",
        "\n",
        "---\n",
        "\n"
      ]
    },
    {
      "cell_type": "markdown",
      "metadata": {
        "id": "RJ48it0mMVIl"
      },
      "source": [
        "### **Packages contain functions, what is a function?**"
      ]
    },
    {
      "cell_type": "markdown",
      "metadata": {
        "id": "XMrMY6fQGsPd"
      },
      "source": [
        "Imagine we have a column/list of numbers in Excel:\n",
        "\n",
        "![image.png](data:image/png;base64,iVBORw0KGgoAAAANSUhEUgAAAEEAAAB0CAYAAADaQF9bAAADqklEQVR4Ae1cUXKtIAxlXS6I9bgaV9I/F5NOgEiIqO/1o7fjOZ1hlKJIDicJxHjT19eXIBcRkaQAoP6Z7ASBTKhaQCaQCR9lwi7rkmX7sEX+sGHcJKdF1v2zKBAEkbI+0mkIhrHTdMtJUvKU7W02f1u22ext5b5lFZvkWK/3dibs6xKe03rfsqSUZBnoYs/Ro7VpX0mSe6aN7+l4wYTWYUqSN5FxgH3gtfM6EL1OZHafguj6GQbZry9CFoENUJECXO24juG4t45hWbTfXda8yGITta+SB8CeILhkwpOgfaAiEQTfFvt5qjvB97ULVuTQ51jf2k8FtjQpeAdAz0LHK26YYA/UW+4EvWt7Ejq2N9bp7Dc1UBb50hnnx9fA02sbc6Kgd/W/DcLl7J7BMyHntsda58cfgOBnXs1ANVzzGYqDndX97Pm+47VegJs2VaNL8Hwf/fwHIHTBC02XVdZs+hkH9y/1LGvxDI32XoCTSpiXCv2G6/5XIy5A6CghnBGE68USwvx3GQcmaAW1KCRh2dxRQjgbmIAg8ExGgkDDWHlBJpAJaEwoW3MLwIzmEUIdys4yZckZGASbdwVjDNOhqUPZ/BKEErMkE6gONQ5JJuAyocYtfcRaz30IDmKdYC7y6kgQuHeYLJaUFqhF4WB4jSB8NF3nyl7/7v/pHegdJt7hd0n4d54GoQ413ciSPezNdp8EABA2WV0O0yyJAwCEPuN6VljhcyDwDGPdUcaYAgYTfCZLYIGyAwMEpxFjTmZtgAOhJpyO6X/vB2Hfj9TiMu9FNUY3CQCCZsbaGqEefWgN0iY483Ccvp8Jh6jXJwQhukhFBLUoTxheIwgMr+Etm2c+gt4heocZSgj/A2DC5K10WDeDgDDuGiO7CQKGTVB1IBPKp8RDpgqeTQgWoKT3jswAsAkBhPY9tycDHgiQ4TUfbi9htlEVlCd4TIjaQRAqImRCZIIiglqUEwyvEQSG1+giuU5oawa6yOgiGzDvOpyWzfXNtE/ZAWSC/igN+pcvyoyQtwTGhBp59rEEPO8wiSXAgcBvpSexRXODMDah5DRHY9BQwADhhgVwNsHoH48YTIhShzpBiHsHRQS1KDkYXiMIDK8xvKa2gN6BINQFAwYThhAb4lvpuG+YxBTez4RTOC388DWETTiBcA6xvZ8JRR36D8+VuAJqtLkLj8iEsG3G/Dg0gDALs8HYhCOjNbx44bK5seT9TAjqMKsShLhYUkRQizIkzWiC9r9vj36NEfE8zWoAAAAASUVORK5CYII=)\n",
        "\n",
        "We could add them in Excel by typing the following in a different cell \n",
        "    \n",
        "    = 1 + 3 + 5 + 7 + 9"
      ]
    },
    {
      "cell_type": "markdown",
      "metadata": {
        "id": "SIriE4XzG-Dz"
      },
      "source": [
        "<br>"
      ]
    },
    {
      "cell_type": "code",
      "metadata": {
        "id": "IkNZ7awYPlmZ",
        "colab": {
          "base_uri": "https://localhost:8080/"
        },
        "outputId": "14a4935e-1793-4a3e-fd4e-4df63ba4ee61"
      },
      "source": [
        "# Manually add numbers\n",
        "1 + 3 + 5 + 7 + 9"
      ],
      "execution_count": null,
      "outputs": [
        {
          "output_type": "execute_result",
          "data": {
            "text/plain": [
              "25"
            ]
          },
          "metadata": {},
          "execution_count": 5
        }
      ]
    },
    {
      "cell_type": "markdown",
      "metadata": {
        "id": "FgE4ji1MGHmf"
      },
      "source": [
        "<br>"
      ]
    },
    {
      "cell_type": "code",
      "metadata": {
        "id": "utgI8FLwRxyz",
        "colab": {
          "base_uri": "https://localhost:8080/"
        },
        "outputId": "9d498af5-ac8f-4eb4-f133-c3768ed7b608"
      },
      "source": [
        "# Calculate average manually\n",
        "(1 + 3 + 5 + 7 + 9) / 5"
      ],
      "execution_count": null,
      "outputs": [
        {
          "output_type": "execute_result",
          "data": {
            "text/plain": [
              "5.0"
            ]
          },
          "metadata": {},
          "execution_count": 6
        }
      ]
    },
    {
      "cell_type": "markdown",
      "metadata": {
        "id": "PmnH6nDtINfP"
      },
      "source": [
        "<br>"
      ]
    },
    {
      "cell_type": "markdown",
      "metadata": {
        "id": "b6VmdMnbH-hp"
      },
      "source": [
        "Instead of typing this in Excel:\n",
        "    \n",
        "    = 1 + 3 + 5 + 7 + 9\n",
        "\n",
        "We could use Excel's SUM function\n",
        "\n",
        "    =SUM(1, 3, 5, 7, 9)\n",
        "\n",
        "Or use cell references\n",
        "\n",
        "    =SUM(A2:A6)"
      ]
    },
    {
      "cell_type": "markdown",
      "metadata": {
        "id": "wMjuS8Q3IRFb"
      },
      "source": [
        "<br>"
      ]
    },
    {
      "cell_type": "code",
      "metadata": {
        "id": "mZVG4pf2OeEF",
        "colab": {
          "base_uri": "https://localhost:8080/"
        },
        "outputId": "64e5b19c-8ab6-4b54-fe8b-00d1785d7fca"
      },
      "source": [
        "# Add numbers using Python's sum() function\n",
        "sum([1,3,5,7,9])"
      ],
      "execution_count": null,
      "outputs": [
        {
          "output_type": "execute_result",
          "data": {
            "text/plain": [
              "25"
            ]
          },
          "metadata": {},
          "execution_count": 7
        }
      ]
    },
    {
      "cell_type": "markdown",
      "metadata": {
        "id": "FzF17wCBGKWO"
      },
      "source": [
        "<br>"
      ]
    },
    {
      "cell_type": "code",
      "metadata": {
        "id": "c2lPO6ESOx4_",
        "colab": {
          "base_uri": "https://localhost:8080/",
          "height": 180
        },
        "outputId": "80e57e64-de9b-436f-9aac-1d8889931421"
      },
      "source": [
        "# Find the column average (mean) using Python\n",
        "mean([1,3,5,7,9])"
      ],
      "execution_count": null,
      "outputs": [
        {
          "output_type": "error",
          "ename": "NameError",
          "evalue": "ignored",
          "traceback": [
            "\u001b[0;31m---------------------------------------------------------------------------\u001b[0m",
            "\u001b[0;31mNameError\u001b[0m                                 Traceback (most recent call last)",
            "\u001b[0;32m<ipython-input-9-eb9b3f0f74d0>\u001b[0m in \u001b[0;36m<module>\u001b[0;34m()\u001b[0m\n\u001b[1;32m      1\u001b[0m \u001b[0;31m# Find the column average (mean) using Python\u001b[0m\u001b[0;34m\u001b[0m\u001b[0;34m\u001b[0m\u001b[0;34m\u001b[0m\u001b[0m\n\u001b[0;32m----> 2\u001b[0;31m \u001b[0mmean\u001b[0m\u001b[0;34m(\u001b[0m\u001b[0;34m[\u001b[0m\u001b[0;36m1\u001b[0m\u001b[0;34m,\u001b[0m\u001b[0;36m3\u001b[0m\u001b[0;34m,\u001b[0m\u001b[0;36m5\u001b[0m\u001b[0;34m,\u001b[0m\u001b[0;36m7\u001b[0m\u001b[0;34m,\u001b[0m\u001b[0;36m9\u001b[0m\u001b[0;34m]\u001b[0m\u001b[0;34m)\u001b[0m\u001b[0;34m\u001b[0m\u001b[0;34m\u001b[0m\u001b[0m\n\u001b[0m",
            "\u001b[0;31mNameError\u001b[0m: name 'mean' is not defined"
          ]
        }
      ]
    },
    {
      "cell_type": "markdown",
      "metadata": {
        "id": "ZGqtn_CtGMng"
      },
      "source": [
        "<br>"
      ]
    },
    {
      "cell_type": "code",
      "metadata": {
        "id": "TAGvx4bWM63r"
      },
      "source": [
        "# Import the numpy package\n",
        "import numpy"
      ],
      "execution_count": null,
      "outputs": []
    },
    {
      "cell_type": "markdown",
      "metadata": {
        "id": "WO3RZM-VGNHV"
      },
      "source": [
        "<br>"
      ]
    },
    {
      "cell_type": "code",
      "metadata": {
        "id": "KAmRwErhOCUh",
        "colab": {
          "base_uri": "https://localhost:8080/"
        },
        "outputId": "f4966acb-7bd6-43e5-cce6-e9b6edd37e72"
      },
      "source": [
        "# Find the average (mean)of the column using numpy\n",
        "numpy.mean([1,3,5,7,9])"
      ],
      "execution_count": null,
      "outputs": [
        {
          "output_type": "execute_result",
          "data": {
            "text/plain": [
              "5.0"
            ]
          },
          "metadata": {},
          "execution_count": 11
        }
      ]
    },
    {
      "cell_type": "markdown",
      "metadata": {
        "id": "pQzCWIBgQn2l"
      },
      "source": [
        "<br>\n",
        "\n",
        "### Aliasing packages\n",
        "---"
      ]
    },
    {
      "cell_type": "code",
      "metadata": {
        "id": "8Erp682xOCls"
      },
      "source": [
        "# Alias the numpy package for easier access\n",
        "import numpy as np"
      ],
      "execution_count": null,
      "outputs": []
    },
    {
      "cell_type": "markdown",
      "metadata": {
        "id": "tHRN9DNnFp2S"
      },
      "source": [
        "<br>"
      ]
    },
    {
      "cell_type": "code",
      "metadata": {
        "id": "Sck6TdM8PdjE",
        "colab": {
          "base_uri": "https://localhost:8080/"
        },
        "outputId": "77320bc8-bc64-4240-fbaf-ce0b1a1a2809"
      },
      "source": [
        "# Average list using numpy alias\n",
        "np.mean([1,3,5,7,9])"
      ],
      "execution_count": null,
      "outputs": [
        {
          "output_type": "execute_result",
          "data": {
            "text/plain": [
              "5.0"
            ]
          },
          "metadata": {},
          "execution_count": 13
        }
      ]
    },
    {
      "cell_type": "markdown",
      "metadata": {
        "id": "cxE5gb0kTQGm"
      },
      "source": [
        "<br><br>\n",
        "**QUICK CHALLENGE #1:**\n",
        "\n",
        "Numpy has many different functions you can use on a list of data. In addition to sum and mean, you can also count the number of items in a list.\n",
        "\n",
        "**Task: Use the alias for numpy and the `count_nonzero()` function to find the number of items in the list above.**"
      ]
    },
    {
      "cell_type": "code",
      "metadata": {
        "id": "81uPg1fTTOSJ",
        "colab": {
          "base_uri": "https://localhost:8080/"
        },
        "outputId": "77b47c15-8dd8-4298-d04e-9691c34b56a5"
      },
      "source": [
        "# Insert your code for challenge # 1 here:\n",
        "np.count_nonzero([1,3,5,7,9])"
      ],
      "execution_count": null,
      "outputs": [
        {
          "output_type": "execute_result",
          "data": {
            "text/plain": [
              "5"
            ]
          },
          "metadata": {},
          "execution_count": 14
        }
      ]
    },
    {
      "cell_type": "markdown",
      "metadata": {
        "id": "WmZzHEvgQqIi"
      },
      "source": [
        "<br><br>\n",
        "We are importing our packages here for this video only, in the future, **you will usually import your packages in the first code cell.**"
      ]
    },
    {
      "cell_type": "code",
      "metadata": {
        "id": "IMSE692Rsihg",
        "cellView": "both"
      },
      "source": [
        "# Packages for loading and manipulating data: numpy and pandas\n",
        "import pandas as pd\n",
        "\n",
        "\n",
        "# Package for visualizing data: matplotlib\n",
        "import matplotlib.pyplot as plt\n"
      ],
      "execution_count": null,
      "outputs": []
    }
  ]
}