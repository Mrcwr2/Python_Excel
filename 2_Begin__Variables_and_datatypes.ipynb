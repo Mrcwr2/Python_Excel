{
  "nbformat": 4,
  "nbformat_minor": 0,
  "metadata": {
    "colab": {
      "name": "2-Begin_ Variables and datatypes.ipynb",
      "provenance": [],
      "collapsed_sections": [],
      "include_colab_link": true
    },
    "kernelspec": {
      "name": "python3",
      "display_name": "Python 3"
    }
  },
  "cells": [
    {
      "cell_type": "markdown",
      "metadata": {
        "id": "view-in-github",
        "colab_type": "text"
      },
      "source": [
        "<a href=\"https://colab.research.google.com/github/Mrcwr2/Python_Excel/blob/main/2_Begin__Variables_and_datatypes.ipynb\" target=\"_parent\"><img src=\"https://colab.research.google.com/assets/colab-badge.svg\" alt=\"Open In Colab\"/></a>"
      ]
    },
    {
      "cell_type": "markdown",
      "metadata": {
        "id": "Beh6bUquc8zo"
      },
      "source": [
        "# Variables and datatypes"
      ]
    },
    {
      "cell_type": "markdown",
      "metadata": {
        "id": "8kgmrH_xAbeq"
      },
      "source": [
        "### Load required packages"
      ]
    },
    {
      "cell_type": "code",
      "metadata": {
        "id": "tCxMImfIc7JO"
      },
      "source": [
        "# Import required packages\n",
        "import numpy as np\n",
        "import pandas as pd\n",
        "import matplotlib.pyplot as plt\n",
        "\n",
        "# Used to create a date variable\n",
        "from datetime import date"
      ],
      "execution_count": null,
      "outputs": []
    },
    {
      "cell_type": "markdown",
      "metadata": {
        "id": "7rg5daJdA1iT"
      },
      "source": [
        "<br>\n",
        "\n",
        "### Variables\n",
        "---"
      ]
    },
    {
      "cell_type": "markdown",
      "metadata": {
        "id": "mQC5Vsn_BbZT"
      },
      "source": [
        "## **Excel:**\n",
        "\n",
        "*   Data is saved in cells ***(demo)***"
      ]
    },
    {
      "cell_type": "markdown",
      "metadata": {
        "id": "sovp7YnGBNQR"
      },
      "source": [
        "## **Python:**\n",
        "\n",
        "\n",
        "\n",
        "*   variables created with \"=\"\n",
        "\n",
        "    \n",
        "    variable_name = value\n",
        "\n",
        "<br>\n"
      ]
    },
    {
      "cell_type": "code",
      "metadata": {
        "id": "vR-uH6HmAfyI"
      },
      "source": [
        "# Create the same variables in Python\n",
        "A1 = 42\n",
        "A2 = 3.14\n",
        "A3 = 'I am Text'\n",
        "A4 = date (2021,1,1)\n",
        "A5 = True"
      ],
      "execution_count": null,
      "outputs": []
    },
    {
      "cell_type": "markdown",
      "metadata": {
        "id": "eLhc_NwJfpbR"
      },
      "source": [
        "<br>"
      ]
    },
    {
      "cell_type": "code",
      "metadata": {
        "id": "0jCFClnuDHFc",
        "colab": {
          "base_uri": "https://localhost:8080/"
        },
        "outputId": "4d8d1260-6264-4737-8792-3fe6042cc691"
      },
      "source": [
        "# Look at the variable values\n",
        "A1 + A2"
      ],
      "execution_count": null,
      "outputs": [
        {
          "output_type": "execute_result",
          "data": {
            "text/plain": [
              "45.14"
            ]
          },
          "metadata": {
            "tags": []
          },
          "execution_count": 6
        }
      ]
    },
    {
      "cell_type": "markdown",
      "metadata": {
        "id": "54e8xk6Ffq-I"
      },
      "source": [
        "<br>"
      ]
    },
    {
      "cell_type": "code",
      "metadata": {
        "id": "iklwXVGxDwa-",
        "colab": {
          "base_uri": "https://localhost:8080/"
        },
        "outputId": "5e5d4d84-16b0-484d-bfb5-78c95b0b7ee5"
      },
      "source": [
        "# Use the print function\n",
        "print (A1)\n",
        "print (A2)\n",
        "print (A3)\n",
        "print (A4)\n",
        "print (A5)\n",
        "\n"
      ],
      "execution_count": null,
      "outputs": [
        {
          "output_type": "stream",
          "text": [
            "42\n",
            "3.14\n",
            "I am Text\n",
            "2021-01-01\n",
            "True\n"
          ],
          "name": "stdout"
        }
      ]
    },
    {
      "cell_type": "markdown",
      "metadata": {
        "id": "r5YwbYzcfrO3"
      },
      "source": [
        "<br>"
      ]
    },
    {
      "cell_type": "code",
      "metadata": {
        "id": "eGSi43Y4EEGJ",
        "colab": {
          "base_uri": "https://localhost:8080/"
        },
        "outputId": "33b1beae-e44b-4a0c-f46d-18b1e86a177e"
      },
      "source": [
        "# Check the type of A1 with type()\n",
        "type (A1)"
      ],
      "execution_count": null,
      "outputs": [
        {
          "output_type": "execute_result",
          "data": {
            "text/plain": [
              "int"
            ]
          },
          "metadata": {
            "tags": []
          },
          "execution_count": 8
        }
      ]
    },
    {
      "cell_type": "markdown",
      "metadata": {
        "id": "AeOj6aZHfrzP"
      },
      "source": [
        "<br>"
      ]
    },
    {
      "cell_type": "code",
      "metadata": {
        "id": "U_RJY1_lEdW1",
        "colab": {
          "base_uri": "https://localhost:8080/"
        },
        "outputId": "98c4703e-cf6f-4ce9-b9b9-477050005576"
      },
      "source": [
        "# Check all types\n",
        "print(type(A1))\n",
        "print(type(A2))\n",
        "print(type(A3))\n",
        "print(type(A4))\n",
        "print(type(A5))"
      ],
      "execution_count": null,
      "outputs": [
        {
          "output_type": "stream",
          "text": [
            "<class 'int'>\n",
            "<class 'float'>\n",
            "<class 'str'>\n",
            "<class 'datetime.date'>\n",
            "<class 'bool'>\n"
          ],
          "name": "stdout"
        }
      ]
    },
    {
      "cell_type": "markdown",
      "metadata": {
        "id": "D3kIadxXfs5P"
      },
      "source": [
        "<br>"
      ]
    },
    {
      "cell_type": "markdown",
      "metadata": {
        "id": "U07l5K5hE7o_"
      },
      "source": [
        "### Why variables?\n",
        "---"
      ]
    },
    {
      "cell_type": "markdown",
      "metadata": {
        "id": "Im33YxSbFAEC"
      },
      "source": [
        "Recall from last video:\n",
        "\n",
        "    [1, 3, 5, 7, 9]"
      ]
    },
    {
      "cell_type": "markdown",
      "metadata": {
        "id": "L0T0Zrr6fuZK"
      },
      "source": [
        "<br>"
      ]
    },
    {
      "cell_type": "code",
      "metadata": {
        "id": "2O_FFzsUEqel"
      },
      "source": [
        "# Save numbers from last video to variable\n",
        "my_list = [1,3,5,7,9]"
      ],
      "execution_count": null,
      "outputs": []
    },
    {
      "cell_type": "markdown",
      "metadata": {
        "id": "sNUcJf2Lfu_W"
      },
      "source": [
        "<br>"
      ]
    },
    {
      "cell_type": "code",
      "metadata": {
        "id": "LAbkspuYFweq",
        "colab": {
          "base_uri": "https://localhost:8080/"
        },
        "outputId": "6e9ea3e6-02f2-4f78-a4e2-c3575dc14641"
      },
      "source": [
        "# Check type of list variable\n",
        "type(my_list)"
      ],
      "execution_count": null,
      "outputs": [
        {
          "output_type": "execute_result",
          "data": {
            "text/plain": [
              "list"
            ]
          },
          "metadata": {
            "tags": []
          },
          "execution_count": 10
        }
      ]
    },
    {
      "cell_type": "markdown",
      "metadata": {
        "id": "jV5r29qufvSO"
      },
      "source": [
        "<br>"
      ]
    },
    {
      "cell_type": "code",
      "metadata": {
        "id": "O3SQaW8tFOs1",
        "colab": {
          "base_uri": "https://localhost:8080/"
        },
        "outputId": "9c77dd49-b3cf-45f4-e3c6-d67c9ac2c6bc"
      },
      "source": [
        "# Use np.mean() on variable\n",
        "np.mean(my_list)"
      ],
      "execution_count": null,
      "outputs": [
        {
          "output_type": "execute_result",
          "data": {
            "text/plain": [
              "5.0"
            ]
          },
          "metadata": {
            "tags": []
          },
          "execution_count": 22
        }
      ]
    },
    {
      "cell_type": "markdown",
      "metadata": {
        "id": "JxzZSYCFfv6M"
      },
      "source": [
        "<br>"
      ]
    },
    {
      "cell_type": "code",
      "metadata": {
        "id": "36BiVNOgdy7e"
      },
      "source": [
        "# Create a variable \"A\" to save our A1 - A5 variables\n",
        "A = [A1,A2,A3,A4,A5]"
      ],
      "execution_count": null,
      "outputs": []
    },
    {
      "cell_type": "markdown",
      "metadata": {
        "id": "ez4i4wSjfwgq"
      },
      "source": [
        "<br>"
      ]
    },
    {
      "cell_type": "code",
      "metadata": {
        "id": "nWnrU-sFd-6Q",
        "colab": {
          "base_uri": "https://localhost:8080/"
        },
        "outputId": "d127501b-de13-452a-8e95-f502a9ed6c44"
      },
      "source": [
        "# Inspect A\n",
        "A"
      ],
      "execution_count": null,
      "outputs": [
        {
          "output_type": "execute_result",
          "data": {
            "text/plain": [
              "[42, 3.14, 'I am Text', datetime.date(2021, 1, 1), True]"
            ]
          },
          "metadata": {
            "tags": []
          },
          "execution_count": 25
        }
      ]
    },
    {
      "cell_type": "markdown",
      "metadata": {
        "id": "-IEj7HAOdLde"
      },
      "source": [
        "<br>\n",
        "\n",
        "### Accessing data in a list\n",
        "---"
      ]
    },
    {
      "cell_type": "code",
      "metadata": {
        "id": "hzcY0BTpdJQ6",
        "colab": {
          "base_uri": "https://localhost:8080/",
          "height": 35
        },
        "outputId": "aebf2490-d698-4ca8-d8df-ec27e10f939a"
      },
      "source": [
        "# Pull the 3rd element out of \"A\" using indexing\n",
        "A[2]"
      ],
      "execution_count": null,
      "outputs": [
        {
          "output_type": "execute_result",
          "data": {
            "application/vnd.google.colaboratory.intrinsic+json": {
              "type": "string"
            },
            "text/plain": [
              "'I am Text'"
            ]
          },
          "metadata": {
            "tags": []
          },
          "execution_count": 26
        }
      ]
    },
    {
      "cell_type": "markdown",
      "metadata": {
        "id": "1c6TKFy5HE76"
      },
      "source": [
        "<br><br>\n",
        "**QUICK CHALLENGE #1:**\n",
        "\n",
        "You start training to run a marathon and want to use Python to keep track of how many miles you run every day. In the first week you run the following:\n",
        "\n",
        "* 5.2 miles\n",
        "* 3.1 miles\n",
        "* 6 miles\n",
        "* 0 miles\n",
        "* 8.5 miles\n",
        "* 4.7 miles\n",
        "* 12.3 miles\n",
        "\n",
        "**Task:**\n",
        "\n",
        "*  Create a list using your daily miles ran\n",
        "*  Save that list to a variable called `week_1_miles`\n",
        "*  Calculate the total number of miles you ran in week 1\n",
        "*  Write code which shows how many miles you ran on day 5 only"
      ]
    },
    {
      "cell_type": "code",
      "metadata": {
        "id": "EJjoOtoEI0dI",
        "colab": {
          "base_uri": "https://localhost:8080/"
        },
        "outputId": "17744c7f-d512-4240-9c0e-549a93fda1c0"
      },
      "source": [
        "# Your code for quick challenge #1 here:\n",
        "week_1_miles = [5.2,3.1,6,0,8.5,4.7,12.3]\n",
        "\n",
        "np.sum(week_1_miles)\n"
      ],
      "execution_count": null,
      "outputs": [
        {
          "output_type": "execute_result",
          "data": {
            "text/plain": [
              "39.8"
            ]
          },
          "metadata": {
            "tags": []
          },
          "execution_count": 35
        }
      ]
    },
    {
      "cell_type": "code",
      "metadata": {
        "colab": {
          "base_uri": "https://localhost:8080/"
        },
        "id": "lBzhhLHPY6SO",
        "outputId": "3362fea7-1dd4-42fc-88ef-b87dafb6341a"
      },
      "source": [
        "week_1_miles [4]"
      ],
      "execution_count": null,
      "outputs": [
        {
          "output_type": "execute_result",
          "data": {
            "text/plain": [
              "8.5"
            ]
          },
          "metadata": {
            "tags": []
          },
          "execution_count": 36
        }
      ]
    },
    {
      "cell_type": "markdown",
      "metadata": {
        "id": "zActKQ8ZJZrM"
      },
      "source": [
        "<br>\n",
        "\n",
        "## Variables can store rows/columns of data\n",
        "---"
      ]
    },
    {
      "cell_type": "code",
      "metadata": {
        "id": "_cHfhlZ6JO9a"
      },
      "source": [
        "# Save rows/columns as a variable\n",
        "from vega_datasets import data\n",
        "iowa = data.iowa_electricity()"
      ],
      "execution_count": null,
      "outputs": []
    },
    {
      "cell_type": "code",
      "metadata": {
        "id": "1W2OFkXFKVrZ",
        "colab": {
          "base_uri": "https://localhost:8080/"
        },
        "outputId": "32e8e885-aefa-4ea8-faa5-53f2aaea5195"
      },
      "source": [
        "# Check type of variable\n",
        "type(iowa)"
      ],
      "execution_count": null,
      "outputs": [
        {
          "output_type": "execute_result",
          "data": {
            "text/plain": [
              "pandas.core.frame.DataFrame"
            ]
          },
          "metadata": {
            "tags": []
          },
          "execution_count": 38
        }
      ]
    },
    {
      "cell_type": "code",
      "metadata": {
        "id": "vWA5fogNKWi0",
        "colab": {
          "base_uri": "https://localhost:8080/",
          "height": 1000
        },
        "outputId": "ef87b932-f024-4498-cf06-d9f0bda769d3"
      },
      "source": [
        "# Inspect variable\n",
        "iowa"
      ],
      "execution_count": null,
      "outputs": [
        {
          "output_type": "execute_result",
          "data": {
            "text/html": [
              "<div>\n",
              "<style scoped>\n",
              "    .dataframe tbody tr th:only-of-type {\n",
              "        vertical-align: middle;\n",
              "    }\n",
              "\n",
              "    .dataframe tbody tr th {\n",
              "        vertical-align: top;\n",
              "    }\n",
              "\n",
              "    .dataframe thead th {\n",
              "        text-align: right;\n",
              "    }\n",
              "</style>\n",
              "<table border=\"1\" class=\"dataframe\">\n",
              "  <thead>\n",
              "    <tr style=\"text-align: right;\">\n",
              "      <th></th>\n",
              "      <th>year</th>\n",
              "      <th>source</th>\n",
              "      <th>net_generation</th>\n",
              "    </tr>\n",
              "  </thead>\n",
              "  <tbody>\n",
              "    <tr>\n",
              "      <th>0</th>\n",
              "      <td>2001-01-01</td>\n",
              "      <td>Fossil Fuels</td>\n",
              "      <td>35361</td>\n",
              "    </tr>\n",
              "    <tr>\n",
              "      <th>1</th>\n",
              "      <td>2002-01-01</td>\n",
              "      <td>Fossil Fuels</td>\n",
              "      <td>35991</td>\n",
              "    </tr>\n",
              "    <tr>\n",
              "      <th>2</th>\n",
              "      <td>2003-01-01</td>\n",
              "      <td>Fossil Fuels</td>\n",
              "      <td>36234</td>\n",
              "    </tr>\n",
              "    <tr>\n",
              "      <th>3</th>\n",
              "      <td>2004-01-01</td>\n",
              "      <td>Fossil Fuels</td>\n",
              "      <td>36205</td>\n",
              "    </tr>\n",
              "    <tr>\n",
              "      <th>4</th>\n",
              "      <td>2005-01-01</td>\n",
              "      <td>Fossil Fuels</td>\n",
              "      <td>36883</td>\n",
              "    </tr>\n",
              "    <tr>\n",
              "      <th>5</th>\n",
              "      <td>2006-01-01</td>\n",
              "      <td>Fossil Fuels</td>\n",
              "      <td>37014</td>\n",
              "    </tr>\n",
              "    <tr>\n",
              "      <th>6</th>\n",
              "      <td>2007-01-01</td>\n",
              "      <td>Fossil Fuels</td>\n",
              "      <td>41389</td>\n",
              "    </tr>\n",
              "    <tr>\n",
              "      <th>7</th>\n",
              "      <td>2008-01-01</td>\n",
              "      <td>Fossil Fuels</td>\n",
              "      <td>42734</td>\n",
              "    </tr>\n",
              "    <tr>\n",
              "      <th>8</th>\n",
              "      <td>2009-01-01</td>\n",
              "      <td>Fossil Fuels</td>\n",
              "      <td>38620</td>\n",
              "    </tr>\n",
              "    <tr>\n",
              "      <th>9</th>\n",
              "      <td>2010-01-01</td>\n",
              "      <td>Fossil Fuels</td>\n",
              "      <td>42750</td>\n",
              "    </tr>\n",
              "    <tr>\n",
              "      <th>10</th>\n",
              "      <td>2011-01-01</td>\n",
              "      <td>Fossil Fuels</td>\n",
              "      <td>39361</td>\n",
              "    </tr>\n",
              "    <tr>\n",
              "      <th>11</th>\n",
              "      <td>2012-01-01</td>\n",
              "      <td>Fossil Fuels</td>\n",
              "      <td>37379</td>\n",
              "    </tr>\n",
              "    <tr>\n",
              "      <th>12</th>\n",
              "      <td>2013-01-01</td>\n",
              "      <td>Fossil Fuels</td>\n",
              "      <td>34873</td>\n",
              "    </tr>\n",
              "    <tr>\n",
              "      <th>13</th>\n",
              "      <td>2014-01-01</td>\n",
              "      <td>Fossil Fuels</td>\n",
              "      <td>35250</td>\n",
              "    </tr>\n",
              "    <tr>\n",
              "      <th>14</th>\n",
              "      <td>2015-01-01</td>\n",
              "      <td>Fossil Fuels</td>\n",
              "      <td>32319</td>\n",
              "    </tr>\n",
              "    <tr>\n",
              "      <th>15</th>\n",
              "      <td>2016-01-01</td>\n",
              "      <td>Fossil Fuels</td>\n",
              "      <td>28437</td>\n",
              "    </tr>\n",
              "    <tr>\n",
              "      <th>16</th>\n",
              "      <td>2017-01-01</td>\n",
              "      <td>Fossil Fuels</td>\n",
              "      <td>29329</td>\n",
              "    </tr>\n",
              "    <tr>\n",
              "      <th>17</th>\n",
              "      <td>2001-01-01</td>\n",
              "      <td>Nuclear Energy</td>\n",
              "      <td>3853</td>\n",
              "    </tr>\n",
              "    <tr>\n",
              "      <th>18</th>\n",
              "      <td>2002-01-01</td>\n",
              "      <td>Nuclear Energy</td>\n",
              "      <td>4574</td>\n",
              "    </tr>\n",
              "    <tr>\n",
              "      <th>19</th>\n",
              "      <td>2003-01-01</td>\n",
              "      <td>Nuclear Energy</td>\n",
              "      <td>3988</td>\n",
              "    </tr>\n",
              "    <tr>\n",
              "      <th>20</th>\n",
              "      <td>2004-01-01</td>\n",
              "      <td>Nuclear Energy</td>\n",
              "      <td>4929</td>\n",
              "    </tr>\n",
              "    <tr>\n",
              "      <th>21</th>\n",
              "      <td>2005-01-01</td>\n",
              "      <td>Nuclear Energy</td>\n",
              "      <td>4538</td>\n",
              "    </tr>\n",
              "    <tr>\n",
              "      <th>22</th>\n",
              "      <td>2006-01-01</td>\n",
              "      <td>Nuclear Energy</td>\n",
              "      <td>5095</td>\n",
              "    </tr>\n",
              "    <tr>\n",
              "      <th>23</th>\n",
              "      <td>2007-01-01</td>\n",
              "      <td>Nuclear Energy</td>\n",
              "      <td>4519</td>\n",
              "    </tr>\n",
              "    <tr>\n",
              "      <th>24</th>\n",
              "      <td>2008-01-01</td>\n",
              "      <td>Nuclear Energy</td>\n",
              "      <td>5282</td>\n",
              "    </tr>\n",
              "    <tr>\n",
              "      <th>25</th>\n",
              "      <td>2009-01-01</td>\n",
              "      <td>Nuclear Energy</td>\n",
              "      <td>4679</td>\n",
              "    </tr>\n",
              "    <tr>\n",
              "      <th>26</th>\n",
              "      <td>2010-01-01</td>\n",
              "      <td>Nuclear Energy</td>\n",
              "      <td>4451</td>\n",
              "    </tr>\n",
              "    <tr>\n",
              "      <th>27</th>\n",
              "      <td>2011-01-01</td>\n",
              "      <td>Nuclear Energy</td>\n",
              "      <td>5215</td>\n",
              "    </tr>\n",
              "    <tr>\n",
              "      <th>28</th>\n",
              "      <td>2012-01-01</td>\n",
              "      <td>Nuclear Energy</td>\n",
              "      <td>4347</td>\n",
              "    </tr>\n",
              "    <tr>\n",
              "      <th>29</th>\n",
              "      <td>2013-01-01</td>\n",
              "      <td>Nuclear Energy</td>\n",
              "      <td>5321</td>\n",
              "    </tr>\n",
              "    <tr>\n",
              "      <th>30</th>\n",
              "      <td>2014-01-01</td>\n",
              "      <td>Nuclear Energy</td>\n",
              "      <td>4152</td>\n",
              "    </tr>\n",
              "    <tr>\n",
              "      <th>31</th>\n",
              "      <td>2015-01-01</td>\n",
              "      <td>Nuclear Energy</td>\n",
              "      <td>5243</td>\n",
              "    </tr>\n",
              "    <tr>\n",
              "      <th>32</th>\n",
              "      <td>2016-01-01</td>\n",
              "      <td>Nuclear Energy</td>\n",
              "      <td>4703</td>\n",
              "    </tr>\n",
              "    <tr>\n",
              "      <th>33</th>\n",
              "      <td>2017-01-01</td>\n",
              "      <td>Nuclear Energy</td>\n",
              "      <td>5214</td>\n",
              "    </tr>\n",
              "    <tr>\n",
              "      <th>34</th>\n",
              "      <td>2001-01-01</td>\n",
              "      <td>Renewables</td>\n",
              "      <td>1437</td>\n",
              "    </tr>\n",
              "    <tr>\n",
              "      <th>35</th>\n",
              "      <td>2002-01-01</td>\n",
              "      <td>Renewables</td>\n",
              "      <td>1963</td>\n",
              "    </tr>\n",
              "    <tr>\n",
              "      <th>36</th>\n",
              "      <td>2003-01-01</td>\n",
              "      <td>Renewables</td>\n",
              "      <td>1885</td>\n",
              "    </tr>\n",
              "    <tr>\n",
              "      <th>37</th>\n",
              "      <td>2004-01-01</td>\n",
              "      <td>Renewables</td>\n",
              "      <td>2102</td>\n",
              "    </tr>\n",
              "    <tr>\n",
              "      <th>38</th>\n",
              "      <td>2005-01-01</td>\n",
              "      <td>Renewables</td>\n",
              "      <td>2724</td>\n",
              "    </tr>\n",
              "    <tr>\n",
              "      <th>39</th>\n",
              "      <td>2006-01-01</td>\n",
              "      <td>Renewables</td>\n",
              "      <td>3364</td>\n",
              "    </tr>\n",
              "    <tr>\n",
              "      <th>40</th>\n",
              "      <td>2007-01-01</td>\n",
              "      <td>Renewables</td>\n",
              "      <td>3870</td>\n",
              "    </tr>\n",
              "    <tr>\n",
              "      <th>41</th>\n",
              "      <td>2008-01-01</td>\n",
              "      <td>Renewables</td>\n",
              "      <td>5070</td>\n",
              "    </tr>\n",
              "    <tr>\n",
              "      <th>42</th>\n",
              "      <td>2009-01-01</td>\n",
              "      <td>Renewables</td>\n",
              "      <td>8560</td>\n",
              "    </tr>\n",
              "    <tr>\n",
              "      <th>43</th>\n",
              "      <td>2010-01-01</td>\n",
              "      <td>Renewables</td>\n",
              "      <td>10308</td>\n",
              "    </tr>\n",
              "    <tr>\n",
              "      <th>44</th>\n",
              "      <td>2011-01-01</td>\n",
              "      <td>Renewables</td>\n",
              "      <td>11795</td>\n",
              "    </tr>\n",
              "    <tr>\n",
              "      <th>45</th>\n",
              "      <td>2012-01-01</td>\n",
              "      <td>Renewables</td>\n",
              "      <td>14949</td>\n",
              "    </tr>\n",
              "    <tr>\n",
              "      <th>46</th>\n",
              "      <td>2013-01-01</td>\n",
              "      <td>Renewables</td>\n",
              "      <td>16476</td>\n",
              "    </tr>\n",
              "    <tr>\n",
              "      <th>47</th>\n",
              "      <td>2014-01-01</td>\n",
              "      <td>Renewables</td>\n",
              "      <td>17452</td>\n",
              "    </tr>\n",
              "    <tr>\n",
              "      <th>48</th>\n",
              "      <td>2015-01-01</td>\n",
              "      <td>Renewables</td>\n",
              "      <td>19091</td>\n",
              "    </tr>\n",
              "    <tr>\n",
              "      <th>49</th>\n",
              "      <td>2016-01-01</td>\n",
              "      <td>Renewables</td>\n",
              "      <td>21241</td>\n",
              "    </tr>\n",
              "    <tr>\n",
              "      <th>50</th>\n",
              "      <td>2017-01-01</td>\n",
              "      <td>Renewables</td>\n",
              "      <td>21933</td>\n",
              "    </tr>\n",
              "  </tbody>\n",
              "</table>\n",
              "</div>"
            ],
            "text/plain": [
              "         year          source  net_generation\n",
              "0  2001-01-01    Fossil Fuels           35361\n",
              "1  2002-01-01    Fossil Fuels           35991\n",
              "2  2003-01-01    Fossil Fuels           36234\n",
              "3  2004-01-01    Fossil Fuels           36205\n",
              "4  2005-01-01    Fossil Fuels           36883\n",
              "5  2006-01-01    Fossil Fuels           37014\n",
              "6  2007-01-01    Fossil Fuels           41389\n",
              "7  2008-01-01    Fossil Fuels           42734\n",
              "8  2009-01-01    Fossil Fuels           38620\n",
              "9  2010-01-01    Fossil Fuels           42750\n",
              "10 2011-01-01    Fossil Fuels           39361\n",
              "11 2012-01-01    Fossil Fuels           37379\n",
              "12 2013-01-01    Fossil Fuels           34873\n",
              "13 2014-01-01    Fossil Fuels           35250\n",
              "14 2015-01-01    Fossil Fuels           32319\n",
              "15 2016-01-01    Fossil Fuels           28437\n",
              "16 2017-01-01    Fossil Fuels           29329\n",
              "17 2001-01-01  Nuclear Energy            3853\n",
              "18 2002-01-01  Nuclear Energy            4574\n",
              "19 2003-01-01  Nuclear Energy            3988\n",
              "20 2004-01-01  Nuclear Energy            4929\n",
              "21 2005-01-01  Nuclear Energy            4538\n",
              "22 2006-01-01  Nuclear Energy            5095\n",
              "23 2007-01-01  Nuclear Energy            4519\n",
              "24 2008-01-01  Nuclear Energy            5282\n",
              "25 2009-01-01  Nuclear Energy            4679\n",
              "26 2010-01-01  Nuclear Energy            4451\n",
              "27 2011-01-01  Nuclear Energy            5215\n",
              "28 2012-01-01  Nuclear Energy            4347\n",
              "29 2013-01-01  Nuclear Energy            5321\n",
              "30 2014-01-01  Nuclear Energy            4152\n",
              "31 2015-01-01  Nuclear Energy            5243\n",
              "32 2016-01-01  Nuclear Energy            4703\n",
              "33 2017-01-01  Nuclear Energy            5214\n",
              "34 2001-01-01      Renewables            1437\n",
              "35 2002-01-01      Renewables            1963\n",
              "36 2003-01-01      Renewables            1885\n",
              "37 2004-01-01      Renewables            2102\n",
              "38 2005-01-01      Renewables            2724\n",
              "39 2006-01-01      Renewables            3364\n",
              "40 2007-01-01      Renewables            3870\n",
              "41 2008-01-01      Renewables            5070\n",
              "42 2009-01-01      Renewables            8560\n",
              "43 2010-01-01      Renewables           10308\n",
              "44 2011-01-01      Renewables           11795\n",
              "45 2012-01-01      Renewables           14949\n",
              "46 2013-01-01      Renewables           16476\n",
              "47 2014-01-01      Renewables           17452\n",
              "48 2015-01-01      Renewables           19091\n",
              "49 2016-01-01      Renewables           21241\n",
              "50 2017-01-01      Renewables           21933"
            ]
          },
          "metadata": {
            "tags": []
          },
          "execution_count": 39
        }
      ]
    }
  ]
}