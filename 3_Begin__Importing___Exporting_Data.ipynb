{
  "nbformat": 4,
  "nbformat_minor": 0,
  "metadata": {
    "colab": {
      "name": "3-Begin_ Importing _ Exporting Data.ipynb",
      "provenance": [],
      "collapsed_sections": [],
      "include_colab_link": true
    },
    "kernelspec": {
      "name": "python3",
      "display_name": "Python 3"
    }
  },
  "cells": [
    {
      "cell_type": "markdown",
      "metadata": {
        "id": "view-in-github",
        "colab_type": "text"
      },
      "source": [
        "<a href=\"https://colab.research.google.com/github/Mrcwr2/Python_Excel/blob/main/3_Begin__Importing___Exporting_Data.ipynb\" target=\"_parent\"><img src=\"https://colab.research.google.com/assets/colab-badge.svg\" alt=\"Open In Colab\"/></a>"
      ]
    },
    {
      "cell_type": "markdown",
      "metadata": {
        "id": "Beh6bUquc8zo"
      },
      "source": [
        "# Importing and Exporting data\n",
        "---"
      ]
    },
    {
      "cell_type": "markdown",
      "metadata": {
        "id": "tZvki-jlgT74"
      },
      "source": [
        "## **Excel:**\n",
        "\n",
        "*   Data is imported by opening CSV, XLSX, or other text file\n",
        "*   Other methods include copy+paste, loading from a database, web"
      ]
    },
    {
      "cell_type": "markdown",
      "metadata": {
        "id": "vt51oJsCgUEY"
      },
      "source": [
        "## **Python:**\n",
        "\n",
        "\n",
        "\n",
        "*   Can load from same sources as Excel and more\n",
        "*   Can import directly from web URLs\n",
        "*   This course will focus on CSV & Excel Files\n",
        "\n",
        "<br>\n",
        "\n",
        "**Loading an Excel file:**\n",
        "\n",
        "    data = pd.read_excel('filename.xlsx', sheet_name='sheet_name_in_workbook')\n",
        "\n",
        "<br>\n",
        "\n",
        "**Loading a CSV file**\n",
        "\n",
        "    data = pd.read_csv('filename.csv')\n",
        "\n",
        "<br>\n",
        "\n",
        "**Exporting data**\n",
        "\n",
        "    data.to_csv('exported_filename.csv')\n",
        "    data.to_excel('exported_filename.xlsx')\n",
        "\n",
        "<br>\n"
      ]
    },
    {
      "cell_type": "markdown",
      "metadata": {
        "id": "UjloeoGuf59p"
      },
      "source": [
        "### Load required packages\n",
        "---"
      ]
    },
    {
      "cell_type": "code",
      "metadata": {
        "id": "pcE7zoCrf6PK"
      },
      "source": [
        "# Import required packages\n",
        "import numpy as np\n",
        "import pandas as pd\n",
        "import matplotlib.pyplot as plt"
      ],
      "execution_count": null,
      "outputs": []
    },
    {
      "cell_type": "markdown",
      "metadata": {
        "id": "yuQwfaSdhYue"
      },
      "source": [
        "<br><br>\n",
        "\n",
        "### Import data from session storage (temporary, applies to this notebook only)\n",
        "---"
      ]
    },
    {
      "cell_type": "markdown",
      "metadata": {
        "id": "bINQRPPH2XcG"
      },
      "source": [
        "![upload-to-session.png](data:image/png;base64,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)"
      ]
    },
    {
      "cell_type": "code",
      "metadata": {
        "id": "3m4QhCsriPup",
        "colab": {
          "base_uri": "https://localhost:8080/",
          "height": 129
        },
        "outputId": "36330f7a-40f9-4510-cd41-097c10b4d072"
      },
      "source": [
        "# Load \"failed_banks.xlsx\"\n",
        "failed_bank_path = "
      ],
      "execution_count": null,
      "outputs": [
        {
          "output_type": "error",
          "ename": "SyntaxError",
          "evalue": "ignored",
          "traceback": [
            "\u001b[0;36m  File \u001b[0;32m\"<ipython-input-8-1a2055befefd>\"\u001b[0;36m, line \u001b[0;32m2\u001b[0m\n\u001b[0;31m    failed_bank_path =\u001b[0m\n\u001b[0m                       ^\u001b[0m\n\u001b[0;31mSyntaxError\u001b[0m\u001b[0;31m:\u001b[0m invalid syntax\n"
          ]
        }
      ]
    },
    {
      "cell_type": "markdown",
      "metadata": {
        "id": "XUxqxN3TnfSH"
      },
      "source": [
        "<br>"
      ]
    },
    {
      "cell_type": "code",
      "metadata": {
        "id": "54aoXzNvjgqT"
      },
      "source": [
        "# Inspect bank_detail"
      ],
      "execution_count": null,
      "outputs": []
    },
    {
      "cell_type": "markdown",
      "metadata": {
        "id": "58pTp_svnf-z"
      },
      "source": [
        "<br>"
      ]
    },
    {
      "cell_type": "code",
      "metadata": {
        "id": "8GEX22AFjs8P"
      },
      "source": [
        "# Load the \"cars.csv\" file\n",
        "cars_data = 'https://raw.githubusercontent.com/The-Calculated-Life/python_analysis_for_excel/main/data/cars.csv'"
      ],
      "execution_count": null,
      "outputs": []
    },
    {
      "cell_type": "markdown",
      "metadata": {
        "id": "wivi84RNnhT6"
      },
      "source": [
        "<br>"
      ]
    },
    {
      "cell_type": "code",
      "metadata": {
        "id": "YDK9FHbTj-4-",
        "colab": {
          "base_uri": "https://localhost:8080/",
          "height": 35
        },
        "outputId": "f5cccdca-6bc6-4990-be27-7eea80265e94"
      },
      "source": [
        "# Inspect cars_data\n",
        "cars_data"
      ],
      "execution_count": null,
      "outputs": [
        {
          "output_type": "execute_result",
          "data": {
            "application/vnd.google.colaboratory.intrinsic+json": {
              "type": "string"
            },
            "text/plain": [
              "'https://raw.githubusercontent.com/The-Calculated-Life/python_analysis_for_excel/main/data/cars.csv'"
            ]
          },
          "metadata": {},
          "execution_count": 7
        }
      ]
    },
    {
      "cell_type": "markdown",
      "metadata": {
        "id": "EfvhtIYthjBt"
      },
      "source": [
        "<br><br>\n",
        "\n",
        "### Import data from URL\n",
        "---"
      ]
    },
    {
      "cell_type": "markdown",
      "metadata": {
        "id": "FBqejgCtlG1c"
      },
      "source": [
        "# **[GitHub Course Files Link](https://github.com/The-Calculated-Life/python_analysis_for_excel/tree/main/data)**"
      ]
    },
    {
      "cell_type": "code",
      "metadata": {
        "id": "Y54K9ABbyfDU"
      },
      "source": [
        "# URL for \"failed_bank.xlsx\"\n",
        "failed_bank_path = 'https://github.com/The-Calculated-Life/python_analysis_for_excel/blob/main/data/failed_banks.xlsx?raw=True'"
      ],
      "execution_count": null,
      "outputs": []
    },
    {
      "cell_type": "markdown",
      "metadata": {
        "id": "kk1DlBHcniLt"
      },
      "source": [
        "<br>"
      ]
    },
    {
      "cell_type": "code",
      "metadata": {
        "id": "VO-NyJ48ykjb"
      },
      "source": [
        "# Feed URL into appropriate read function"
      ],
      "execution_count": null,
      "outputs": []
    },
    {
      "cell_type": "markdown",
      "metadata": {
        "id": "cNANyUnTnieK"
      },
      "source": [
        "<br>"
      ]
    },
    {
      "cell_type": "code",
      "metadata": {
        "id": "pd8p9h7Sy-C2"
      },
      "source": [
        "# Inspect data\n",
        "bank_detail_web"
      ],
      "execution_count": null,
      "outputs": []
    },
    {
      "cell_type": "markdown",
      "metadata": {
        "id": "p4QpEZB-m6-r"
      },
      "source": [
        "<br>"
      ]
    },
    {
      "cell_type": "code",
      "metadata": {
        "id": "cH4Ye1Rqlks_"
      },
      "source": [
        "# Save desired URL to a variable (wrapped in quotations/ticks)\n",
        "cars_path = 'https://raw.githubusercontent.com/The-Calculated-Life/python_analysis_for_excel/main/data/cars.csv'"
      ],
      "execution_count": null,
      "outputs": []
    },
    {
      "cell_type": "markdown",
      "metadata": {
        "id": "W-6Tv_aBnjR4"
      },
      "source": [
        "<br>"
      ]
    },
    {
      "cell_type": "code",
      "metadata": {
        "id": "EU12z9sulwi6"
      },
      "source": [
        "# Feed URL into the appropriate function\n",
        "cars_data_web = pd.read_csv (cars_path)"
      ],
      "execution_count": null,
      "outputs": []
    },
    {
      "cell_type": "markdown",
      "metadata": {
        "id": "eIBtzEQJnjkh"
      },
      "source": [
        "<br>"
      ]
    },
    {
      "cell_type": "code",
      "metadata": {
        "id": "akRWMxaJl8dz",
        "colab": {
          "base_uri": "https://localhost:8080/",
          "height": 419
        },
        "outputId": "16f8124e-0ccc-42dc-d53b-98de4fcc7aab"
      },
      "source": [
        "# Inspect result\n",
        "cars_data_web"
      ],
      "execution_count": null,
      "outputs": [
        {
          "output_type": "execute_result",
          "data": {
            "text/html": [
              "<div>\n",
              "<style scoped>\n",
              "    .dataframe tbody tr th:only-of-type {\n",
              "        vertical-align: middle;\n",
              "    }\n",
              "\n",
              "    .dataframe tbody tr th {\n",
              "        vertical-align: top;\n",
              "    }\n",
              "\n",
              "    .dataframe thead th {\n",
              "        text-align: right;\n",
              "    }\n",
              "</style>\n",
              "<table border=\"1\" class=\"dataframe\">\n",
              "  <thead>\n",
              "    <tr style=\"text-align: right;\">\n",
              "      <th></th>\n",
              "      <th>Name</th>\n",
              "      <th>Miles_per_Gallon</th>\n",
              "      <th>Cylinders</th>\n",
              "      <th>Displacement</th>\n",
              "      <th>Horsepower</th>\n",
              "      <th>Weight_in_lbs</th>\n",
              "      <th>Acceleration</th>\n",
              "      <th>Year</th>\n",
              "      <th>Origin</th>\n",
              "    </tr>\n",
              "  </thead>\n",
              "  <tbody>\n",
              "    <tr>\n",
              "      <th>0</th>\n",
              "      <td>chevrolet chevelle malibu</td>\n",
              "      <td>18.0</td>\n",
              "      <td>8</td>\n",
              "      <td>307.0</td>\n",
              "      <td>130.0</td>\n",
              "      <td>3504</td>\n",
              "      <td>12.0</td>\n",
              "      <td>1/1/1970</td>\n",
              "      <td>USA</td>\n",
              "    </tr>\n",
              "    <tr>\n",
              "      <th>1</th>\n",
              "      <td>buick skylark 320</td>\n",
              "      <td>15.0</td>\n",
              "      <td>8</td>\n",
              "      <td>350.0</td>\n",
              "      <td>165.0</td>\n",
              "      <td>3693</td>\n",
              "      <td>11.5</td>\n",
              "      <td>1/1/1970</td>\n",
              "      <td>USA</td>\n",
              "    </tr>\n",
              "    <tr>\n",
              "      <th>2</th>\n",
              "      <td>plymouth satellite</td>\n",
              "      <td>18.0</td>\n",
              "      <td>8</td>\n",
              "      <td>318.0</td>\n",
              "      <td>150.0</td>\n",
              "      <td>3436</td>\n",
              "      <td>11.0</td>\n",
              "      <td>1/1/1970</td>\n",
              "      <td>USA</td>\n",
              "    </tr>\n",
              "    <tr>\n",
              "      <th>3</th>\n",
              "      <td>amc rebel sst</td>\n",
              "      <td>16.0</td>\n",
              "      <td>8</td>\n",
              "      <td>304.0</td>\n",
              "      <td>150.0</td>\n",
              "      <td>3433</td>\n",
              "      <td>12.0</td>\n",
              "      <td>1/1/1970</td>\n",
              "      <td>USA</td>\n",
              "    </tr>\n",
              "    <tr>\n",
              "      <th>4</th>\n",
              "      <td>ford torino</td>\n",
              "      <td>17.0</td>\n",
              "      <td>8</td>\n",
              "      <td>302.0</td>\n",
              "      <td>140.0</td>\n",
              "      <td>3449</td>\n",
              "      <td>10.5</td>\n",
              "      <td>1/1/1970</td>\n",
              "      <td>USA</td>\n",
              "    </tr>\n",
              "    <tr>\n",
              "      <th>...</th>\n",
              "      <td>...</td>\n",
              "      <td>...</td>\n",
              "      <td>...</td>\n",
              "      <td>...</td>\n",
              "      <td>...</td>\n",
              "      <td>...</td>\n",
              "      <td>...</td>\n",
              "      <td>...</td>\n",
              "      <td>...</td>\n",
              "    </tr>\n",
              "    <tr>\n",
              "      <th>401</th>\n",
              "      <td>ford mustang gl</td>\n",
              "      <td>27.0</td>\n",
              "      <td>4</td>\n",
              "      <td>140.0</td>\n",
              "      <td>86.0</td>\n",
              "      <td>2790</td>\n",
              "      <td>15.6</td>\n",
              "      <td>1/1/1982</td>\n",
              "      <td>USA</td>\n",
              "    </tr>\n",
              "    <tr>\n",
              "      <th>402</th>\n",
              "      <td>vw pickup</td>\n",
              "      <td>44.0</td>\n",
              "      <td>4</td>\n",
              "      <td>97.0</td>\n",
              "      <td>52.0</td>\n",
              "      <td>2130</td>\n",
              "      <td>24.6</td>\n",
              "      <td>1/1/1982</td>\n",
              "      <td>Europe</td>\n",
              "    </tr>\n",
              "    <tr>\n",
              "      <th>403</th>\n",
              "      <td>dodge rampage</td>\n",
              "      <td>32.0</td>\n",
              "      <td>4</td>\n",
              "      <td>135.0</td>\n",
              "      <td>84.0</td>\n",
              "      <td>2295</td>\n",
              "      <td>11.6</td>\n",
              "      <td>1/1/1982</td>\n",
              "      <td>USA</td>\n",
              "    </tr>\n",
              "    <tr>\n",
              "      <th>404</th>\n",
              "      <td>ford ranger</td>\n",
              "      <td>28.0</td>\n",
              "      <td>4</td>\n",
              "      <td>120.0</td>\n",
              "      <td>79.0</td>\n",
              "      <td>2625</td>\n",
              "      <td>18.6</td>\n",
              "      <td>1/1/1982</td>\n",
              "      <td>USA</td>\n",
              "    </tr>\n",
              "    <tr>\n",
              "      <th>405</th>\n",
              "      <td>chevy s-10</td>\n",
              "      <td>31.0</td>\n",
              "      <td>4</td>\n",
              "      <td>119.0</td>\n",
              "      <td>82.0</td>\n",
              "      <td>2720</td>\n",
              "      <td>19.4</td>\n",
              "      <td>1/1/1982</td>\n",
              "      <td>USA</td>\n",
              "    </tr>\n",
              "  </tbody>\n",
              "</table>\n",
              "<p>406 rows × 9 columns</p>\n",
              "</div>"
            ],
            "text/plain": [
              "                          Name  Miles_per_Gallon  ...      Year  Origin\n",
              "0    chevrolet chevelle malibu              18.0  ...  1/1/1970     USA\n",
              "1            buick skylark 320              15.0  ...  1/1/1970     USA\n",
              "2           plymouth satellite              18.0  ...  1/1/1970     USA\n",
              "3                amc rebel sst              16.0  ...  1/1/1970     USA\n",
              "4                  ford torino              17.0  ...  1/1/1970     USA\n",
              "..                         ...               ...  ...       ...     ...\n",
              "401            ford mustang gl              27.0  ...  1/1/1982     USA\n",
              "402                  vw pickup              44.0  ...  1/1/1982  Europe\n",
              "403              dodge rampage              32.0  ...  1/1/1982     USA\n",
              "404                ford ranger              28.0  ...  1/1/1982     USA\n",
              "405                 chevy s-10              31.0  ...  1/1/1982     USA\n",
              "\n",
              "[406 rows x 9 columns]"
            ]
          },
          "metadata": {
            "tags": []
          },
          "execution_count": 33
        }
      ]
    },
    {
      "cell_type": "markdown",
      "metadata": {
        "id": "h1bj7myIzWmj"
      },
      "source": [
        "<br><br>\n",
        "**QUICK CHALLENGE #1:**\n",
        "\n",
        "Python can load data from many sources, including from a web URL. \n",
        "\n",
        "We are going to use many different real world datasets throughout the course. One of the datasets you are going to use for many of the quick challenges is the Book-Crossing Book Rating data. The original data comes from [Kaggle.com](https://www.kaggle.com/ruchi798/bookcrossing-dataset) but has been uploaded to the GitHub page for the course for easy access.\n",
        "\n",
        "<br>\n",
        "\n",
        "**Task:**\n",
        "\n",
        "*  Load the `bx_books.csv` file from the GitHub page ([Link to data](https://github.com/The-Calculated-Life/python_analysis_for_excel/tree/main/data))\n",
        "*  Save the data in a variable called `bx_books`"
      ]
    },
    {
      "cell_type": "code",
      "metadata": {
        "id": "VGKQvr1Y0vY5"
      },
      "source": [
        "bx_books_path = 'https://raw.githubusercontent.com/The-Calculated-Life/python_analysis_for_excel/main/data/bx_books.csv'\n",
        "\n",
        "# Your code for quick challenge #1 here:"
      ],
      "execution_count": null,
      "outputs": []
    },
    {
      "cell_type": "code",
      "metadata": {
        "id": "ITUXk29kFpTb"
      },
      "source": [
        "# my URL Feed\n",
        "bx_books = pd.read_csv(bx_books_path)"
      ],
      "execution_count": null,
      "outputs": []
    },
    {
      "cell_type": "code",
      "metadata": {
        "id": "c3Rj83dT03FF",
        "colab": {
          "base_uri": "https://localhost:8080/",
          "height": 419
        },
        "outputId": "07352e74-a742-4e32-b564-74632cacb3b2"
      },
      "source": [
        "bx_books"
      ],
      "execution_count": null,
      "outputs": [
        {
          "output_type": "execute_result",
          "data": {
            "text/html": [
              "<div>\n",
              "<style scoped>\n",
              "    .dataframe tbody tr th:only-of-type {\n",
              "        vertical-align: middle;\n",
              "    }\n",
              "\n",
              "    .dataframe tbody tr th {\n",
              "        vertical-align: top;\n",
              "    }\n",
              "\n",
              "    .dataframe thead th {\n",
              "        text-align: right;\n",
              "    }\n",
              "</style>\n",
              "<table border=\"1\" class=\"dataframe\">\n",
              "  <thead>\n",
              "    <tr style=\"text-align: right;\">\n",
              "      <th></th>\n",
              "      <th>isbn</th>\n",
              "      <th>book_title</th>\n",
              "      <th>book_author</th>\n",
              "      <th>year_of_publication</th>\n",
              "      <th>publisher</th>\n",
              "    </tr>\n",
              "  </thead>\n",
              "  <tbody>\n",
              "    <tr>\n",
              "      <th>0</th>\n",
              "      <td>195153448</td>\n",
              "      <td>Classical Mythology</td>\n",
              "      <td>Mark P. O. Morford</td>\n",
              "      <td>2002</td>\n",
              "      <td>Oxford University Press</td>\n",
              "    </tr>\n",
              "    <tr>\n",
              "      <th>1</th>\n",
              "      <td>2005018</td>\n",
              "      <td>Clara Callan</td>\n",
              "      <td>Richard Bruce Wright</td>\n",
              "      <td>2001</td>\n",
              "      <td>HarperFlamingo Canada</td>\n",
              "    </tr>\n",
              "    <tr>\n",
              "      <th>2</th>\n",
              "      <td>60973129</td>\n",
              "      <td>Decision in Normandy</td>\n",
              "      <td>Carlo D'Este</td>\n",
              "      <td>1991</td>\n",
              "      <td>HarperPerennial</td>\n",
              "    </tr>\n",
              "    <tr>\n",
              "      <th>3</th>\n",
              "      <td>374157065</td>\n",
              "      <td>Flu: The Story of the Great Influenza Pandemic...</td>\n",
              "      <td>Gina Bari Kolata</td>\n",
              "      <td>1999</td>\n",
              "      <td>Farrar Straus Giroux</td>\n",
              "    </tr>\n",
              "    <tr>\n",
              "      <th>4</th>\n",
              "      <td>393045218</td>\n",
              "      <td>The Mummies of Urumchi</td>\n",
              "      <td>E. J. W. Barber</td>\n",
              "      <td>1999</td>\n",
              "      <td>W. W. Norton &amp;amp; Company</td>\n",
              "    </tr>\n",
              "    <tr>\n",
              "      <th>...</th>\n",
              "      <td>...</td>\n",
              "      <td>...</td>\n",
              "      <td>...</td>\n",
              "      <td>...</td>\n",
              "      <td>...</td>\n",
              "    </tr>\n",
              "    <tr>\n",
              "      <th>271374</th>\n",
              "      <td>440400988</td>\n",
              "      <td>There's a Bat in Bunk Five</td>\n",
              "      <td>Paula Danziger</td>\n",
              "      <td>1988</td>\n",
              "      <td>Random House Childrens Pub (Mm)</td>\n",
              "    </tr>\n",
              "    <tr>\n",
              "      <th>271375</th>\n",
              "      <td>525447644</td>\n",
              "      <td>From One to One Hundred</td>\n",
              "      <td>Teri Sloat</td>\n",
              "      <td>1991</td>\n",
              "      <td>Dutton Books</td>\n",
              "    </tr>\n",
              "    <tr>\n",
              "      <th>271376</th>\n",
              "      <td>006008667X</td>\n",
              "      <td>Lily Dale : The True Story of the Town that Ta...</td>\n",
              "      <td>Christine Wicker</td>\n",
              "      <td>2004</td>\n",
              "      <td>HarperSanFrancisco</td>\n",
              "    </tr>\n",
              "    <tr>\n",
              "      <th>271377</th>\n",
              "      <td>192126040</td>\n",
              "      <td>Republic (World's Classics)</td>\n",
              "      <td>Plato</td>\n",
              "      <td>1996</td>\n",
              "      <td>Oxford University Press</td>\n",
              "    </tr>\n",
              "    <tr>\n",
              "      <th>271378</th>\n",
              "      <td>767409752</td>\n",
              "      <td>A Guided Tour of Rene Descartes' Meditations o...</td>\n",
              "      <td>Christopher  Biffle</td>\n",
              "      <td>2000</td>\n",
              "      <td>McGraw-Hill Humanities/Social Sciences/Languages</td>\n",
              "    </tr>\n",
              "  </tbody>\n",
              "</table>\n",
              "<p>271379 rows × 5 columns</p>\n",
              "</div>"
            ],
            "text/plain": [
              "              isbn  ...                                         publisher\n",
              "0        195153448  ...                           Oxford University Press\n",
              "1          2005018  ...                             HarperFlamingo Canada\n",
              "2         60973129  ...                                   HarperPerennial\n",
              "3        374157065  ...                              Farrar Straus Giroux\n",
              "4        393045218  ...                        W. W. Norton &amp; Company\n",
              "...            ...  ...                                               ...\n",
              "271374   440400988  ...                   Random House Childrens Pub (Mm)\n",
              "271375   525447644  ...                                      Dutton Books\n",
              "271376  006008667X  ...                                HarperSanFrancisco\n",
              "271377   192126040  ...                           Oxford University Press\n",
              "271378   767409752  ...  McGraw-Hill Humanities/Social Sciences/Languages\n",
              "\n",
              "[271379 rows x 5 columns]"
            ]
          },
          "metadata": {
            "tags": []
          },
          "execution_count": 38
        }
      ]
    },
    {
      "cell_type": "markdown",
      "metadata": {
        "id": "PqR1KXwhhjKC"
      },
      "source": [
        "<br><br>\n",
        "\n",
        "### Import data from Google Drive\n",
        "---"
      ]
    },
    {
      "cell_type": "markdown",
      "metadata": {
        "id": "-TOiW5yR1j1W"
      },
      "source": [
        "##### Option 1: In Left Navigation\n"
      ]
    },
    {
      "cell_type": "markdown",
      "metadata": {
        "id": "4DnWPzVM1yiY"
      },
      "source": [
        "![mount-drive.png](data:image/png;base64,iVBORw0KGgoAAAANSUhEUgAAAPsAAACUCAYAAABV0F8pAAAAAXNSR0IArs4c6QAAAARnQU1BAACxjwv8YQUAAAAJcEhZcwAAEnQAABJ0Ad5mH3gAABiiSURBVHhe7Z15bFT3tcfR09OTnvpP26eqW5I2Tdo0SaOkT1Wa/hFRPaVV1aY0atIoJG3ShiakpaGBhLCFrRDC5oXVmGBsNrOZrezYYIONjbHBeMULxsYrBgMxGDBgOM+fn+81wzC2x4ztWe75SEeeuXPv3OuZ+f5+53d+v3vOAFEUxRGo2BXFIajYFcUhqNgVxSGo2BXFIajYFcUhqNgVxSGo2BXFIajYFcUhqNgVxSGo2BXFIajYFcUhqNgVxSGo2BUlwCktLZX9+/dbz+6ltrZWdu/eLS0tLdYWz6jYFSWAuX37tsTHx8vgwYNl27Zt5rkrDQ0N8sknn8i7774rp0+ftrZ6RsWuKAFOc3OzLFy4sEPwNgh9woQJMmTIEMnOzra2do6KXVGCgCtXrsj8+fON4Hfu3ClnzpyRiRMnyttvvy1ZWVnWXl3jk9hxKc6dOyfXr18344VLly51alevXrWO6hk3btyQkpISyc3NNXb8+HHzvKmpSSIiIiQxMVFu3bol5eXlZpuihCoIftGiRaYn/+c//yl///vfvRY6+CR2xgickODB3r17Zdy4cTJ58uR7bPz48bJmzRrrqJ5RVVUlzz33nDz66KPyxBNPyA9+8AP57W9/K2VlZfKnP/1JYmJizIfwm9/8xrR4ihLKoLmhQ4fKK6+8ItHR0dZW7/BJ7PTYa9euNb0qoszIyJDMzMx7jO1EFO8H/rlf/OIXkp6eLpcvXzaGuPEq6NGB6/jd735nIpKKEqqcPXvWuO50sP/617/krbfeku3bt1uvdk/Aj9ltsbs3Fq2trTJ9+nRJSUkxQwRXsbMvbs6vf/1r8xe3H86fPy/Tpk0z2xnr0Ai5RzcVJRAhGOc6Ruc3zxj+9ddflx07dlh7dY3PPfvq1atNz47t27fPiM/d2F5QUGAd1TPwGAYOHCgvv/yyGav8+c9/lnXr1hmx485s3rxZrl27ZsSelJRk5hxfe+01mTt3ruzatUtmz55tjiWgwbaXXnpJUlNTZcGCBRIWFtbhHShKoFJXV2ei7gj9yJEj1lYxgud3/MYbb5ge/ubNm9YrnvFJ7NXV1fLee+9JcnKyEfSkSZNMz+lubF+/fr11VM9A7D//+c/lb3/7m2nZGP/TgyP2YcOGydatWzvETuyA2MDTTz9tGgbmHmkcnnnmGXN92O9//3sz1jl8+LAJ/ilKIIPnuXz5cvM7dhW6DYKfN2+e+b1XVlZaWz3jsxv/xRdfmBYF8RGR78zuV1i2G19cXGxtaYdzMnaxxU6PjZgRMoImgIe3cerUKWOM8zkGl56G54MPPpCRI0dqBF8JeBirFxYWWs/uBQ3m5eUZDXaFT2Kn1eFECBl3mL+dWXcX0hmI/YUXXjBTbq4gXHp7W+yDBg3qGC48//zzsnTpUuP+sAhh1KhRZooQNx53iO2Mc372s5/d04goSqjik9gR4jvvvGPGyghtypQpJmjmbmxPSEiwjuoZnONXv/qVmWN3BbH/4x//kH//+99G7PTmTP8BY/Vf/vKX8v3vf994BTQINEa0jgQ0mL5jOm/JkiXmfRTFCfgcoEPEFRUVxm1GbPbY2NXYjptxP+AR4MbgHbhz4cIFM2axF/cgehum6OjBuUZXGFKwnci8ojgJn8fsiqIEByp2RXEIKnZFcQgqdkVxCCp2RXEIKnZFcQgqdkVxCCr2IOR6ba2Uf/yx5L7wgqR95SuSMmBAnxnvz3k4H+dVghcVe5BRHxcnh776VY/C7GvjvJxfCU5U7EEEQvMkwv42FXxwomIPEnCh/dWjuxvXoS598KFiDxIYM3sSnr+M61GCCxV7kECQzF1w2T/+sVxvaLD26Bt4f87jfm6uRwkuVOxBgqeoe18L3YbzuJ+b61GCi5ATO7e5cjvt0aNH5dixYx1GxQxuxQ1W3MWG9Sf+Pr/iOyH1jZGgYvHixfLmm2+aNLvuRrILhB+M+Fts/j6/4jsh9Y2RmIIEmBSOIO+cnfUWIwstRSXIW0ev39vQ0JDhk6w85PTGeIzl5ORYe90/3oqN7Lok2iRNF0k4MQpokJzTl4Qd3p5fCVxCUuykoXKHHPFk6OwrwTc2NsqIESNMLa4//vGPHUaaX4S2Z8+ejoIZtlH4guvgurvDW7GRifRrX/uafPvb377Lvv71r5uUXFu2bDEN36ZNm8xjPiueu+f4c8fb8yuBS0iKnR+vO+SKtwXIj579etOlJ4k/2WppTBhG2MbwgW2Y+7CC19nu6Xrd8VZs5NV74IEH5OGHH77H2E7+vWeffdYYj7/73e/Kd77zHZNuu6ioyHqXe/H2/Erg4hixI2zqWGNkmCVRJi52b4HY6cEpYFFTU+O1jR07ViIjI7utTOOt2D7//PNOxf7ggw+alNsMcXD3SQb6rW99y4id17uqleft+ZXAxTFiB5JT2kbpHApR9haIneGBneHWWyh82R9if+ihh+QnP/mJxMbGmuEEkLCTAhy4+Y888ojJytsZ3p5fCVwcIXZqv5H91pWoqChTXaa3sMXe0+KSjJXz8/P7XOzf/OY3Zc6cOWYfMgKT7x/i4+PN/t/73vdU7CFOyIv9xIkTMnz4cDOexm22oc61P8ROZRr2WbhwoaxcudLksudxbwXIPImd5/TgXCNQrotzA7X1Kf+Li69iD2169Rvrrnfqa9zFTnUYhG5HxRE3tePAH2JH6LNmzTLTckzTUaqKcT5TZZ7qeLnirdg8iZ0x+YYNG8zrfEd8Rj/96U/N4iOKcKxatcoE6nTMHtr0yjdGQQYExtiTInMUhvBHpRV3sUdERMiYMWPko48+MkUhKd9M4Ufwh9iZ6mKMjuiBa6GEFdU5u5sK9FZs7mLn8YsvvthxTmYl2IfPiOvBaHhoDD1NWdp4e34lcPH5G2OhBj9ggl30HpRwxmVG9IivP3EXO5VkKNVM1J1etL6+vmOs2ldiT0xMtLbcC0FB5tuBHpblu9SaIzpOg9kV3orNXez02E8++aSZVuPzYbbAHQJ11NOjlFZneHt+JXDx+Rtj7EdJ5ubmZmtLeylnelFKKPcnttjprWxY2WaL3ZXeFjsNC8txCYLhDlNQ0jZ6TATNyj7bnbZhZoDPye55O8NbsTHP/o1vfMO47rYxvfaXv/zFFLYMDw833geFLTEec90cYzdEnvD2/Erg4tM3hpAofcxKMHeI8s6cOdN61j8gdsa/CIobYjBERPCLQJ29DevtqTcCXVSO5fzM4bsaQmOIw804H374oQnKMcyhXDQeEA1Ed1VuvRUb43CCcfTmP/rRj4w99dRT8vjjj8sPf/hDeeKJJ+Sxxx67yx599FFTGNMO4HnC2/MrgUuviN2et3UFsc+YMcN61j8gIIJfrE4bOnRohxEEw1y3EbSjF+xNECweTmeG607vOXr0aNPQEEuYPXu2KUrZHT0RGw0cwxVv7eLFi6YB7IqenF8JTHz+xuLi4uTTTz81PZsN68Q/JrNKSoq1pf+gd8I9dQ1AuRuvsfiFntUf8PkQkOMGHdfPrSv8LTZ/n1/xHZ+/McaqjH2nTp1qorrcYEGvxTgwKyvL2kvxFX+Lzd/nV3ynV74xeirmaj/77DPjuhOgYooHd9kfvXsooplqFF/p1eYZl/TGjRvmMeNTVmQRsGLFlr8X3AQ7moNO8ZU+98Xo5XHpmY5T7p9Ayy6b8957UllZGTJWUVHpVaA0mOlzsduLR+weX7k/Ailv/P4vfUlWRkRKbGxcyNjSmGUydtx4M8MUqmiUJYjQijB9S+TceSE93Ax4seMRsFhGrd2qly7VWm99RFh4hFnR6OlzD2RjjUR3i7Ig4MV+6dIls/6e9dtq7Xa2qEgKhw+X7IEDJfXLX/YozN4yJ1VxnT0nzIzbPX3mgWzow5v1GurGK/dQ0yZqxrBOIzwi0noUmqjYlXuorqnpVOwtTWel/uwFuWtke/OanKmtk+t9MtxtlXM1pyQvN09yc3Ol/KznuwMbq8vl7MWr1rP7A7FrgE5xFF2JvWzHDHl56ASpbr6j7Nqj6+TtV8dKTffDxq653ig5Kbl3NyS3z0nMhKmyZPUGWb9+nYTNjpCkIyfv3qeNimOHpKz2kvXs/lCxK46jK7FXpkbJmI/GyO4jp6wtLbIrZrJ8+P5CaTCzq7elOHWfrFuTIGlHK80e56vypbDmgnl88UyZlJ5tlisN5VJUWCipuzfKrrSjbf13q2QlLpcPhoySbSkF0pH65FaDrJ0dL43W09bGYpkXGS11l1ukuuy45GSmSmZOsdTWnZKq+ho5UVwkLbQEt65IXmGeNLdpt77ogKxdmyCH8+6kJfOEil1xHF327ClLZf3uBIles0nIYNBSmy5LVsXL6vC1cubGLTmeGCdLV++SY0dzZNXcMEktbZT83RESsTvPHF94MFZiMqukLm2VvD90smQX5EjMrOmSUlAvVUVJMnNMuOScrJcOybWJfc2slVLbYm9plX0LoyS7sl7WTB8mc1buksqaBtmxLlK2pGfLskVhUnT+prTUHZNlK9ZJeX6GxG3YJAUFubJ8yRLJrWpPXuIJFbviOLoU+/4o2Z5zUtK3R8vBivNydFOsZBTly8aINW29baOsipoq+VaVqQt5m2VNcqbk7VkkCxILzLbi9FWyPKtaatLiZdGKZLOtdPcKWbMjT1qvVMjaeQly18j7HrHflD0L5kp6WY1sXjJVDlS235q7Z/1c2VFYL/nbomRjm9dRkrZGtqaXy4H4MBk5fpZERy+RKR+NlM2ZnRf3VLErjqM7sW85XiWXyw9LbPR8iVsaL03XL8qGOavbxH5e1n0+XQqszvNcTkKb2LOkuK03X7C/1Gw7nhglcUeqjNhj1qWZbUU7l0jc1hy5fqlMVkdskLvurDdu/GqxF7Le/KJE5odHSU3zZdkW86kcrrbFHilb8xrlet0hWbxis2xLWCnVV29KclykrN5XJNes+egbrZ2LWcWuOI6uxF6SOE/WZ5a3ifCyrJw9WuL20VOel1XTY6Xuxm0pOrhaFn6+XpJTDkrsiqWSW3tZLlcelMkzwiQ5I02mTxsp0Rk1UnNghSxe1X5HZEFbbxyzKVtar1ZL1JQpknT0VJuzbnH7rCybMEs2JR2UAwf2y6rFSyUpn7F3i2yMmiiHTreLfWf8bEk4Wtu2/03ZHjFMZmy0CmGUpkrE3HmSfOCAJCWlyrmmziP2KvYghlVFLMohmaNtSvd0JfbmcxVSd7E93+ClMzXS3Eo07LrUlFXJVaPQW1J2NF127U6U/NPtQTm2VeSmyK4DmXKq+rTUNl2Ta+er28ba7WG3S2cqpar+onlcVXJE0jJL7wTo5IaU5x2RvXv2yp49yVJ13hZrq9RVlsiFq+3ibKgtl/ov2oV/rrpMKs/eiczXl2TJ7l27JCOvpO3dOkfFHqQgdFJjkfONrDkYaaBIAKm323ZNV2IPZVTsQQq9OMkz7Oqp/KV6KznaSaNF7jfbSLhBltzuMrw6BRV7aBLSYietNDXZKY38/vvvm0yuCJ9kk3YZZdsoktBdCSanoGIPTUJe7AiZqisIGdeeIhaInUaAFM+20et7ypLrRFTsoUlIi52UWGTJoUqqDV/m2rVrPYq9u3prTqGqulqWfL7UeuYcuOtNxR6EEIVH7NOnT5ekpKSO8TiVWTZu3Gjy3bsKXsV+h3ONjbJwUZTxdNIzDjvCDqWny6KoxdYnEJo4xo0n5TVQ7ghhu/bqXYmdwhPr16835Z6pG0cxRqek2GLWwkkW6oS02InGE5zDladHpyoLxQtpADyJ3dOYHbFTDJFSzxSGZMzvbWEHRQkkQlbsCJuqqgTjiMBTaJI5d3p5OwLvaoMHD+62bLKiBDMhK3YCLeStp1IN8+r8pQ7ctGnTzDje1XiNum94A4oSqoSs2G0QvTemKKFOyItdUZR2ek3sjJEp/+sKmToJcCmK4n96RezMaVPUkcUqNrjGM2fONGvOFUXxPz6LnR4dURPoIoe1K6WlpTJy5Ehz95mOixXFv/gkdtx2hI51FslmfpspL+antd6bovgPn8TOQhMWrFCbvTNIBWRPf+EFKJ5hBReLde53JZd9vKJ0hs9ufFlZmYwYMcKsMnN31RE394sjdncXvz+4ePGiFBQUSGFhYYdRyysQaWhoMAt/uOb7oby83AyZAvX/U/xPrwToGJvzQyULjA3C5/5xhO4epe8P6OVmzZpllsL+9a9/NUbiCq6prq7OrJVHYLYRZPQnLMXlxpz7bRQZLg0ZMqTLBByLFy+WkydPWs8Up9ErYgd6lqKiIutZu1uZlZVlis75CsXye+qiEkN45513zFJZRGQba+VZRjt8+HCT0AIbNmyYTJ482YjeEzQONBIMRY4dO2a2cW/89u3bzXEEIJlipFcmNrF161azncYPEUZGRsqcOXPMjTT8HytWrJCdO3ea1Xy2R4TYaYxssR84cECmTJliZjio1OkJPuPNmzebBjUmJsY0aAyb2D8hIUEmTZpkroVr47oGDhxoen+ug/jJpk2bzHVyF6A3VUCV4KbXxN6X8MPnbrOe/CDtu95cb2O1jW00Aq7G2vjs7Gzr6DsgHASCeFJSUowgadgQGemsEP/EiRPN6wj2xRdflLi4ONm/f7+89tprxuM5ePCgETuixIMYNGiQRERESGpqqml4uKuONQm8N6/v27fPCJ3GMiwszAjZEwiZmAnvw37czENjEhsbK/Pnzzdr/cm9t2fPHuPJcC4aGcTPlCjXxPWPGzdOtmzZYr2rEqoEhdjT0tJMj9yT20u7Ersn6+wWV9xi7n2nB6ZHbGxsNLEIenHiFenp6abnptevrq428Qt7SMAwgkYA6OEnTJhgREcPzC2zgNjGjh1rjmU7oh81apRER0eb96ZHphFw790RLPtlZGSY57w/ngzXyzWWlJTIoUOHjPeAVwJjxozpuNmHfRh+2ftgSmgTFGLnB4louYPNNS7QFb0ldsCNX7BggZlCRNgEwZKTk40LzEwEPaMtdvaxg2yIHVcf8AborW2xsy8g0vHjx5vXEWttba35izDpeZnWpMFw92pw12lYEDXQ8HAc2+nx8SJoKNjHFvvo0aONtwA7duww12/vw/UroU3QiJ2EkKzSs5NQdEdviZ2e1m5g8CroTXHLESMeByAcFhV5Ert9rC123o9roleFxMRE0+PToNAI0OMiflxvm6amJuvRHRjnI1bu7ANmHezjcddPnDhhttMY2WLn2u2kmsQq8vLa668heBoHJbQJCrEjLoTek2Bfb4kdl51AF8IKDw83Yqb3ZUhB2iu2McRA/AQSEZEdZKO3tMfCRME/+eQT8z/84Q9/MAJnXI1AiRXQiNGgIeycnJyO9+Y97KGAO9Qr53jG/5yf4+nZFy1aZIKOHP/qq6+azw4Y13P9xBaWLVtmPh+O5XqIOyihTVCInR81PWJPQOxkqvFW7AToOssuS9CLXnzv3r0d12HPNhA8pFcuLi4242VmJOy4Ar25HeHnNXpzen3cbRoW3s/u4RmT83/ax9KgkEKLMT2vMYbH3aZ3tocT7Ms58AL4i0tPj4/LjzfEmJ/YgH0Ozk3wjwaH62e8z//luo8SugSF2O8HxtVUgKG385SZxtXsbDa4wn0NPTfntAN03sIQATEjSv7iReh0mdITQlbswIo5ougbNmzo0tiHqbL+EA+NEG52Tz0VRfGVkBa7oih3ULErikNQsSuKQ1CxK4pDULErikNQsSuKQ1CxK4pD8Frs186USOmCV6QxM97aoihKMOG12C+fTJP0wQOkKmGUtUVRlGDCe7GXp8vhtwZI9eZx1hZFUYIJFbuiOAQVu6I4BBW7ojgEFbuiOAQVu6I4BBW7ojgEFbuiOASfxH77VqtcKt4v5zPj5fyRtW1/V8v1C1XWq4qiBBI+ib0xfblkD/tvyXrvP9rsPyXr3QFS9Nmz0lSUKM2nMtsswxjH3rjkubSSoij9g09ir9kyvk3k/yW54x+R3HEPGzs+9iHJn/ykFEz7sRRMfcZY/pSnpHDa/8q1M8XWkYqi9Dc+ib1648dSHP5/0nLulLScPdlh1xpKzI0zHVZ/Qo6N+B9pKthtHakoSn/jk9i5KaZ00UvWs645PvpBaSq8U+VEUZT+xXexLxxkPeuC27faxP6Ail1R/IiKXVEcgrrxiuIQfBL76Q0fyonZz8u1+mK5VlfUudUWyLERX9UAnaL4EZ/E/kXeDsmf9HjHFFtnxtRb0YznpOXcSetIRVH6G5/EDi2NFdJckSnNlVmdW8URuXlZa5spij/xWeyKogQHKnZFcQgqdkVxCCp2RXEIKnZFcQgqdkVxCCp2RXEI3ov95CHJeGOAVG0cbW1RFCWY8FrsV6py5Pjox6Q+MdzaoihKMOG12BVFCW5U7IriEFTsiuIQVOyK4hBU7IriEFTsiuIQVOyK4hBU7IriEFTsiuIIRP4f8dRdLIld3O8AAAAASUVORK5CYII=)"
      ]
    },
    {
      "cell_type": "markdown",
      "metadata": {
        "id": "tLCbbVd-1ruM"
      },
      "source": [
        "##### Option 2: Using google.colab package\n"
      ]
    },
    {
      "cell_type": "code",
      "metadata": {
        "id": "3AIfVaTH1PGg"
      },
      "source": [
        "# Mount Google Drive via code\n"
      ],
      "execution_count": null,
      "outputs": []
    },
    {
      "cell_type": "code",
      "metadata": {
        "colab": {
          "base_uri": "https://localhost:8080/"
        },
        "id": "e7eY1tJTKN5w",
        "outputId": "e2a3f5c3-8098-49ed-d67c-f8fb953bba3c"
      },
      "source": [
        "from google.colab import drive\n",
        "drive.mount('/content/drive')"
      ],
      "execution_count": null,
      "outputs": [
        {
          "output_type": "stream",
          "text": [
            "Drive already mounted at /content/drive; to attempt to forcibly remount, call drive.mount(\"/content/drive\", force_remount=True).\n"
          ],
          "name": "stdout"
        }
      ]
    },
    {
      "cell_type": "markdown",
      "metadata": {
        "id": "9jCYeTHNn2Ab"
      },
      "source": [
        "<br>"
      ]
    },
    {
      "cell_type": "code",
      "metadata": {
        "id": "b0gT8yHx1NDD"
      },
      "source": [
        "# Read \"cars.csv\" from Google Drive\n",
        "cars_data_gdrive = pd.read_csv('/content/drive/MyDrive/Excel-to-Python-Course-Files/Excel-to-Python-Course-Files/Data/cars.csv')"
      ],
      "execution_count": null,
      "outputs": []
    },
    {
      "cell_type": "markdown",
      "metadata": {
        "id": "FjHCN0TUn2Z6"
      },
      "source": [
        "<br>"
      ]
    },
    {
      "cell_type": "code",
      "metadata": {
        "id": "x1eNKYGr3R54",
        "colab": {
          "base_uri": "https://localhost:8080/",
          "height": 419
        },
        "outputId": "f5148fbc-2551-4d75-8643-79c7b0902eae"
      },
      "source": [
        "# Inspect cars data\n",
        "cars_data_gdrive"
      ],
      "execution_count": null,
      "outputs": [
        {
          "output_type": "execute_result",
          "data": {
            "text/html": [
              "<div>\n",
              "<style scoped>\n",
              "    .dataframe tbody tr th:only-of-type {\n",
              "        vertical-align: middle;\n",
              "    }\n",
              "\n",
              "    .dataframe tbody tr th {\n",
              "        vertical-align: top;\n",
              "    }\n",
              "\n",
              "    .dataframe thead th {\n",
              "        text-align: right;\n",
              "    }\n",
              "</style>\n",
              "<table border=\"1\" class=\"dataframe\">\n",
              "  <thead>\n",
              "    <tr style=\"text-align: right;\">\n",
              "      <th></th>\n",
              "      <th>Name</th>\n",
              "      <th>Miles_per_Gallon</th>\n",
              "      <th>Cylinders</th>\n",
              "      <th>Displacement</th>\n",
              "      <th>Horsepower</th>\n",
              "      <th>Weight_in_lbs</th>\n",
              "      <th>Acceleration</th>\n",
              "      <th>Year</th>\n",
              "      <th>Origin</th>\n",
              "    </tr>\n",
              "  </thead>\n",
              "  <tbody>\n",
              "    <tr>\n",
              "      <th>0</th>\n",
              "      <td>chevrolet chevelle malibu</td>\n",
              "      <td>18.0</td>\n",
              "      <td>8</td>\n",
              "      <td>307.0</td>\n",
              "      <td>130.0</td>\n",
              "      <td>3504</td>\n",
              "      <td>12.0</td>\n",
              "      <td>1/1/1970</td>\n",
              "      <td>USA</td>\n",
              "    </tr>\n",
              "    <tr>\n",
              "      <th>1</th>\n",
              "      <td>buick skylark 320</td>\n",
              "      <td>15.0</td>\n",
              "      <td>8</td>\n",
              "      <td>350.0</td>\n",
              "      <td>165.0</td>\n",
              "      <td>3693</td>\n",
              "      <td>11.5</td>\n",
              "      <td>1/1/1970</td>\n",
              "      <td>USA</td>\n",
              "    </tr>\n",
              "    <tr>\n",
              "      <th>2</th>\n",
              "      <td>plymouth satellite</td>\n",
              "      <td>18.0</td>\n",
              "      <td>8</td>\n",
              "      <td>318.0</td>\n",
              "      <td>150.0</td>\n",
              "      <td>3436</td>\n",
              "      <td>11.0</td>\n",
              "      <td>1/1/1970</td>\n",
              "      <td>USA</td>\n",
              "    </tr>\n",
              "    <tr>\n",
              "      <th>3</th>\n",
              "      <td>amc rebel sst</td>\n",
              "      <td>16.0</td>\n",
              "      <td>8</td>\n",
              "      <td>304.0</td>\n",
              "      <td>150.0</td>\n",
              "      <td>3433</td>\n",
              "      <td>12.0</td>\n",
              "      <td>1/1/1970</td>\n",
              "      <td>USA</td>\n",
              "    </tr>\n",
              "    <tr>\n",
              "      <th>4</th>\n",
              "      <td>ford torino</td>\n",
              "      <td>17.0</td>\n",
              "      <td>8</td>\n",
              "      <td>302.0</td>\n",
              "      <td>140.0</td>\n",
              "      <td>3449</td>\n",
              "      <td>10.5</td>\n",
              "      <td>1/1/1970</td>\n",
              "      <td>USA</td>\n",
              "    </tr>\n",
              "    <tr>\n",
              "      <th>...</th>\n",
              "      <td>...</td>\n",
              "      <td>...</td>\n",
              "      <td>...</td>\n",
              "      <td>...</td>\n",
              "      <td>...</td>\n",
              "      <td>...</td>\n",
              "      <td>...</td>\n",
              "      <td>...</td>\n",
              "      <td>...</td>\n",
              "    </tr>\n",
              "    <tr>\n",
              "      <th>401</th>\n",
              "      <td>ford mustang gl</td>\n",
              "      <td>27.0</td>\n",
              "      <td>4</td>\n",
              "      <td>140.0</td>\n",
              "      <td>86.0</td>\n",
              "      <td>2790</td>\n",
              "      <td>15.6</td>\n",
              "      <td>1/1/1982</td>\n",
              "      <td>USA</td>\n",
              "    </tr>\n",
              "    <tr>\n",
              "      <th>402</th>\n",
              "      <td>vw pickup</td>\n",
              "      <td>44.0</td>\n",
              "      <td>4</td>\n",
              "      <td>97.0</td>\n",
              "      <td>52.0</td>\n",
              "      <td>2130</td>\n",
              "      <td>24.6</td>\n",
              "      <td>1/1/1982</td>\n",
              "      <td>Europe</td>\n",
              "    </tr>\n",
              "    <tr>\n",
              "      <th>403</th>\n",
              "      <td>dodge rampage</td>\n",
              "      <td>32.0</td>\n",
              "      <td>4</td>\n",
              "      <td>135.0</td>\n",
              "      <td>84.0</td>\n",
              "      <td>2295</td>\n",
              "      <td>11.6</td>\n",
              "      <td>1/1/1982</td>\n",
              "      <td>USA</td>\n",
              "    </tr>\n",
              "    <tr>\n",
              "      <th>404</th>\n",
              "      <td>ford ranger</td>\n",
              "      <td>28.0</td>\n",
              "      <td>4</td>\n",
              "      <td>120.0</td>\n",
              "      <td>79.0</td>\n",
              "      <td>2625</td>\n",
              "      <td>18.6</td>\n",
              "      <td>1/1/1982</td>\n",
              "      <td>USA</td>\n",
              "    </tr>\n",
              "    <tr>\n",
              "      <th>405</th>\n",
              "      <td>chevy s-10</td>\n",
              "      <td>31.0</td>\n",
              "      <td>4</td>\n",
              "      <td>119.0</td>\n",
              "      <td>82.0</td>\n",
              "      <td>2720</td>\n",
              "      <td>19.4</td>\n",
              "      <td>1/1/1982</td>\n",
              "      <td>USA</td>\n",
              "    </tr>\n",
              "  </tbody>\n",
              "</table>\n",
              "<p>406 rows × 9 columns</p>\n",
              "</div>"
            ],
            "text/plain": [
              "                          Name  Miles_per_Gallon  ...      Year  Origin\n",
              "0    chevrolet chevelle malibu              18.0  ...  1/1/1970     USA\n",
              "1            buick skylark 320              15.0  ...  1/1/1970     USA\n",
              "2           plymouth satellite              18.0  ...  1/1/1970     USA\n",
              "3                amc rebel sst              16.0  ...  1/1/1970     USA\n",
              "4                  ford torino              17.0  ...  1/1/1970     USA\n",
              "..                         ...               ...  ...       ...     ...\n",
              "401            ford mustang gl              27.0  ...  1/1/1982     USA\n",
              "402                  vw pickup              44.0  ...  1/1/1982  Europe\n",
              "403              dodge rampage              32.0  ...  1/1/1982     USA\n",
              "404                ford ranger              28.0  ...  1/1/1982     USA\n",
              "405                 chevy s-10              31.0  ...  1/1/1982     USA\n",
              "\n",
              "[406 rows x 9 columns]"
            ]
          },
          "metadata": {
            "tags": []
          },
          "execution_count": 44
        }
      ]
    },
    {
      "cell_type": "markdown",
      "metadata": {
        "id": "yvlzN-cxn4w5"
      },
      "source": [
        "<br>"
      ]
    },
    {
      "cell_type": "markdown",
      "metadata": {
        "id": "65fTVvpFh7tZ"
      },
      "source": [
        "<br>\n",
        "\n",
        "### Exporting data\n",
        "---"
      ]
    },
    {
      "cell_type": "code",
      "metadata": {
        "id": "Ltuaha913-sP",
        "colab": {
          "base_uri": "https://localhost:8080/",
          "height": 204
        },
        "outputId": "7ec1406b-e136-4286-f85a-bff5e20ed8ff"
      },
      "source": [
        "# Make a basic pivot table for \"cars_data_gdrive\"\n",
        "cars_data_gdrive.pivot_table(columns='Cylinders')"
      ],
      "execution_count": null,
      "outputs": [
        {
          "output_type": "execute_result",
          "data": {
            "text/html": [
              "<div>\n",
              "<style scoped>\n",
              "    .dataframe tbody tr th:only-of-type {\n",
              "        vertical-align: middle;\n",
              "    }\n",
              "\n",
              "    .dataframe tbody tr th {\n",
              "        vertical-align: top;\n",
              "    }\n",
              "\n",
              "    .dataframe thead th {\n",
              "        text-align: right;\n",
              "    }\n",
              "</style>\n",
              "<table border=\"1\" class=\"dataframe\">\n",
              "  <thead>\n",
              "    <tr style=\"text-align: right;\">\n",
              "      <th>Cylinders</th>\n",
              "      <th>3</th>\n",
              "      <th>4</th>\n",
              "      <th>5</th>\n",
              "      <th>6</th>\n",
              "      <th>8</th>\n",
              "    </tr>\n",
              "  </thead>\n",
              "  <tbody>\n",
              "    <tr>\n",
              "      <th>Acceleration</th>\n",
              "      <td>13.25</td>\n",
              "      <td>16.616425</td>\n",
              "      <td>18.633333</td>\n",
              "      <td>16.263095</td>\n",
              "      <td>12.837037</td>\n",
              "    </tr>\n",
              "    <tr>\n",
              "      <th>Displacement</th>\n",
              "      <td>72.50</td>\n",
              "      <td>109.900966</td>\n",
              "      <td>145.000000</td>\n",
              "      <td>218.142857</td>\n",
              "      <td>345.203704</td>\n",
              "    </tr>\n",
              "    <tr>\n",
              "      <th>Horsepower</th>\n",
              "      <td>99.25</td>\n",
              "      <td>78.470297</td>\n",
              "      <td>82.333333</td>\n",
              "      <td>101.506024</td>\n",
              "      <td>158.453704</td>\n",
              "    </tr>\n",
              "    <tr>\n",
              "      <th>Miles_per_Gallon</th>\n",
              "      <td>20.55</td>\n",
              "      <td>29.286765</td>\n",
              "      <td>27.366667</td>\n",
              "      <td>19.985714</td>\n",
              "      <td>14.963107</td>\n",
              "    </tr>\n",
              "    <tr>\n",
              "      <th>Weight_in_lbs</th>\n",
              "      <td>2398.50</td>\n",
              "      <td>2312.685990</td>\n",
              "      <td>3103.333333</td>\n",
              "      <td>3198.226190</td>\n",
              "      <td>4105.194444</td>\n",
              "    </tr>\n",
              "  </tbody>\n",
              "</table>\n",
              "</div>"
            ],
            "text/plain": [
              "Cylinders               3            4            5            6            8\n",
              "Acceleration        13.25    16.616425    18.633333    16.263095    12.837037\n",
              "Displacement        72.50   109.900966   145.000000   218.142857   345.203704\n",
              "Horsepower          99.25    78.470297    82.333333   101.506024   158.453704\n",
              "Miles_per_Gallon    20.55    29.286765    27.366667    19.985714    14.963107\n",
              "Weight_in_lbs     2398.50  2312.685990  3103.333333  3198.226190  4105.194444"
            ]
          },
          "metadata": {
            "tags": []
          },
          "execution_count": 47
        }
      ]
    },
    {
      "cell_type": "markdown",
      "metadata": {
        "id": "ofdCfItOn5u_"
      },
      "source": [
        "<br>"
      ]
    },
    {
      "cell_type": "code",
      "metadata": {
        "id": "3e8NZbob3lTT"
      },
      "source": [
        "# Save our neat pivot table as \"cars_pivot_cylinder\"\n",
        "cars_pivot_cylinder = cars_data_gdrive.pivot_table(columns='Cylinders')"
      ],
      "execution_count": null,
      "outputs": []
    },
    {
      "cell_type": "markdown",
      "metadata": {
        "id": "NLHVFUDvn6CI"
      },
      "source": [
        "<br>"
      ]
    },
    {
      "cell_type": "code",
      "metadata": {
        "id": "IC90-pFT4ig3"
      },
      "source": [
        "# Export the result as CSV\n",
        "cars_pivot_cylinder.to_csv('my_sweet_pivot_table.csv')"
      ],
      "execution_count": null,
      "outputs": []
    },
    {
      "cell_type": "markdown",
      "metadata": {
        "id": "LwncKHtmn6Uo"
      },
      "source": [
        "<br>"
      ]
    },
    {
      "cell_type": "code",
      "metadata": {
        "id": "g0tOc4424qSV"
      },
      "source": [
        "# Export as Excel file\n",
        "cars_pivot_cylinder.to_excel('my_sweet_pivot_table.xlsx',sheet_name='Car Pivot')"
      ],
      "execution_count": null,
      "outputs": []
    },
    {
      "cell_type": "markdown",
      "metadata": {
        "id": "1mf9oVa7n6uC"
      },
      "source": [
        "<br>"
      ]
    },
    {
      "cell_type": "markdown",
      "metadata": {
        "id": "9hXgtDY-5QNK"
      },
      "source": [
        "<br><br>\n",
        "\n",
        "# Data importing will be mostly handled for you in the course (this code will appear at the top of most lectures)"
      ]
    },
    {
      "cell_type": "code",
      "metadata": {
        "id": "tCxMImfIc7JO",
        "colab": {
          "base_uri": "https://localhost:8080/",
          "height": 231
        },
        "outputId": "b20e8260-0ea1-4aee-a3c7-330c89516162"
      },
      "source": [
        "# Save Github location paths to a variable\n",
        "failed_bank_path = 'https://github.com/The-Calculated-Life/python_analysis_for_excel/blob/main/data/failed_banks.xlsx?raw=true'\n",
        "bx_books_path = 'https://raw.githubusercontent.com/The-Calculated-Life/python_analysis_for_excel/main/data/bx_books.csv'\n",
        "bx_ratings_path = 'https://raw.githubusercontent.com/The-Calculated-Life/python_analysis_for_excel/main/data/bx_ratings.csv'\n",
        "bx_users_path = 'https://raw.githubusercontent.com/The-Calculated-Life/python_analysis_for_excel/main/data/bx_users.csv'\n",
        "\n",
        "# Read Excel and CSV files\n",
        "bank_detail = pd.read_excel(failed_bank_path, sheet_name='detail')\n",
        "bank_list = pd.read_excel(failed_bank_path, sheet_name='banks')\n",
        "bank_dividends = pd.read_excel(failed_bank_path, sheet_name='dividends')\n",
        "bx_books = pd.read_csv(bx_books_path)\n",
        "bx_ratings = pd.read_csv(bx_ratings_path)\n",
        "bx_users = pd.read_csv(bx_users_path)"
      ],
      "execution_count": null,
      "outputs": [
        {
          "output_type": "error",
          "ename": "NameError",
          "evalue": "ignored",
          "traceback": [
            "\u001b[0;31m---------------------------------------------------------------------------\u001b[0m",
            "\u001b[0;31mNameError\u001b[0m                                 Traceback (most recent call last)",
            "\u001b[0;32m<ipython-input-1-592e7796c60f>\u001b[0m in \u001b[0;36m<module>\u001b[0;34m()\u001b[0m\n\u001b[1;32m      6\u001b[0m \u001b[0;34m\u001b[0m\u001b[0m\n\u001b[1;32m      7\u001b[0m \u001b[0;31m# Read Excel and CSV files\u001b[0m\u001b[0;34m\u001b[0m\u001b[0;34m\u001b[0m\u001b[0;34m\u001b[0m\u001b[0m\n\u001b[0;32m----> 8\u001b[0;31m \u001b[0mbank_detail\u001b[0m \u001b[0;34m=\u001b[0m \u001b[0mpd\u001b[0m\u001b[0;34m.\u001b[0m\u001b[0mread_excel\u001b[0m\u001b[0;34m(\u001b[0m\u001b[0mfailed_bank_path\u001b[0m\u001b[0;34m,\u001b[0m \u001b[0msheet_name\u001b[0m\u001b[0;34m=\u001b[0m\u001b[0;34m'detail'\u001b[0m\u001b[0;34m)\u001b[0m\u001b[0;34m\u001b[0m\u001b[0;34m\u001b[0m\u001b[0m\n\u001b[0m\u001b[1;32m      9\u001b[0m \u001b[0mbank_list\u001b[0m \u001b[0;34m=\u001b[0m \u001b[0mpd\u001b[0m\u001b[0;34m.\u001b[0m\u001b[0mread_excel\u001b[0m\u001b[0;34m(\u001b[0m\u001b[0mfailed_bank_path\u001b[0m\u001b[0;34m,\u001b[0m \u001b[0msheet_name\u001b[0m\u001b[0;34m=\u001b[0m\u001b[0;34m'banks'\u001b[0m\u001b[0;34m)\u001b[0m\u001b[0;34m\u001b[0m\u001b[0;34m\u001b[0m\u001b[0m\n\u001b[1;32m     10\u001b[0m \u001b[0mbank_dividends\u001b[0m \u001b[0;34m=\u001b[0m \u001b[0mpd\u001b[0m\u001b[0;34m.\u001b[0m\u001b[0mread_excel\u001b[0m\u001b[0;34m(\u001b[0m\u001b[0mfailed_bank_path\u001b[0m\u001b[0;34m,\u001b[0m \u001b[0msheet_name\u001b[0m\u001b[0;34m=\u001b[0m\u001b[0;34m'dividends'\u001b[0m\u001b[0;34m)\u001b[0m\u001b[0;34m\u001b[0m\u001b[0;34m\u001b[0m\u001b[0m\n",
            "\u001b[0;31mNameError\u001b[0m: name 'pd' is not defined"
          ]
        }
      ]
    }
  ]
}