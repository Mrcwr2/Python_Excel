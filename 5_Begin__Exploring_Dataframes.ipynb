{
  "nbformat": 4,
  "nbformat_minor": 0,
  "metadata": {
    "colab": {
      "name": "5-Begin_ Exploring Dataframes.ipynb",
      "provenance": [],
      "collapsed_sections": [
        "ngdeYx4xRxHQ"
      ],
      "include_colab_link": true
    },
    "kernelspec": {
      "name": "python3",
      "display_name": "Python 3"
    }
  },
  "cells": [
    {
      "cell_type": "markdown",
      "metadata": {
        "id": "view-in-github",
        "colab_type": "text"
      },
      "source": [
        "<a href=\"https://colab.research.google.com/github/Mrcwr2/Python_Excel/blob/main/5_Begin__Exploring_Dataframes.ipynb\" target=\"_parent\"><img src=\"https://colab.research.google.com/assets/colab-badge.svg\" alt=\"Open In Colab\"/></a>"
      ]
    },
    {
      "cell_type": "markdown",
      "metadata": {
        "id": "Beh6bUquc8zo"
      },
      "source": [
        "# Exploring Dataframes\n",
        "---"
      ]
    },
    {
      "cell_type": "markdown",
      "metadata": {
        "id": "jfs7ynSsTjKR"
      },
      "source": [
        "\n",
        "## **Python:**\n",
        "\n",
        "*   Dataframes have functions and attributes\n",
        "\n",
        "<br>\n",
        "\n",
        "**Dataframe Functions (methods):**\n",
        "\n",
        "```\n",
        ".head()\n",
        ".tail()\n",
        ".info()\n",
        ".describe()\n",
        ".value_counts()\n",
        "```\n",
        "\n",
        "**Dataframe Attributes**\n",
        "\n",
        "\n",
        "\n",
        "```\n",
        ".shape\n",
        ".columns\n",
        "```\n",
        "\n",
        "<br>\n",
        "\n",
        "\n"
      ]
    },
    {
      "cell_type": "markdown",
      "metadata": {
        "id": "ngdeYx4xRxHQ"
      },
      "source": [
        "<br>\n",
        "\n",
        "### Load required packages and data\n",
        "---"
      ]
    },
    {
      "cell_type": "code",
      "metadata": {
        "id": "tCxMImfIc7JO"
      },
      "source": [
        "# Import required packages\n",
        "import numpy as np\n",
        "import pandas as pd\n",
        "import matplotlib.pyplot as plt"
      ],
      "execution_count": null,
      "outputs": []
    },
    {
      "cell_type": "code",
      "metadata": {
        "id": "tzmW5WD5RwVY"
      },
      "source": [
        "# Save Github location paths to a variable\n",
        "failed_bank_path = 'https://github.com/The-Calculated-Life/python_analysis_for_excel/blob/main/data/failed_banks.xlsx?raw=true'\n",
        "bx_books_path = 'https://raw.githubusercontent.com/The-Calculated-Life/python_analysis_for_excel/main/data/bx_books.csv'\n",
        "bx_ratings_path = 'https://raw.githubusercontent.com/The-Calculated-Life/python_analysis_for_excel/main/data/bx_ratings.csv'\n",
        "bx_users_path = 'https://raw.githubusercontent.com/The-Calculated-Life/python_analysis_for_excel/main/data/bx_users.csv'\n",
        "\n",
        "# Read excel and CSV files\n",
        "bank_detail = pd.read_excel(failed_bank_path, sheet_name='detail')\n",
        "bank_list = pd.read_excel(failed_bank_path, sheet_name='banks')\n",
        "bank_dividends = pd.read_excel(failed_bank_path, sheet_name='dividends')\n",
        "bx_books = pd.read_csv(bx_books_path)\n",
        "bx_ratings = pd.read_csv(bx_ratings_path)\n",
        "bx_users = pd.read_csv(bx_users_path)"
      ],
      "execution_count": null,
      "outputs": []
    },
    {
      "cell_type": "markdown",
      "metadata": {
        "id": "aC0JWkjdSADr"
      },
      "source": [
        "<br>\n",
        "\n",
        "### View first and last rows\n",
        "---"
      ]
    },
    {
      "cell_type": "code",
      "metadata": {
        "id": "BJ_1cJm8R_yo",
        "colab": {
          "base_uri": "https://localhost:8080/",
          "height": 419
        },
        "outputId": "23d62933-b0c7-4b6b-b212-965867ccd3d4"
      },
      "source": [
        "# Inspect bank_list\n",
        "bank_list"
      ],
      "execution_count": null,
      "outputs": [
        {
          "output_type": "execute_result",
          "data": {
            "text/html": [
              "<div>\n",
              "<style scoped>\n",
              "    .dataframe tbody tr th:only-of-type {\n",
              "        vertical-align: middle;\n",
              "    }\n",
              "\n",
              "    .dataframe tbody tr th {\n",
              "        vertical-align: top;\n",
              "    }\n",
              "\n",
              "    .dataframe thead th {\n",
              "        text-align: right;\n",
              "    }\n",
              "</style>\n",
              "<table border=\"1\" class=\"dataframe\">\n",
              "  <thead>\n",
              "    <tr style=\"text-align: right;\">\n",
              "      <th></th>\n",
              "      <th>CERT</th>\n",
              "      <th>Bank Name</th>\n",
              "      <th>City</th>\n",
              "      <th>ST</th>\n",
              "      <th>Acquiring Institution</th>\n",
              "      <th>Closing Date</th>\n",
              "    </tr>\n",
              "  </thead>\n",
              "  <tbody>\n",
              "    <tr>\n",
              "      <th>0</th>\n",
              "      <td>14361</td>\n",
              "      <td>The First State Bank</td>\n",
              "      <td>Barboursville</td>\n",
              "      <td>WV</td>\n",
              "      <td>MVB Bank, Inc.</td>\n",
              "      <td>2020-04-03</td>\n",
              "    </tr>\n",
              "    <tr>\n",
              "      <th>1</th>\n",
              "      <td>18265</td>\n",
              "      <td>Ericson State Bank</td>\n",
              "      <td>Ericson</td>\n",
              "      <td>NE</td>\n",
              "      <td>Farmers and Merchants Bank</td>\n",
              "      <td>2020-02-14</td>\n",
              "    </tr>\n",
              "    <tr>\n",
              "      <th>2</th>\n",
              "      <td>21111</td>\n",
              "      <td>City National Bank of New Jersey</td>\n",
              "      <td>Newark</td>\n",
              "      <td>NJ</td>\n",
              "      <td>Industrial Bank</td>\n",
              "      <td>2019-11-01</td>\n",
              "    </tr>\n",
              "    <tr>\n",
              "      <th>3</th>\n",
              "      <td>58317</td>\n",
              "      <td>Resolute Bank</td>\n",
              "      <td>Maumee</td>\n",
              "      <td>OH</td>\n",
              "      <td>Buckeye State Bank</td>\n",
              "      <td>2019-10-25</td>\n",
              "    </tr>\n",
              "    <tr>\n",
              "      <th>4</th>\n",
              "      <td>58112</td>\n",
              "      <td>Louisa Community Bank</td>\n",
              "      <td>Louisa</td>\n",
              "      <td>KY</td>\n",
              "      <td>Kentucky Farmers Bank Corporation</td>\n",
              "      <td>2019-10-25</td>\n",
              "    </tr>\n",
              "    <tr>\n",
              "      <th>...</th>\n",
              "      <td>...</td>\n",
              "      <td>...</td>\n",
              "      <td>...</td>\n",
              "      <td>...</td>\n",
              "      <td>...</td>\n",
              "      <td>...</td>\n",
              "    </tr>\n",
              "    <tr>\n",
              "      <th>556</th>\n",
              "      <td>32646</td>\n",
              "      <td>Superior Bank, FSB</td>\n",
              "      <td>Hinsdale</td>\n",
              "      <td>IL</td>\n",
              "      <td>Superior Federal, FSB</td>\n",
              "      <td>2001-07-27</td>\n",
              "    </tr>\n",
              "    <tr>\n",
              "      <th>557</th>\n",
              "      <td>6629</td>\n",
              "      <td>Malta National Bank</td>\n",
              "      <td>Malta</td>\n",
              "      <td>OH</td>\n",
              "      <td>North Valley Bank</td>\n",
              "      <td>2001-05-03</td>\n",
              "    </tr>\n",
              "    <tr>\n",
              "      <th>558</th>\n",
              "      <td>34264</td>\n",
              "      <td>First Alliance Bank &amp; Trust Co.</td>\n",
              "      <td>Manchester</td>\n",
              "      <td>NH</td>\n",
              "      <td>Southern New Hampshire Bank &amp; Trust</td>\n",
              "      <td>2001-02-02</td>\n",
              "    </tr>\n",
              "    <tr>\n",
              "      <th>559</th>\n",
              "      <td>3815</td>\n",
              "      <td>National State Bank of Metropolis</td>\n",
              "      <td>Metropolis</td>\n",
              "      <td>IL</td>\n",
              "      <td>Banterra Bank of Marion</td>\n",
              "      <td>2000-12-14</td>\n",
              "    </tr>\n",
              "    <tr>\n",
              "      <th>560</th>\n",
              "      <td>21029</td>\n",
              "      <td>Bank of Honolulu</td>\n",
              "      <td>Honolulu</td>\n",
              "      <td>HI</td>\n",
              "      <td>Bank of the Orient</td>\n",
              "      <td>2000-10-13</td>\n",
              "    </tr>\n",
              "  </tbody>\n",
              "</table>\n",
              "<p>561 rows × 6 columns</p>\n",
              "</div>"
            ],
            "text/plain": [
              "      CERT  ... Closing Date\n",
              "0    14361  ...   2020-04-03\n",
              "1    18265  ...   2020-02-14\n",
              "2    21111  ...   2019-11-01\n",
              "3    58317  ...   2019-10-25\n",
              "4    58112  ...   2019-10-25\n",
              "..     ...  ...          ...\n",
              "556  32646  ...   2001-07-27\n",
              "557   6629  ...   2001-05-03\n",
              "558  34264  ...   2001-02-02\n",
              "559   3815  ...   2000-12-14\n",
              "560  21029  ...   2000-10-13\n",
              "\n",
              "[561 rows x 6 columns]"
            ]
          },
          "metadata": {
            "tags": []
          },
          "execution_count": 3
        }
      ]
    },
    {
      "cell_type": "markdown",
      "metadata": {
        "id": "oYTVYdVqtF-t"
      },
      "source": [
        "<br>"
      ]
    },
    {
      "cell_type": "code",
      "metadata": {
        "id": "dDNHuucySJH9",
        "colab": {
          "base_uri": "https://localhost:8080/",
          "height": 204
        },
        "outputId": "522a3a1b-bdce-4b25-f557-48e5479d5dbb"
      },
      "source": [
        "# View top 5 rows of bank_list\n",
        "bank_list.head()"
      ],
      "execution_count": null,
      "outputs": [
        {
          "output_type": "execute_result",
          "data": {
            "text/html": [
              "<div>\n",
              "<style scoped>\n",
              "    .dataframe tbody tr th:only-of-type {\n",
              "        vertical-align: middle;\n",
              "    }\n",
              "\n",
              "    .dataframe tbody tr th {\n",
              "        vertical-align: top;\n",
              "    }\n",
              "\n",
              "    .dataframe thead th {\n",
              "        text-align: right;\n",
              "    }\n",
              "</style>\n",
              "<table border=\"1\" class=\"dataframe\">\n",
              "  <thead>\n",
              "    <tr style=\"text-align: right;\">\n",
              "      <th></th>\n",
              "      <th>CERT</th>\n",
              "      <th>Bank Name</th>\n",
              "      <th>City</th>\n",
              "      <th>ST</th>\n",
              "      <th>Acquiring Institution</th>\n",
              "      <th>Closing Date</th>\n",
              "    </tr>\n",
              "  </thead>\n",
              "  <tbody>\n",
              "    <tr>\n",
              "      <th>0</th>\n",
              "      <td>14361</td>\n",
              "      <td>The First State Bank</td>\n",
              "      <td>Barboursville</td>\n",
              "      <td>WV</td>\n",
              "      <td>MVB Bank, Inc.</td>\n",
              "      <td>2020-04-03</td>\n",
              "    </tr>\n",
              "    <tr>\n",
              "      <th>1</th>\n",
              "      <td>18265</td>\n",
              "      <td>Ericson State Bank</td>\n",
              "      <td>Ericson</td>\n",
              "      <td>NE</td>\n",
              "      <td>Farmers and Merchants Bank</td>\n",
              "      <td>2020-02-14</td>\n",
              "    </tr>\n",
              "    <tr>\n",
              "      <th>2</th>\n",
              "      <td>21111</td>\n",
              "      <td>City National Bank of New Jersey</td>\n",
              "      <td>Newark</td>\n",
              "      <td>NJ</td>\n",
              "      <td>Industrial Bank</td>\n",
              "      <td>2019-11-01</td>\n",
              "    </tr>\n",
              "    <tr>\n",
              "      <th>3</th>\n",
              "      <td>58317</td>\n",
              "      <td>Resolute Bank</td>\n",
              "      <td>Maumee</td>\n",
              "      <td>OH</td>\n",
              "      <td>Buckeye State Bank</td>\n",
              "      <td>2019-10-25</td>\n",
              "    </tr>\n",
              "    <tr>\n",
              "      <th>4</th>\n",
              "      <td>58112</td>\n",
              "      <td>Louisa Community Bank</td>\n",
              "      <td>Louisa</td>\n",
              "      <td>KY</td>\n",
              "      <td>Kentucky Farmers Bank Corporation</td>\n",
              "      <td>2019-10-25</td>\n",
              "    </tr>\n",
              "  </tbody>\n",
              "</table>\n",
              "</div>"
            ],
            "text/plain": [
              "    CERT  ... Closing Date\n",
              "0  14361  ...   2020-04-03\n",
              "1  18265  ...   2020-02-14\n",
              "2  21111  ...   2019-11-01\n",
              "3  58317  ...   2019-10-25\n",
              "4  58112  ...   2019-10-25\n",
              "\n",
              "[5 rows x 6 columns]"
            ]
          },
          "metadata": {
            "tags": []
          },
          "execution_count": 4
        }
      ]
    },
    {
      "cell_type": "markdown",
      "metadata": {
        "id": "r1ykFSpOtHht"
      },
      "source": [
        "<br>"
      ]
    },
    {
      "cell_type": "code",
      "metadata": {
        "id": "KX3LYAJJSPsE",
        "colab": {
          "base_uri": "https://localhost:8080/",
          "height": 80
        },
        "outputId": "7b652845-3bfd-4006-b737-d95910a37a5b"
      },
      "source": [
        "# View top row of bank_list\n",
        "bank_list.head(1)"
      ],
      "execution_count": null,
      "outputs": [
        {
          "output_type": "execute_result",
          "data": {
            "text/html": [
              "<div>\n",
              "<style scoped>\n",
              "    .dataframe tbody tr th:only-of-type {\n",
              "        vertical-align: middle;\n",
              "    }\n",
              "\n",
              "    .dataframe tbody tr th {\n",
              "        vertical-align: top;\n",
              "    }\n",
              "\n",
              "    .dataframe thead th {\n",
              "        text-align: right;\n",
              "    }\n",
              "</style>\n",
              "<table border=\"1\" class=\"dataframe\">\n",
              "  <thead>\n",
              "    <tr style=\"text-align: right;\">\n",
              "      <th></th>\n",
              "      <th>CERT</th>\n",
              "      <th>Bank Name</th>\n",
              "      <th>City</th>\n",
              "      <th>ST</th>\n",
              "      <th>Acquiring Institution</th>\n",
              "      <th>Closing Date</th>\n",
              "    </tr>\n",
              "  </thead>\n",
              "  <tbody>\n",
              "    <tr>\n",
              "      <th>0</th>\n",
              "      <td>14361</td>\n",
              "      <td>The First State Bank</td>\n",
              "      <td>Barboursville</td>\n",
              "      <td>WV</td>\n",
              "      <td>MVB Bank, Inc.</td>\n",
              "      <td>2020-04-03</td>\n",
              "    </tr>\n",
              "  </tbody>\n",
              "</table>\n",
              "</div>"
            ],
            "text/plain": [
              "    CERT             Bank Name  ... Acquiring Institution Closing Date\n",
              "0  14361  The First State Bank  ...        MVB Bank, Inc.   2020-04-03\n",
              "\n",
              "[1 rows x 6 columns]"
            ]
          },
          "metadata": {
            "tags": []
          },
          "execution_count": 5
        }
      ]
    },
    {
      "cell_type": "markdown",
      "metadata": {
        "id": "vo2-LPXstH1B"
      },
      "source": [
        "<br>"
      ]
    },
    {
      "cell_type": "code",
      "metadata": {
        "id": "tSCKX7KbSSlR",
        "colab": {
          "base_uri": "https://localhost:8080/",
          "height": 204
        },
        "outputId": "42bf0cc4-df7f-495c-aeba-693831371e88"
      },
      "source": [
        "# View last 5 rows of bank_list\n",
        "bank_list.tail()"
      ],
      "execution_count": null,
      "outputs": [
        {
          "output_type": "execute_result",
          "data": {
            "text/html": [
              "<div>\n",
              "<style scoped>\n",
              "    .dataframe tbody tr th:only-of-type {\n",
              "        vertical-align: middle;\n",
              "    }\n",
              "\n",
              "    .dataframe tbody tr th {\n",
              "        vertical-align: top;\n",
              "    }\n",
              "\n",
              "    .dataframe thead th {\n",
              "        text-align: right;\n",
              "    }\n",
              "</style>\n",
              "<table border=\"1\" class=\"dataframe\">\n",
              "  <thead>\n",
              "    <tr style=\"text-align: right;\">\n",
              "      <th></th>\n",
              "      <th>CERT</th>\n",
              "      <th>Bank Name</th>\n",
              "      <th>City</th>\n",
              "      <th>ST</th>\n",
              "      <th>Acquiring Institution</th>\n",
              "      <th>Closing Date</th>\n",
              "    </tr>\n",
              "  </thead>\n",
              "  <tbody>\n",
              "    <tr>\n",
              "      <th>556</th>\n",
              "      <td>32646</td>\n",
              "      <td>Superior Bank, FSB</td>\n",
              "      <td>Hinsdale</td>\n",
              "      <td>IL</td>\n",
              "      <td>Superior Federal, FSB</td>\n",
              "      <td>2001-07-27</td>\n",
              "    </tr>\n",
              "    <tr>\n",
              "      <th>557</th>\n",
              "      <td>6629</td>\n",
              "      <td>Malta National Bank</td>\n",
              "      <td>Malta</td>\n",
              "      <td>OH</td>\n",
              "      <td>North Valley Bank</td>\n",
              "      <td>2001-05-03</td>\n",
              "    </tr>\n",
              "    <tr>\n",
              "      <th>558</th>\n",
              "      <td>34264</td>\n",
              "      <td>First Alliance Bank &amp; Trust Co.</td>\n",
              "      <td>Manchester</td>\n",
              "      <td>NH</td>\n",
              "      <td>Southern New Hampshire Bank &amp; Trust</td>\n",
              "      <td>2001-02-02</td>\n",
              "    </tr>\n",
              "    <tr>\n",
              "      <th>559</th>\n",
              "      <td>3815</td>\n",
              "      <td>National State Bank of Metropolis</td>\n",
              "      <td>Metropolis</td>\n",
              "      <td>IL</td>\n",
              "      <td>Banterra Bank of Marion</td>\n",
              "      <td>2000-12-14</td>\n",
              "    </tr>\n",
              "    <tr>\n",
              "      <th>560</th>\n",
              "      <td>21029</td>\n",
              "      <td>Bank of Honolulu</td>\n",
              "      <td>Honolulu</td>\n",
              "      <td>HI</td>\n",
              "      <td>Bank of the Orient</td>\n",
              "      <td>2000-10-13</td>\n",
              "    </tr>\n",
              "  </tbody>\n",
              "</table>\n",
              "</div>"
            ],
            "text/plain": [
              "      CERT  ... Closing Date\n",
              "556  32646  ...   2001-07-27\n",
              "557   6629  ...   2001-05-03\n",
              "558  34264  ...   2001-02-02\n",
              "559   3815  ...   2000-12-14\n",
              "560  21029  ...   2000-10-13\n",
              "\n",
              "[5 rows x 6 columns]"
            ]
          },
          "metadata": {
            "tags": []
          },
          "execution_count": 6
        }
      ]
    },
    {
      "cell_type": "markdown",
      "metadata": {
        "id": "z5rR13f2tIN5"
      },
      "source": [
        "<br>"
      ]
    },
    {
      "cell_type": "markdown",
      "metadata": {
        "id": "ITvaK8s2UEVz"
      },
      "source": [
        "<br>\n",
        "\n",
        "### Dataframe info and statistics\n",
        "\n",
        "---"
      ]
    },
    {
      "cell_type": "code",
      "metadata": {
        "id": "LIYbnI77UOH5",
        "colab": {
          "base_uri": "https://localhost:8080/"
        },
        "outputId": "9eacfaf3-64cd-476f-d1ea-9ed3dce9ae8e"
      },
      "source": [
        "# Look at dataframe information for \"bank_detail\"\n",
        "bank_detail.info()"
      ],
      "execution_count": null,
      "outputs": [
        {
          "output_type": "stream",
          "text": [
            "<class 'pandas.core.frame.DataFrame'>\n",
            "RangeIndex: 579 entries, 0 to 578\n",
            "Data columns (total 7 columns):\n",
            " #   Column          Non-Null Count  Dtype  \n",
            "---  ------          --------------  -----  \n",
            " 0   CERT            579 non-null    int64  \n",
            " 1   FIN             566 non-null    float64\n",
            " 2   CHARTER         579 non-null    object \n",
            " 3   ESTIMATED LOSS  563 non-null    float64\n",
            " 4   ASSETS          579 non-null    int64  \n",
            " 5   DEPOSITS        579 non-null    int64  \n",
            " 6   RESOLUTION      579 non-null    object \n",
            "dtypes: float64(2), int64(3), object(2)\n",
            "memory usage: 31.8+ KB\n"
          ],
          "name": "stdout"
        }
      ]
    },
    {
      "cell_type": "markdown",
      "metadata": {
        "id": "gdn_K2ZQtJGz"
      },
      "source": [
        "<br>"
      ]
    },
    {
      "cell_type": "code",
      "metadata": {
        "id": "AFjDVJShUPNI",
        "colab": {
          "base_uri": "https://localhost:8080/",
          "height": 297
        },
        "outputId": "d2b5488f-395b-4fd4-e199-0909ae00cf76"
      },
      "source": [
        "# See basic statistics for dataframe \"bank_detail\"\n",
        "bank_detail.describe()"
      ],
      "execution_count": null,
      "outputs": [
        {
          "output_type": "execute_result",
          "data": {
            "text/html": [
              "<div>\n",
              "<style scoped>\n",
              "    .dataframe tbody tr th:only-of-type {\n",
              "        vertical-align: middle;\n",
              "    }\n",
              "\n",
              "    .dataframe tbody tr th {\n",
              "        vertical-align: top;\n",
              "    }\n",
              "\n",
              "    .dataframe thead th {\n",
              "        text-align: right;\n",
              "    }\n",
              "</style>\n",
              "<table border=\"1\" class=\"dataframe\">\n",
              "  <thead>\n",
              "    <tr style=\"text-align: right;\">\n",
              "      <th></th>\n",
              "      <th>CERT</th>\n",
              "      <th>FIN</th>\n",
              "      <th>ESTIMATED LOSS</th>\n",
              "      <th>ASSETS</th>\n",
              "      <th>DEPOSITS</th>\n",
              "    </tr>\n",
              "  </thead>\n",
              "  <tbody>\n",
              "    <tr>\n",
              "      <th>count</th>\n",
              "      <td>579.000000</td>\n",
              "      <td>566.000000</td>\n",
              "      <td>5.630000e+02</td>\n",
              "      <td>5.790000e+02</td>\n",
              "      <td>5.790000e+02</td>\n",
              "    </tr>\n",
              "    <tr>\n",
              "      <th>mean</th>\n",
              "      <td>31487.262522</td>\n",
              "      <td>9989.856890</td>\n",
              "      <td>1.302998e+05</td>\n",
              "      <td>6.794700e+06</td>\n",
              "      <td>3.265954e+06</td>\n",
              "    </tr>\n",
              "    <tr>\n",
              "      <th>std</th>\n",
              "      <td>16455.092323</td>\n",
              "      <td>1212.058394</td>\n",
              "      <td>5.876533e+05</td>\n",
              "      <td>8.050567e+07</td>\n",
              "      <td>4.165329e+07</td>\n",
              "    </tr>\n",
              "    <tr>\n",
              "      <th>min</th>\n",
              "      <td>91.000000</td>\n",
              "      <td>4641.000000</td>\n",
              "      <td>0.000000e+00</td>\n",
              "      <td>3.785000e+03</td>\n",
              "      <td>5.000000e+02</td>\n",
              "    </tr>\n",
              "    <tr>\n",
              "      <th>25%</th>\n",
              "      <td>19973.500000</td>\n",
              "      <td>10112.250000</td>\n",
              "      <td>1.480600e+04</td>\n",
              "      <td>9.122350e+04</td>\n",
              "      <td>7.871250e+04</td>\n",
              "    </tr>\n",
              "    <tr>\n",
              "      <th>50%</th>\n",
              "      <td>32069.000000</td>\n",
              "      <td>10253.500000</td>\n",
              "      <td>3.833400e+04</td>\n",
              "      <td>2.036900e+05</td>\n",
              "      <td>1.827600e+05</td>\n",
              "    </tr>\n",
              "    <tr>\n",
              "      <th>75%</th>\n",
              "      <td>35354.500000</td>\n",
              "      <td>10394.750000</td>\n",
              "      <td>9.262400e+04</td>\n",
              "      <td>5.042295e+05</td>\n",
              "      <td>4.424215e+05</td>\n",
              "    </tr>\n",
              "    <tr>\n",
              "      <th>max</th>\n",
              "      <td>58701.000000</td>\n",
              "      <td>10536.000000</td>\n",
              "      <td>1.207221e+07</td>\n",
              "      <td>1.471631e+09</td>\n",
              "      <td>9.546776e+08</td>\n",
              "    </tr>\n",
              "  </tbody>\n",
              "</table>\n",
              "</div>"
            ],
            "text/plain": [
              "               CERT           FIN  ESTIMATED LOSS        ASSETS      DEPOSITS\n",
              "count    579.000000    566.000000    5.630000e+02  5.790000e+02  5.790000e+02\n",
              "mean   31487.262522   9989.856890    1.302998e+05  6.794700e+06  3.265954e+06\n",
              "std    16455.092323   1212.058394    5.876533e+05  8.050567e+07  4.165329e+07\n",
              "min       91.000000   4641.000000    0.000000e+00  3.785000e+03  5.000000e+02\n",
              "25%    19973.500000  10112.250000    1.480600e+04  9.122350e+04  7.871250e+04\n",
              "50%    32069.000000  10253.500000    3.833400e+04  2.036900e+05  1.827600e+05\n",
              "75%    35354.500000  10394.750000    9.262400e+04  5.042295e+05  4.424215e+05\n",
              "max    58701.000000  10536.000000    1.207221e+07  1.471631e+09  9.546776e+08"
            ]
          },
          "metadata": {
            "tags": []
          },
          "execution_count": 8
        }
      ]
    },
    {
      "cell_type": "markdown",
      "metadata": {
        "id": "tCbft2XltJlb"
      },
      "source": [
        "<br>"
      ]
    },
    {
      "cell_type": "markdown",
      "metadata": {
        "id": "R-mFtdsyU_q-"
      },
      "source": [
        "<br>\n",
        "\n",
        "### Quickly count data frequency/percentages\n",
        "---"
      ]
    },
    {
      "cell_type": "code",
      "metadata": {
        "id": "rrNoVb_NVPtB",
        "colab": {
          "base_uri": "https://localhost:8080/"
        },
        "outputId": "cbb50f45-2518-44fe-fb3f-06ad4162432f"
      },
      "source": [
        "# How many failed banks in \"bank_detail\" were there in each charter type?\n",
        "bank_detail['CHARTER'].value_counts()"
      ],
      "execution_count": null,
      "outputs": [
        {
          "output_type": "execute_result",
          "data": {
            "text/plain": [
              "COMMERCIAL    433\n",
              "OTHER         146\n",
              "Name: CHARTER, dtype: int64"
            ]
          },
          "metadata": {
            "tags": []
          },
          "execution_count": 10
        }
      ]
    },
    {
      "cell_type": "markdown",
      "metadata": {
        "id": "0EeRKp_1tSyn"
      },
      "source": [
        "<br>"
      ]
    },
    {
      "cell_type": "code",
      "metadata": {
        "id": "plLyFiYEVQ89",
        "colab": {
          "base_uri": "https://localhost:8080/"
        },
        "outputId": "d230e852-7719-4c70-940d-d0167817ec17"
      },
      "source": [
        "# What percent of failed banks in \"bank_detail\" were there in each charter type?\n",
        "bank_detail['CHARTER'].value_counts(normalize=True)"
      ],
      "execution_count": null,
      "outputs": [
        {
          "output_type": "execute_result",
          "data": {
            "text/plain": [
              "COMMERCIAL    0.747841\n",
              "OTHER         0.252159\n",
              "Name: CHARTER, dtype: float64"
            ]
          },
          "metadata": {
            "tags": []
          },
          "execution_count": 11
        }
      ]
    },
    {
      "cell_type": "markdown",
      "metadata": {
        "id": "ug-uujyItUYY"
      },
      "source": [
        "<br>"
      ]
    },
    {
      "cell_type": "markdown",
      "metadata": {
        "id": "CpO9IGW8SgJ9"
      },
      "source": [
        "<br>\n",
        "\n",
        "### Find number of rows and columns\n",
        "---"
      ]
    },
    {
      "cell_type": "code",
      "metadata": {
        "id": "AN5bwWi6Scd2",
        "colab": {
          "base_uri": "https://localhost:8080/"
        },
        "outputId": "74016ffc-73d8-4bff-d467-7356fbeb19ea"
      },
      "source": [
        "# How many rows and columns?\n",
        "bank_list.shape"
      ],
      "execution_count": null,
      "outputs": [
        {
          "output_type": "execute_result",
          "data": {
            "text/plain": [
              "(561, 6)"
            ]
          },
          "metadata": {
            "tags": []
          },
          "execution_count": 12
        }
      ]
    },
    {
      "cell_type": "markdown",
      "metadata": {
        "id": "1dS1BfydtVqD"
      },
      "source": [
        "<br>"
      ]
    },
    {
      "cell_type": "code",
      "metadata": {
        "id": "eMJeFrm4SxoI",
        "colab": {
          "base_uri": "https://localhost:8080/"
        },
        "outputId": "281c2a8b-3253-464f-e842-f756e37654ba"
      },
      "source": [
        "# How many rows only?\n",
        "bank_list.shape[0]"
      ],
      "execution_count": null,
      "outputs": [
        {
          "output_type": "execute_result",
          "data": {
            "text/plain": [
              "561"
            ]
          },
          "metadata": {
            "tags": []
          },
          "execution_count": 13
        }
      ]
    },
    {
      "cell_type": "markdown",
      "metadata": {
        "id": "xSyire47tV9-"
      },
      "source": [
        "<br>"
      ]
    },
    {
      "cell_type": "code",
      "metadata": {
        "id": "IddI20JlTHXB",
        "colab": {
          "base_uri": "https://localhost:8080/"
        },
        "outputId": "f973ffe7-0eaf-4820-c1e7-ae3792d70ef2"
      },
      "source": [
        "# Perform calculations on shape\n",
        "bank_list.shape[0] +10"
      ],
      "execution_count": null,
      "outputs": [
        {
          "output_type": "execute_result",
          "data": {
            "text/plain": [
              "571"
            ]
          },
          "metadata": {
            "tags": []
          },
          "execution_count": 14
        }
      ]
    },
    {
      "cell_type": "markdown",
      "metadata": {
        "id": "XRJIwkXXtWUS"
      },
      "source": [
        "<br>"
      ]
    },
    {
      "cell_type": "markdown",
      "metadata": {
        "id": "JYUNryPIWCeM"
      },
      "source": [
        "<br>\n",
        "\n",
        "### List all columns in a dataframe\n",
        "---"
      ]
    },
    {
      "cell_type": "code",
      "metadata": {
        "id": "VLcjtzw1WGeQ",
        "colab": {
          "base_uri": "https://localhost:8080/"
        },
        "outputId": "74870f1c-6c7b-4141-fbc9-212661043bd6"
      },
      "source": [
        "# Return a list of all columns in \"bank_list\"\n",
        "bank_list.columns"
      ],
      "execution_count": null,
      "outputs": [
        {
          "output_type": "execute_result",
          "data": {
            "text/plain": [
              "Index(['CERT', 'Bank Name', 'City', 'ST', 'Acquiring Institution',\n",
              "       'Closing Date'],\n",
              "      dtype='object')"
            ]
          },
          "metadata": {
            "tags": []
          },
          "execution_count": 15
        }
      ]
    },
    {
      "cell_type": "markdown",
      "metadata": {
        "id": "l5O09u-ctaXU"
      },
      "source": [
        "<br>"
      ]
    },
    {
      "cell_type": "code",
      "metadata": {
        "id": "Xn4-EwnGWaB9"
      },
      "source": [
        "# Change the column names in \"bank_list\"\n",
        "new_columns = ['bank_number', 'bank_name', 'city', 'state', 'acquired_by', 'closed']\n",
        "\n",
        "bank_list.columns = new_columns"
      ],
      "execution_count": null,
      "outputs": []
    },
    {
      "cell_type": "markdown",
      "metadata": {
        "id": "3CILz6hutapS"
      },
      "source": [
        "<br>"
      ]
    },
    {
      "cell_type": "code",
      "metadata": {
        "id": "Q8pGnf44WqN3",
        "colab": {
          "base_uri": "https://localhost:8080/",
          "height": 204
        },
        "outputId": "04a1e1b7-3bfd-4053-e337-e17e03009404"
      },
      "source": [
        "# View the first 5 rows\n",
        "bank_list.head()"
      ],
      "execution_count": null,
      "outputs": [
        {
          "output_type": "execute_result",
          "data": {
            "text/html": [
              "<div>\n",
              "<style scoped>\n",
              "    .dataframe tbody tr th:only-of-type {\n",
              "        vertical-align: middle;\n",
              "    }\n",
              "\n",
              "    .dataframe tbody tr th {\n",
              "        vertical-align: top;\n",
              "    }\n",
              "\n",
              "    .dataframe thead th {\n",
              "        text-align: right;\n",
              "    }\n",
              "</style>\n",
              "<table border=\"1\" class=\"dataframe\">\n",
              "  <thead>\n",
              "    <tr style=\"text-align: right;\">\n",
              "      <th></th>\n",
              "      <th>bank_number</th>\n",
              "      <th>bank_name</th>\n",
              "      <th>city</th>\n",
              "      <th>state</th>\n",
              "      <th>acquired_by</th>\n",
              "      <th>closed</th>\n",
              "    </tr>\n",
              "  </thead>\n",
              "  <tbody>\n",
              "    <tr>\n",
              "      <th>0</th>\n",
              "      <td>14361</td>\n",
              "      <td>The First State Bank</td>\n",
              "      <td>Barboursville</td>\n",
              "      <td>WV</td>\n",
              "      <td>MVB Bank, Inc.</td>\n",
              "      <td>2020-04-03</td>\n",
              "    </tr>\n",
              "    <tr>\n",
              "      <th>1</th>\n",
              "      <td>18265</td>\n",
              "      <td>Ericson State Bank</td>\n",
              "      <td>Ericson</td>\n",
              "      <td>NE</td>\n",
              "      <td>Farmers and Merchants Bank</td>\n",
              "      <td>2020-02-14</td>\n",
              "    </tr>\n",
              "    <tr>\n",
              "      <th>2</th>\n",
              "      <td>21111</td>\n",
              "      <td>City National Bank of New Jersey</td>\n",
              "      <td>Newark</td>\n",
              "      <td>NJ</td>\n",
              "      <td>Industrial Bank</td>\n",
              "      <td>2019-11-01</td>\n",
              "    </tr>\n",
              "    <tr>\n",
              "      <th>3</th>\n",
              "      <td>58317</td>\n",
              "      <td>Resolute Bank</td>\n",
              "      <td>Maumee</td>\n",
              "      <td>OH</td>\n",
              "      <td>Buckeye State Bank</td>\n",
              "      <td>2019-10-25</td>\n",
              "    </tr>\n",
              "    <tr>\n",
              "      <th>4</th>\n",
              "      <td>58112</td>\n",
              "      <td>Louisa Community Bank</td>\n",
              "      <td>Louisa</td>\n",
              "      <td>KY</td>\n",
              "      <td>Kentucky Farmers Bank Corporation</td>\n",
              "      <td>2019-10-25</td>\n",
              "    </tr>\n",
              "  </tbody>\n",
              "</table>\n",
              "</div>"
            ],
            "text/plain": [
              "   bank_number  ...     closed\n",
              "0        14361  ... 2020-04-03\n",
              "1        18265  ... 2020-02-14\n",
              "2        21111  ... 2019-11-01\n",
              "3        58317  ... 2019-10-25\n",
              "4        58112  ... 2019-10-25\n",
              "\n",
              "[5 rows x 6 columns]"
            ]
          },
          "metadata": {
            "tags": []
          },
          "execution_count": 17
        }
      ]
    },
    {
      "cell_type": "markdown",
      "metadata": {
        "id": "mwhQM_efaC32"
      },
      "source": [
        "<br><br>\n",
        "**QUICK CHALLENGE #1: Answer questions about your data frame**\n",
        "\n",
        "Dataframes come with many functions and attributes that make exploring much easier.\n",
        "\n",
        "<br>\n",
        "\n",
        "**Task: Answer the following questions using the `bx_users` dataframe**\n",
        "\n",
        "\n",
        "*Hint: Select the correct answer and then press the play button to run the code*\n",
        "\n",
        "<br>"
      ]
    },
    {
      "cell_type": "code",
      "metadata": {
        "id": "uSe13Vx8cgK9",
        "cellView": "form",
        "colab": {
          "base_uri": "https://localhost:8080/"
        },
        "outputId": "d1752615-efac-40be-ebae-b6fd93fa1a00"
      },
      "source": [
        "#@title 1. What is the datatype of the location column? { run: \"auto\" }\n",
        "\n",
        "Your_Answer = \"object\" #@param [\"Select answer\", \"int64\", \"geo\", \"object\", \"float64\"]\n",
        "\n",
        "if(Your_Answer == \"object\"):\n",
        "  print('Great, that is correct!')\n",
        "else:\n",
        "  print(\"That is not correct, did you try using the .info() function?\")"
      ],
      "execution_count": null,
      "outputs": [
        {
          "output_type": "stream",
          "text": [
            "Great, that is correct!\n"
          ],
          "name": "stdout"
        }
      ]
    },
    {
      "cell_type": "code",
      "metadata": {
        "id": "J4cCKniKcYMr",
        "cellView": "form",
        "colab": {
          "base_uri": "https://localhost:8080/"
        },
        "outputId": "a8fcafdf-3978-4951-c0bd-6d101eede037"
      },
      "source": [
        "#@title 2. Are there any missing values? { run: \"auto\" }\n",
        "\n",
        "Your_Answer = \"Yes\" #@param [\"Select answer\", \"Yes\", \"No\"]\n",
        "\n",
        "if(Your_Answer == \"Yes\"):\n",
        "  print('Great, that is correct!')\n",
        "else:\n",
        "  print(\"That is not correct, did you try using the .info() function?\")"
      ],
      "execution_count": null,
      "outputs": [
        {
          "output_type": "stream",
          "text": [
            "Great, that is correct!\n"
          ],
          "name": "stdout"
        }
      ]
    },
    {
      "cell_type": "code",
      "metadata": {
        "id": "_OMs07G_bHP8",
        "cellView": "form",
        "colab": {
          "base_uri": "https://localhost:8080/"
        },
        "outputId": "c9807a72-6748-4f96-c9bd-d6396351f120"
      },
      "source": [
        "#@title 3. What is the average (mean) age across all users? (rounded) { run: \"auto\" }\n",
        "\n",
        "Your_Answer = \"35\" #@param [\"Select answer\", \"25\", \"30\", \"35\", \"40\"]\n",
        "\n",
        "if(Your_Answer == \"35\"):\n",
        "  print('Great, that is correct!')\n",
        "else:\n",
        "  print(\"That is not correct, did you try using the .describe() function?\")\n"
      ],
      "execution_count": null,
      "outputs": [
        {
          "output_type": "stream",
          "text": [
            "Great, that is correct!\n"
          ],
          "name": "stdout"
        }
      ]
    },
    {
      "cell_type": "markdown",
      "metadata": {
        "id": "EBpEU81HdKgQ"
      },
      "source": [
        "<br>"
      ]
    },
    {
      "cell_type": "code",
      "metadata": {
        "id": "vb8smPeEaXpS",
        "colab": {
          "base_uri": "https://localhost:8080/",
          "height": 419
        },
        "outputId": "90817457-14c8-4a9b-9caa-f18716986569"
      },
      "source": [
        "# Your code for quick challenge #1 here:\n",
        "bx_users"
      ],
      "execution_count": null,
      "outputs": [
        {
          "output_type": "execute_result",
          "data": {
            "text/html": [
              "<div>\n",
              "<style scoped>\n",
              "    .dataframe tbody tr th:only-of-type {\n",
              "        vertical-align: middle;\n",
              "    }\n",
              "\n",
              "    .dataframe tbody tr th {\n",
              "        vertical-align: top;\n",
              "    }\n",
              "\n",
              "    .dataframe thead th {\n",
              "        text-align: right;\n",
              "    }\n",
              "</style>\n",
              "<table border=\"1\" class=\"dataframe\">\n",
              "  <thead>\n",
              "    <tr style=\"text-align: right;\">\n",
              "      <th></th>\n",
              "      <th>user_id</th>\n",
              "      <th>location</th>\n",
              "      <th>age</th>\n",
              "    </tr>\n",
              "  </thead>\n",
              "  <tbody>\n",
              "    <tr>\n",
              "      <th>0</th>\n",
              "      <td>1</td>\n",
              "      <td>nyc, new york, usa</td>\n",
              "      <td>NaN</td>\n",
              "    </tr>\n",
              "    <tr>\n",
              "      <th>1</th>\n",
              "      <td>2</td>\n",
              "      <td>stockton, california, usa</td>\n",
              "      <td>18.0</td>\n",
              "    </tr>\n",
              "    <tr>\n",
              "      <th>2</th>\n",
              "      <td>3</td>\n",
              "      <td>moscow, yukon territory, russia</td>\n",
              "      <td>NaN</td>\n",
              "    </tr>\n",
              "    <tr>\n",
              "      <th>3</th>\n",
              "      <td>4</td>\n",
              "      <td>porto, v.n.gaia, portugal</td>\n",
              "      <td>17.0</td>\n",
              "    </tr>\n",
              "    <tr>\n",
              "      <th>4</th>\n",
              "      <td>5</td>\n",
              "      <td>farnborough, hants, united kingdom</td>\n",
              "      <td>NaN</td>\n",
              "    </tr>\n",
              "    <tr>\n",
              "      <th>...</th>\n",
              "      <td>...</td>\n",
              "      <td>...</td>\n",
              "      <td>...</td>\n",
              "    </tr>\n",
              "    <tr>\n",
              "      <th>278853</th>\n",
              "      <td>278854</td>\n",
              "      <td>portland, oregon, usa</td>\n",
              "      <td>NaN</td>\n",
              "    </tr>\n",
              "    <tr>\n",
              "      <th>278854</th>\n",
              "      <td>278855</td>\n",
              "      <td>tacoma, washington, united kingdom</td>\n",
              "      <td>50.0</td>\n",
              "    </tr>\n",
              "    <tr>\n",
              "      <th>278855</th>\n",
              "      <td>278856</td>\n",
              "      <td>brampton, ontario, canada</td>\n",
              "      <td>NaN</td>\n",
              "    </tr>\n",
              "    <tr>\n",
              "      <th>278856</th>\n",
              "      <td>278857</td>\n",
              "      <td>knoxville, tennessee, usa</td>\n",
              "      <td>NaN</td>\n",
              "    </tr>\n",
              "    <tr>\n",
              "      <th>278857</th>\n",
              "      <td>278858</td>\n",
              "      <td>dublin, n/a, ireland</td>\n",
              "      <td>NaN</td>\n",
              "    </tr>\n",
              "  </tbody>\n",
              "</table>\n",
              "<p>278858 rows × 3 columns</p>\n",
              "</div>"
            ],
            "text/plain": [
              "        user_id                            location   age\n",
              "0             1                  nyc, new york, usa   NaN\n",
              "1             2           stockton, california, usa  18.0\n",
              "2             3     moscow, yukon territory, russia   NaN\n",
              "3             4           porto, v.n.gaia, portugal  17.0\n",
              "4             5  farnborough, hants, united kingdom   NaN\n",
              "...         ...                                 ...   ...\n",
              "278853   278854               portland, oregon, usa   NaN\n",
              "278854   278855  tacoma, washington, united kingdom  50.0\n",
              "278855   278856           brampton, ontario, canada   NaN\n",
              "278856   278857           knoxville, tennessee, usa   NaN\n",
              "278857   278858                dublin, n/a, ireland   NaN\n",
              "\n",
              "[278858 rows x 3 columns]"
            ]
          },
          "metadata": {
            "tags": []
          },
          "execution_count": 18
        }
      ]
    },
    {
      "cell_type": "code",
      "metadata": {
        "colab": {
          "base_uri": "https://localhost:8080/"
        },
        "id": "NxaZM3lIjCOx",
        "outputId": "feea52d7-e915-4e9c-c441-875afdee9d9f"
      },
      "source": [
        "bx_users.info()"
      ],
      "execution_count": null,
      "outputs": [
        {
          "output_type": "stream",
          "text": [
            "<class 'pandas.core.frame.DataFrame'>\n",
            "RangeIndex: 278858 entries, 0 to 278857\n",
            "Data columns (total 3 columns):\n",
            " #   Column    Non-Null Count   Dtype  \n",
            "---  ------    --------------   -----  \n",
            " 0   user_id   278858 non-null  int64  \n",
            " 1   location  278858 non-null  object \n",
            " 2   age       168096 non-null  float64\n",
            "dtypes: float64(1), int64(1), object(1)\n",
            "memory usage: 6.4+ MB\n"
          ],
          "name": "stdout"
        }
      ]
    },
    {
      "cell_type": "markdown",
      "metadata": {
        "id": "9zBlg2gttdga"
      },
      "source": [
        "<br>"
      ]
    },
    {
      "cell_type": "code",
      "metadata": {
        "colab": {
          "base_uri": "https://localhost:8080/",
          "height": 297
        },
        "id": "l2TW-1vDjxUx",
        "outputId": "e0c5670b-1703-4f80-d278-86a788b757f7"
      },
      "source": [
        "bx_users.describe()"
      ],
      "execution_count": null,
      "outputs": [
        {
          "output_type": "execute_result",
          "data": {
            "text/html": [
              "<div>\n",
              "<style scoped>\n",
              "    .dataframe tbody tr th:only-of-type {\n",
              "        vertical-align: middle;\n",
              "    }\n",
              "\n",
              "    .dataframe tbody tr th {\n",
              "        vertical-align: top;\n",
              "    }\n",
              "\n",
              "    .dataframe thead th {\n",
              "        text-align: right;\n",
              "    }\n",
              "</style>\n",
              "<table border=\"1\" class=\"dataframe\">\n",
              "  <thead>\n",
              "    <tr style=\"text-align: right;\">\n",
              "      <th></th>\n",
              "      <th>user_id</th>\n",
              "      <th>age</th>\n",
              "    </tr>\n",
              "  </thead>\n",
              "  <tbody>\n",
              "    <tr>\n",
              "      <th>count</th>\n",
              "      <td>278858.00000</td>\n",
              "      <td>168096.000000</td>\n",
              "    </tr>\n",
              "    <tr>\n",
              "      <th>mean</th>\n",
              "      <td>139429.50000</td>\n",
              "      <td>34.751434</td>\n",
              "    </tr>\n",
              "    <tr>\n",
              "      <th>std</th>\n",
              "      <td>80499.51502</td>\n",
              "      <td>14.428097</td>\n",
              "    </tr>\n",
              "    <tr>\n",
              "      <th>min</th>\n",
              "      <td>1.00000</td>\n",
              "      <td>0.000000</td>\n",
              "    </tr>\n",
              "    <tr>\n",
              "      <th>25%</th>\n",
              "      <td>69715.25000</td>\n",
              "      <td>24.000000</td>\n",
              "    </tr>\n",
              "    <tr>\n",
              "      <th>50%</th>\n",
              "      <td>139429.50000</td>\n",
              "      <td>32.000000</td>\n",
              "    </tr>\n",
              "    <tr>\n",
              "      <th>75%</th>\n",
              "      <td>209143.75000</td>\n",
              "      <td>44.000000</td>\n",
              "    </tr>\n",
              "    <tr>\n",
              "      <th>max</th>\n",
              "      <td>278858.00000</td>\n",
              "      <td>244.000000</td>\n",
              "    </tr>\n",
              "  </tbody>\n",
              "</table>\n",
              "</div>"
            ],
            "text/plain": [
              "            user_id            age\n",
              "count  278858.00000  168096.000000\n",
              "mean   139429.50000      34.751434\n",
              "std     80499.51502      14.428097\n",
              "min         1.00000       0.000000\n",
              "25%     69715.25000      24.000000\n",
              "50%    139429.50000      32.000000\n",
              "75%    209143.75000      44.000000\n",
              "max    278858.00000     244.000000"
            ]
          },
          "metadata": {
            "tags": []
          },
          "execution_count": 25
        }
      ]
    },
    {
      "cell_type": "markdown",
      "metadata": {
        "id": "2uHm5padW6I0"
      },
      "source": [
        "<br>\n",
        "\n",
        "### Bonus: Explore data using Google Colab data table extension\n",
        "---"
      ]
    },
    {
      "cell_type": "code",
      "metadata": {
        "id": "LEMAwDKzW-Ai"
      },
      "source": [
        "# Load the data_table extension\n",
        "%load_ext google.colab.data_table"
      ],
      "execution_count": null,
      "outputs": []
    },
    {
      "cell_type": "markdown",
      "metadata": {
        "id": "b6RiTzh5tbuu"
      },
      "source": [
        "<br>"
      ]
    },
    {
      "cell_type": "code",
      "metadata": {
        "id": "P40hqj-kXNcP",
        "colab": {
          "base_uri": "https://localhost:8080/",
          "height": 623
        },
        "outputId": "a21de2d5-f22a-470e-93bf-3a6cd78b969e"
      },
      "source": [
        "# Inspect \"bank_list\" with data_table activated\n",
        "bank_list"
      ],
      "execution_count": null,
      "outputs": [
        {
          "output_type": "execute_result",
          "data": {
            "application/vnd.google.colaboratory.module+javascript": "\n      import \"https://ssl.gstatic.com/colaboratory/data_table/a6224c040fa35dcf/data_table.js\";\n\n      window.createDataTable({\n        data: [[{\n            'v': 0,\n            'f': \"0\",\n        },\n{\n            'v': 14361,\n            'f': \"14361\",\n        },\n\"The First State Bank\",\n\"Barboursville\",\n\"WV\",\n\"MVB Bank, Inc.\",\n\"2020-04-03 00:00:00\"],\n [{\n            'v': 1,\n            'f': \"1\",\n        },\n{\n            'v': 18265,\n            'f': \"18265\",\n        },\n\"Ericson State Bank\",\n\"Ericson\",\n\"NE\",\n\"Farmers and Merchants Bank\",\n\"2020-02-14 00:00:00\"],\n [{\n            'v': 2,\n            'f': \"2\",\n        },\n{\n            'v': 21111,\n            'f': \"21111\",\n        },\n\"City National Bank of New Jersey\",\n\"Newark\",\n\"NJ\",\n\"Industrial Bank\",\n\"2019-11-01 00:00:00\"],\n [{\n            'v': 3,\n            'f': \"3\",\n        },\n{\n            'v': 58317,\n            'f': \"58317\",\n        },\n\"Resolute Bank\",\n\"Maumee\",\n\"OH\",\n\"Buckeye State Bank\",\n\"2019-10-25 00:00:00\"],\n [{\n            'v': 4,\n            'f': \"4\",\n        },\n{\n            'v': 58112,\n            'f': \"58112\",\n        },\n\"Louisa Community Bank\",\n\"Louisa\",\n\"KY\",\n\"Kentucky Farmers Bank Corporation\",\n\"2019-10-25 00:00:00\"],\n [{\n            'v': 5,\n            'f': \"5\",\n        },\n{\n            'v': 10716,\n            'f': \"10716\",\n        },\n\"The Enloe State Bank\",\n\"Cooper\",\n\"TX\",\n\"Legend Bank, N. A.\",\n\"2019-05-31 00:00:00\"],\n [{\n            'v': 6,\n            'f': \"6\",\n        },\n{\n            'v': 30570,\n            'f': \"30570\",\n        },\n\"Washington Federal Bank for Savings\",\n\"Chicago\",\n\"IL\",\n\"Royal Savings Bank\",\n\"2017-12-15 00:00:00\"],\n [{\n            'v': 7,\n            'f': \"7\",\n        },\n{\n            'v': 17719,\n            'f': \"17719\",\n        },\n\"The Farmers and Merchants State Bank of Argonia\",\n\"Argonia\",\n\"KS\",\n\"Conway Bank\",\n\"2017-10-13 00:00:00\"],\n [{\n            'v': 8,\n            'f': \"8\",\n        },\n{\n            'v': 1802,\n            'f': \"1802\",\n        },\n\"Fayette County Bank\",\n\"Saint Elmo\",\n\"IL\",\n\"United Fidelity Bank, fsb\",\n\"2017-05-26 00:00:00\"],\n [{\n            'v': 9,\n            'f': \"9\",\n        },\n{\n            'v': 30003,\n            'f': \"30003\",\n        },\n\"Guaranty Bank, (d/b/a BestBank in Georgia & Michigan)\",\n\"Milwaukee\",\n\"WI\",\n\"First-Citizens Bank & Trust Company\",\n\"2017-05-05 00:00:00\"],\n [{\n            'v': 10,\n            'f': \"10\",\n        },\n{\n            'v': 58302,\n            'f': \"58302\",\n        },\n\"First NBC Bank\",\n\"New Orleans\",\n\"LA\",\n\"Whitney Bank\",\n\"2017-04-28 00:00:00\"],\n [{\n            'v': 11,\n            'f': \"11\",\n        },\n{\n            'v': 35495,\n            'f': \"35495\",\n        },\n\"Proficio Bank\",\n\"Cottonwood Heights\",\n\"UT\",\n\"Cache Valley Bank\",\n\"2017-03-03 00:00:00\"],\n [{\n            'v': 12,\n            'f': \"12\",\n        },\n{\n            'v': 19328,\n            'f': \"19328\",\n        },\n\"Seaway Bank and Trust Company\",\n\"Chicago\",\n\"IL\",\n\"State Bank of Texas\",\n\"2017-01-27 00:00:00\"],\n [{\n            'v': 13,\n            'f': \"13\",\n        },\n{\n            'v': 34951,\n            'f': \"34951\",\n        },\n\"Harvest Community Bank\",\n\"Pennsville\",\n\"NJ\",\n\"First-Citizens Bank & Trust Company\",\n\"2017-01-13 00:00:00\"],\n [{\n            'v': 14,\n            'f': \"14\",\n        },\n{\n            'v': 91,\n            'f': \"91\",\n        },\n\"Allied Bank\",\n\"Mulberry\",\n\"AR\",\n\"Today's Bank\",\n\"2016-09-23 00:00:00\"],\n [{\n            'v': 15,\n            'f': \"15\",\n        },\n{\n            'v': 11297,\n            'f': \"11297\",\n        },\n\"The Woodbury Banking Company\",\n\"Woodbury\",\n\"GA\",\n\"United Bank\",\n\"2016-08-19 00:00:00\"],\n [{\n            'v': 16,\n            'f': \"16\",\n        },\n{\n            'v': 35312,\n            'f': \"35312\",\n        },\n\"First CornerStone Bank\",\n\"King of Prussia\",\n\"PA\",\n\"First-Citizens Bank & Trust Company\",\n\"2016-05-06 00:00:00\"],\n [{\n            'v': 17,\n            'f': \"17\",\n        },\n{\n            'v': 9956,\n            'f': \"9956\",\n        },\n\"Trust Company Bank\",\n\"Memphis\",\n\"TN\",\n\"The Bank of Fayette County\",\n\"2016-04-29 00:00:00\"],\n [{\n            'v': 18,\n            'f': \"18\",\n        },\n{\n            'v': 20364,\n            'f': \"20364\",\n        },\n\"North Milwaukee State Bank\",\n\"Milwaukee\",\n\"WI\",\n\"First-Citizens Bank & Trust Company\",\n\"2016-03-11 00:00:00\"],\n [{\n            'v': 19,\n            'f': \"19\",\n        },\n{\n            'v': 35156,\n            'f': \"35156\",\n        },\n\"Hometown National Bank\",\n\"Longview\",\n\"WA\",\n\"Twin City Bank\",\n\"2015-10-02 00:00:00\"],\n [{\n            'v': 20,\n            'f': \"20\",\n        },\n{\n            'v': 35259,\n            'f': \"35259\",\n        },\n\"The Bank of Georgia\",\n\"Peachtree City\",\n\"GA\",\n\"Fidelity Bank\",\n\"2015-10-02 00:00:00\"],\n [{\n            'v': 21,\n            'f': \"21\",\n        },\n{\n            'v': 34112,\n            'f': \"34112\",\n        },\n\"Premier Bank\",\n\"Denver\",\n\"CO\",\n\"United Fidelity Bank, fsb\",\n\"2015-07-10 00:00:00\"],\n [{\n            'v': 22,\n            'f': \"22\",\n        },\n{\n            'v': 57772,\n            'f': \"57772\",\n        },\n\"Edgebrook Bank\",\n\"Chicago\",\n\"IL\",\n\"Republic Bank of Chicago\",\n\"2015-05-08 00:00:00\"],\n [{\n            'v': 23,\n            'f': \"23\",\n        },\n{\n            'v': 32102,\n            'f': \"32102\",\n        },\n\"Doral Bank\",\n\"San Juan\",\n\"PR\",\n\"Banco Popular de Puerto Rico\",\n\"2015-02-27 00:00:00\"],\n [{\n            'v': 24,\n            'f': \"24\",\n        },\n{\n            'v': 33938,\n            'f': \"33938\",\n        },\n\"Capitol City Bank & Trust Company\",\n\"Atlanta\",\n\"GA\",\n\"First-Citizens Bank & Trust Company\",\n\"2015-02-13 00:00:00\"],\n [{\n            'v': 25,\n            'f': \"25\",\n        },\n{\n            'v': 20290,\n            'f': \"20290\",\n        },\n\"Highland Community Bank\",\n\"Chicago\",\n\"IL\",\n\"United Fidelity Bank, fsb\",\n\"2015-01-23 00:00:00\"],\n [{\n            'v': 26,\n            'f': \"26\",\n        },\n{\n            'v': 17557,\n            'f': \"17557\",\n        },\n\"First National Bank of Crestview\",\n\"Crestview\",\n\"FL\",\n\"First NBC Bank\",\n\"2015-01-16 00:00:00\"],\n [{\n            'v': 27,\n            'f': \"27\",\n        },\n{\n            'v': 34983,\n            'f': \"34983\",\n        },\n\"Northern Star Bank\",\n\"Mankato\",\n\"MN\",\n\"BankVista\",\n\"2014-12-19 00:00:00\"],\n [{\n            'v': 28,\n            'f': \"28\",\n        },\n{\n            'v': 34738,\n            'f': \"34738\",\n        },\n\"Frontier Bank, FSB D/B/A El Paseo Bank\",\n\"Palm Desert\",\n\"CA\",\n\"Bank of Southern California, N.A.\",\n\"2014-11-07 00:00:00\"],\n [{\n            'v': 29,\n            'f': \"29\",\n        },\n{\n            'v': 916,\n            'f': \"916\",\n        },\n\"The National Republic Bank of Chicago\",\n\"Chicago\",\n\"IL\",\n\"State Bank of Texas\",\n\"2014-10-24 00:00:00\"],\n [{\n            'v': 30,\n            'f': \"30\",\n        },\n{\n            'v': 4862,\n            'f': \"4862\",\n        },\n\"NBRS Financial\",\n\"Rising Sun\",\n\"MD\",\n\"Howard Bank\",\n\"2014-10-17 00:00:00\"],\n [{\n            'v': 31,\n            'f': \"31\",\n        },\n{\n            'v': 28462,\n            'f': \"28462\",\n        },\n\"GreenChoice Bank, fsb\",\n\"Chicago\",\n\"IL\",\n\"Providence Bank, LLC\",\n\"2014-07-25 00:00:00\"],\n [{\n            'v': 32,\n            'f': \"32\",\n        },\n{\n            'v': 58125,\n            'f': \"58125\",\n        },\n\"Eastside Commercial Bank\",\n\"Conyers\",\n\"GA\",\n\"Community & Southern Bank\",\n\"2014-07-18 00:00:00\"],\n [{\n            'v': 33,\n            'f': \"33\",\n        },\n{\n            'v': 12483,\n            'f': \"12483\",\n        },\n\"The Freedom State Bank\",\n\"Freedom\",\n\"OK\",\n\"Alva State Bank & Trust Company\",\n\"2014-06-27 00:00:00\"],\n [{\n            'v': 34,\n            'f': \"34\",\n        },\n{\n            'v': 21793,\n            'f': \"21793\",\n        },\n\"Valley Bank\",\n\"Fort Lauderdale\",\n\"FL\",\n\"Landmark Bank, National Association\",\n\"2014-06-20 00:00:00\"],\n [{\n            'v': 35,\n            'f': \"35\",\n        },\n{\n            'v': 10450,\n            'f': \"10450\",\n        },\n\"Valley Bank\",\n\"Moline\",\n\"IL\",\n\"Great Southern Bank\",\n\"2014-06-20 00:00:00\"],\n [{\n            'v': 36,\n            'f': \"36\",\n        },\n{\n            'v': 32368,\n            'f': \"32368\",\n        },\n\"Slavie Federal Savings Bank\",\n\"Bel Air\",\n\"MD\",\n\"Bay Bank, FSB\",\n\"2014-05-30 00:00:00\"],\n [{\n            'v': 37,\n            'f': \"37\",\n        },\n{\n            'v': 32284,\n            'f': \"32284\",\n        },\n\"Columbia Savings Bank\",\n\"Cincinnati\",\n\"OH\",\n\"United Fidelity Bank, fsb\",\n\"2014-05-23 00:00:00\"],\n [{\n            'v': 38,\n            'f': \"38\",\n        },\n{\n            'v': 57866,\n            'f': \"57866\",\n        },\n\"AztecAmerica Bank\",\n\"Berwyn\",\n\"IL\",\n\"Republic Bank of Chicago\",\n\"2014-05-16 00:00:00\"],\n [{\n            'v': 39,\n            'f': \"39\",\n        },\n{\n            'v': 15062,\n            'f': \"15062\",\n        },\n\"Allendale County Bank\",\n\"Fairfax\",\n\"SC\",\n\"Palmetto State Bank\",\n\"2014-04-25 00:00:00\"],\n [{\n            'v': 40,\n            'f': \"40\",\n        },\n{\n            'v': 58531,\n            'f': \"58531\",\n        },\n\"Vantage Point Bank\",\n\"Horsham\",\n\"PA\",\n\"First Choice Bank\",\n\"2014-02-28 00:00:00\"],\n [{\n            'v': 41,\n            'f': \"41\",\n        },\n{\n            'v': 35096,\n            'f': \"35096\",\n        },\n\"Millennium Bank, National Association\",\n\"Sterling\",\n\"VA\",\n\"WashingtonFirst Bank\",\n\"2014-02-28 00:00:00\"],\n [{\n            'v': 42,\n            'f': \"42\",\n        },\n{\n            'v': 34296,\n            'f': \"34296\",\n        },\n\"Syringa Bank\",\n\"Boise\",\n\"ID\",\n\"Sunwest Bank\",\n\"2014-01-31 00:00:00\"],\n [{\n            'v': 43,\n            'f': \"43\",\n        },\n{\n            'v': 17967,\n            'f': \"17967\",\n        },\n\"The Bank of Union\",\n\"El Reno\",\n\"OK\",\n\"BancFirst\",\n\"2014-01-24 00:00:00\"],\n [{\n            'v': 44,\n            'f': \"44\",\n        },\n{\n            'v': 5732,\n            'f': \"5732\",\n        },\n\"DuPage National Bank\",\n\"West Chicago\",\n\"IL\",\n\"Republic Bank of Chicago\",\n\"2014-01-17 00:00:00\"],\n [{\n            'v': 45,\n            'f': \"45\",\n        },\n{\n            'v': 57431,\n            'f': \"57431\",\n        },\n\"Texas Community Bank, National Association\",\n\"The Woodlands\",\n\"TX\",\n\"Spirit of Texas Bank, SSB\",\n\"2013-12-13 00:00:00\"],\n [{\n            'v': 46,\n            'f': \"46\",\n        },\n{\n            'v': 14794,\n            'f': \"14794\",\n        },\n\"Bank of Jackson County\",\n\"Graceville\",\n\"FL\",\n\"First Federal Bank of Florida\",\n\"2013-10-30 00:00:00\"],\n [{\n            'v': 47,\n            'f': \"47\",\n        },\n{\n            'v': 14318,\n            'f': \"14318\",\n        },\n\"First National Bank also operating as The National Bank of El Paso\",\n\"Edinburg\",\n\"TX\",\n\"PlainsCapital Bank\",\n\"2013-09-13 00:00:00\"],\n [{\n            'v': 48,\n            'f': \"48\",\n        },\n{\n            'v': 57041,\n            'f': \"57041\",\n        },\n\"The Community's Bank\",\n\"Bridgeport\",\n\"CT\",\n\"No Acquirer\",\n\"2013-09-13 00:00:00\"],\n [{\n            'v': 49,\n            'f': \"49\",\n        },\n{\n            'v': 34707,\n            'f': \"34707\",\n        },\n\"Sunrise Bank of Arizona\",\n\"Phoenix\",\n\"AZ\",\n\"First Fidelity Bank, National Association\",\n\"2013-08-23 00:00:00\"],\n [{\n            'v': 50,\n            'f': \"50\",\n        },\n{\n            'v': 19849,\n            'f': \"19849\",\n        },\n\"Community South Bank\",\n\"Parsons\",\n\"TN\",\n\"CB&S Bank, Inc.\",\n\"2013-08-23 00:00:00\"],\n [{\n            'v': 51,\n            'f': \"51\",\n        },\n{\n            'v': 35016,\n            'f': \"35016\",\n        },\n\"Bank of Wausau\",\n\"Wausau\",\n\"WI\",\n\"Nicolet National Bank\",\n\"2013-08-09 00:00:00\"],\n [{\n            'v': 52,\n            'f': \"52\",\n        },\n{\n            'v': 34943,\n            'f': \"34943\",\n        },\n\"First Community Bank of Southwest Florida (also operating as Community Bank of Cape Coral)\",\n\"Fort Myers\",\n\"FL\",\n\"C1 Bank\",\n\"2013-08-02 00:00:00\"],\n [{\n            'v': 53,\n            'f': \"53\",\n        },\n{\n            'v': 34789,\n            'f': \"34789\",\n        },\n\"Mountain National Bank\",\n\"Sevierville\",\n\"TN\",\n\"First Tennessee Bank, National Association\",\n\"2013-06-07 00:00:00\"],\n [{\n            'v': 54,\n            'f': \"54\",\n        },\n{\n            'v': 58358,\n            'f': \"58358\",\n        },\n\"1st Commerce Bank\",\n\"North Las Vegas\",\n\"NV\",\n\"Plaza Bank\",\n\"2013-06-06 00:00:00\"],\n [{\n            'v': 55,\n            'f': \"55\",\n        },\n{\n            'v': 35386,\n            'f': \"35386\",\n        },\n\"Banks of Wisconsin d/b/a Bank of Kenosha\",\n\"Kenosha\",\n\"WI\",\n\"North Shore Bank, FSB\",\n\"2013-05-31 00:00:00\"],\n [{\n            'v': 56,\n            'f': \"56\",\n        },\n{\n            'v': 34527,\n            'f': \"34527\",\n        },\n\"Central Arizona Bank\",\n\"Scottsdale\",\n\"AZ\",\n\"Western State Bank\",\n\"2013-05-14 00:00:00\"],\n [{\n            'v': 57,\n            'f': \"57\",\n        },\n{\n            'v': 58185,\n            'f': \"58185\",\n        },\n\"Sunrise Bank\",\n\"Valdosta\",\n\"GA\",\n\"Synovus Bank\",\n\"2013-05-10 00:00:00\"],\n [{\n            'v': 58,\n            'f': \"58\",\n        },\n{\n            'v': 58701,\n            'f': \"58701\",\n        },\n\"Pisgah Community Bank\",\n\"Asheville\",\n\"NC\",\n\"Capital Bank, N.A.\",\n\"2013-05-10 00:00:00\"],\n [{\n            'v': 59,\n            'f': \"59\",\n        },\n{\n            'v': 21649,\n            'f': \"21649\",\n        },\n\"Douglas County Bank\",\n\"Douglasville\",\n\"GA\",\n\"Hamilton State Bank\",\n\"2013-04-26 00:00:00\"],\n [{\n            'v': 60,\n            'f': \"60\",\n        },\n{\n            'v': 57158,\n            'f': \"57158\",\n        },\n\"Parkway Bank\",\n\"Lenoir\",\n\"NC\",\n\"CertusBank, National Association\",\n\"2013-04-26 00:00:00\"],\n [{\n            'v': 61,\n            'f': \"61\",\n        },\n{\n            'v': 58034,\n            'f': \"58034\",\n        },\n\"Chipola Community Bank\",\n\"Marianna\",\n\"FL\",\n\"First Federal Bank of Florida\",\n\"2013-04-19 00:00:00\"],\n [{\n            'v': 62,\n            'f': \"62\",\n        },\n{\n            'v': 26680,\n            'f': \"26680\",\n        },\n\"Heritage Bank of North Florida\",\n\"Orange Park\",\n\"FL\",\n\"FirstAtlantic Bank\",\n\"2013-04-19 00:00:00\"],\n [{\n            'v': 63,\n            'f': \"63\",\n        },\n{\n            'v': 29594,\n            'f': \"29594\",\n        },\n\"First Federal Bank\",\n\"Lexington\",\n\"KY\",\n\"Your Community Bank\",\n\"2013-04-19 00:00:00\"],\n [{\n            'v': 64,\n            'f': \"64\",\n        },\n{\n            'v': 58066,\n            'f': \"58066\",\n        },\n\"Gold Canyon Bank\",\n\"Gold Canyon\",\n\"AZ\",\n\"First Scottsdale Bank, National Association\",\n\"2013-04-05 00:00:00\"],\n [{\n            'v': 65,\n            'f': \"65\",\n        },\n{\n            'v': 16431,\n            'f': \"16431\",\n        },\n\"Frontier Bank\",\n\"LaGrange\",\n\"GA\",\n\"HeritageBank of the South\",\n\"2013-03-08 00:00:00\"],\n [{\n            'v': 66,\n            'f': \"66\",\n        },\n{\n            'v': 22476,\n            'f': \"22476\",\n        },\n\"Covenant Bank\",\n\"Chicago\",\n\"IL\",\n\"Liberty Bank and Trust Company\",\n\"2013-02-15 00:00:00\"],\n [{\n            'v': 67,\n            'f': \"67\",\n        },\n{\n            'v': 57157,\n            'f': \"57157\",\n        },\n\"1st Regents Bank\",\n\"Andover\",\n\"MN\",\n\"First Minnesota Bank\",\n\"2013-01-18 00:00:00\"],\n [{\n            'v': 68,\n            'f': \"68\",\n        },\n{\n            'v': 33997,\n            'f': \"33997\",\n        },\n\"Westside Community Bank\",\n\"University Place\",\n\"WA\",\n\"Sunwest Bank\",\n\"2013-01-11 00:00:00\"],\n [{\n            'v': 69,\n            'f': \"69\",\n        },\n{\n            'v': 27331,\n            'f': \"27331\",\n        },\n\"Community Bank of the Ozarks\",\n\"Sunrise Beach\",\n\"MO\",\n\"Bank of Sullivan\",\n\"2012-12-14 00:00:00\"],\n [{\n            'v': 70,\n            'f': \"70\",\n        },\n{\n            'v': 57928,\n            'f': \"57928\",\n        },\n\"Hometown Community Bank\",\n\"Braselton\",\n\"GA\",\n\"CertusBank, National Association\",\n\"2012-11-16 00:00:00\"],\n [{\n            'v': 71,\n            'f': \"71\",\n        },\n{\n            'v': 3731,\n            'f': \"3731\",\n        },\n\"Citizens First National Bank\",\n\"Princeton\",\n\"IL\",\n\"Heartland Bank and Trust Company\",\n\"2012-11-02 00:00:00\"],\n [{\n            'v': 72,\n            'f': \"72\",\n        },\n{\n            'v': 35009,\n            'f': \"35009\",\n        },\n\"Heritage Bank of Florida\",\n\"Lutz\",\n\"FL\",\n\"Centennial Bank\",\n\"2012-11-02 00:00:00\"],\n [{\n            'v': 73,\n            'f': \"73\",\n        },\n{\n            'v': 27148,\n            'f': \"27148\",\n        },\n\"NOVA Bank\",\n\"Berwyn\",\n\"PA\",\n\"No Acquirer\",\n\"2012-10-26 00:00:00\"],\n [{\n            'v': 74,\n            'f': \"74\",\n        },\n{\n            'v': 19189,\n            'f': \"19189\",\n        },\n\"Excel Bank\",\n\"Sedalia\",\n\"MO\",\n\"Simmons First National Bank\",\n\"2012-10-19 00:00:00\"],\n [{\n            'v': 75,\n            'f': \"75\",\n        },\n{\n            'v': 28144,\n            'f': \"28144\",\n        },\n\"First East Side Savings Bank\",\n\"Tamarac\",\n\"FL\",\n\"Stearns Bank N.A.\",\n\"2012-10-19 00:00:00\"],\n [{\n            'v': 76,\n            'f': \"76\",\n        },\n{\n            'v': 58073,\n            'f': \"58073\",\n        },\n\"GulfSouth Private Bank\",\n\"Destin\",\n\"FL\",\n\"SmartBank\",\n\"2012-10-19 00:00:00\"],\n [{\n            'v': 77,\n            'f': \"77\",\n        },\n{\n            'v': 20685,\n            'f': \"20685\",\n        },\n\"First United Bank\",\n\"Crete\",\n\"IL\",\n\"Old Plank Trail Community Bank, National Association\",\n\"2012-09-28 00:00:00\"],\n [{\n            'v': 78,\n            'f': \"78\",\n        },\n{\n            'v': 27316,\n            'f': \"27316\",\n        },\n\"Truman Bank\",\n\"St. Louis\",\n\"MO\",\n\"Simmons First National Bank\",\n\"2012-09-14 00:00:00\"],\n [{\n            'v': 79,\n            'f': \"79\",\n        },\n{\n            'v': 35246,\n            'f': \"35246\",\n        },\n\"First Commercial Bank\",\n\"Bloomington\",\n\"MN\",\n\"Republic Bank & Trust Company\",\n\"2012-09-07 00:00:00\"],\n [{\n            'v': 80,\n            'f': \"80\",\n        },\n{\n            'v': 28243,\n            'f': \"28243\",\n        },\n\"Waukegan Savings Bank\",\n\"Waukegan\",\n\"IL\",\n\"First Midwest Bank\",\n\"2012-08-03 00:00:00\"],\n [{\n            'v': 81,\n            'f': \"81\",\n        },\n{\n            'v': 16240,\n            'f': \"16240\",\n        },\n\"Jasper Banking Company\",\n\"Jasper\",\n\"GA\",\n\"Stearns Bank N.A.\",\n\"2012-07-27 00:00:00\"],\n [{\n            'v': 82,\n            'f': \"82\",\n        },\n{\n            'v': 27986,\n            'f': \"27986\",\n        },\n\"Second Federal Savings and Loan Association of Chicago\",\n\"Chicago\",\n\"IL\",\n\"Hinsdale Bank & Trust Company\",\n\"2012-07-20 00:00:00\"],\n [{\n            'v': 83,\n            'f': \"83\",\n        },\n{\n            'v': 1361,\n            'f': \"1361\",\n        },\n\"Heartland Bank\",\n\"Leawood\",\n\"KS\",\n\"Metcalf Bank\",\n\"2012-07-20 00:00:00\"],\n [{\n            'v': 84,\n            'f': \"84\",\n        },\n{\n            'v': 32711,\n            'f': \"32711\",\n        },\n\"First Cherokee State Bank\",\n\"Woodstock\",\n\"GA\",\n\"Community & Southern Bank\",\n\"2012-07-20 00:00:00\"],\n [{\n            'v': 85,\n            'f': \"85\",\n        },\n{\n            'v': 57847,\n            'f': \"57847\",\n        },\n\"Georgia Trust Bank\",\n\"Buford\",\n\"GA\",\n\"Community & Southern Bank\",\n\"2012-07-20 00:00:00\"],\n [{\n            'v': 86,\n            'f': \"86\",\n        },\n{\n            'v': 57096,\n            'f': \"57096\",\n        },\n\"The Royal Palm Bank of Florida\",\n\"Naples\",\n\"FL\",\n\"First National Bank of the Gulf Coast\",\n\"2012-07-20 00:00:00\"],\n [{\n            'v': 87,\n            'f': \"87\",\n        },\n{\n            'v': 1056,\n            'f': \"1056\",\n        },\n\"Glasgow Savings Bank\",\n\"Glasgow\",\n\"MO\",\n\"Regional Missouri Bank\",\n\"2012-07-13 00:00:00\"],\n [{\n            'v': 88,\n            'f': \"88\",\n        },\n{\n            'v': 19498,\n            'f': \"19498\",\n        },\n\"Montgomery Bank & Trust\",\n\"Ailey\",\n\"GA\",\n\"Ameris Bank\",\n\"2012-07-06 00:00:00\"],\n [{\n            'v': 89,\n            'f': \"89\",\n        },\n{\n            'v': 1690,\n            'f': \"1690\",\n        },\n\"The Farmers Bank of Lynchburg\",\n\"Lynchburg\",\n\"TN\",\n\"Clayton Bank and Trust\",\n\"2012-06-15 00:00:00\"],\n [{\n            'v': 90,\n            'f': \"90\",\n        },\n{\n            'v': 35299,\n            'f': \"35299\",\n        },\n\"Security Exchange Bank\",\n\"Marietta\",\n\"GA\",\n\"Fidelity Bank\",\n\"2012-06-15 00:00:00\"],\n [{\n            'v': 91,\n            'f': \"91\",\n        },\n{\n            'v': 27405,\n            'f': \"27405\",\n        },\n\"Putnam State Bank\",\n\"Palatka\",\n\"FL\",\n\"Harbor Community Bank\",\n\"2012-06-15 00:00:00\"],\n [{\n            'v': 92,\n            'f': \"92\",\n        },\n{\n            'v': 34515,\n            'f': \"34515\",\n        },\n\"Waccamaw Bank\",\n\"Whiteville\",\n\"NC\",\n\"First Community Bank\",\n\"2012-06-08 00:00:00\"],\n [{\n            'v': 93,\n            'f': \"93\",\n        },\n{\n            'v': 9257,\n            'f': \"9257\",\n        },\n\"Farmers' and Traders' State Bank\",\n\"Shabbona\",\n\"IL\",\n\"First State Bank\",\n\"2012-06-08 00:00:00\"],\n [{\n            'v': 94,\n            'f': \"94\",\n        },\n{\n            'v': 35372,\n            'f': \"35372\",\n        },\n\"Carolina Federal Savings Bank\",\n\"Charleston\",\n\"SC\",\n\"Bank of North Carolina\",\n\"2012-06-08 00:00:00\"],\n [{\n            'v': 95,\n            'f': \"95\",\n        },\n{\n            'v': 416,\n            'f': \"416\",\n        },\n\"First Capital Bank\",\n\"Kingfisher\",\n\"OK\",\n\"F & M Bank\",\n\"2012-06-08 00:00:00\"],\n [{\n            'v': 96,\n            'f': \"96\",\n        },\n{\n            'v': 35224,\n            'f': \"35224\",\n        },\n\"Alabama Trust Bank, National Association\",\n\"Sylacauga\",\n\"AL\",\n\"Southern States Bank\",\n\"2012-05-18 00:00:00\"],\n [{\n            'v': 97,\n            'f': \"97\",\n        },\n{\n            'v': 23156,\n            'f': \"23156\",\n        },\n\"Security Bank, National Association\",\n\"North Lauderdale\",\n\"FL\",\n\"Banesco USA\",\n\"2012-05-04 00:00:00\"],\n [{\n            'v': 98,\n            'f': \"98\",\n        },\n{\n            'v': 23632,\n            'f': \"23632\",\n        },\n\"Palm Desert National Bank\",\n\"Palm Desert\",\n\"CA\",\n\"Pacific Premier Bank\",\n\"2012-04-27 00:00:00\"],\n [{\n            'v': 99,\n            'f': \"99\",\n        },\n{\n            'v': 32503,\n            'f': \"32503\",\n        },\n\"Plantation Federal Bank\",\n\"Pawleys Island\",\n\"SC\",\n\"First Federal Bank\",\n\"2012-04-27 00:00:00\"],\n [{\n            'v': 100,\n            'f': \"100\",\n        },\n{\n            'v': 31495,\n            'f': \"31495\",\n        },\n\"Inter Savings Bank, fsb D/B/A InterBank, fsb\",\n\"Maple Grove\",\n\"MN\",\n\"Great Southern Bank\",\n\"2012-04-27 00:00:00\"],\n [{\n            'v': 101,\n            'f': \"101\",\n        },\n{\n            'v': 57766,\n            'f': \"57766\",\n        },\n\"HarVest Bank of Maryland\",\n\"Gaithersburg\",\n\"MD\",\n\"Sonabank\",\n\"2012-04-27 00:00:00\"],\n [{\n            'v': 102,\n            'f': \"102\",\n        },\n{\n            'v': 26759,\n            'f': \"26759\",\n        },\n\"Bank of the Eastern Shore\",\n\"Cambridge\",\n\"MD\",\n\"No Acquirer\",\n\"2012-04-27 00:00:00\"],\n [{\n            'v': 103,\n            'f': \"103\",\n        },\n{\n            'v': 35527,\n            'f': \"35527\",\n        },\n\"Fort Lee Federal Savings Bank, FSB\",\n\"Fort Lee\",\n\"NJ\",\n\"Alma Bank\",\n\"2012-04-20 00:00:00\"],\n [{\n            'v': 104,\n            'f': \"104\",\n        },\n{\n            'v': 33883,\n            'f': \"33883\",\n        },\n\"Fidelity Bank\",\n\"Dearborn\",\n\"MI\",\n\"The Huntington National Bank\",\n\"2012-03-30 00:00:00\"],\n [{\n            'v': 105,\n            'f': \"105\",\n        },\n{\n            'v': 35419,\n            'f': \"35419\",\n        },\n\"Premier Bank\",\n\"Wilmette\",\n\"IL\",\n\"International Bank of Chicago\",\n\"2012-03-23 00:00:00\"],\n [{\n            'v': 106,\n            'f': \"106\",\n        },\n{\n            'v': 58068,\n            'f': \"58068\",\n        },\n\"Covenant Bank & Trust\",\n\"Rock Spring\",\n\"GA\",\n\"Stearns Bank, N.A.\",\n\"2012-03-23 00:00:00\"],\n [{\n            'v': 107,\n            'f': \"107\",\n        },\n{\n            'v': 57597,\n            'f': \"57597\",\n        },\n\"New City Bank\",\n\"Chicago\",\n\"IL\",\n\"No Acquirer\",\n\"2012-03-09 00:00:00\"],\n [{\n            'v': 108,\n            'f': \"108\",\n        },\n{\n            'v': 34046,\n            'f': \"34046\",\n        },\n\"Global Commerce Bank\",\n\"Doraville\",\n\"GA\",\n\"Metro City Bank\",\n\"2012-03-02 00:00:00\"],\n [{\n            'v': 109,\n            'f': \"109\",\n        },\n{\n            'v': 29178,\n            'f': \"29178\",\n        },\n\"Home Savings of America\",\n\"Little Falls\",\n\"MN\",\n\"No Acquirer\",\n\"2012-02-24 00:00:00\"],\n [{\n            'v': 110,\n            'f': \"110\",\n        },\n{\n            'v': 5687,\n            'f': \"5687\",\n        },\n\"Central Bank of Georgia\",\n\"Ellaville\",\n\"GA\",\n\"Ameris Bank\",\n\"2012-02-24 00:00:00\"],\n [{\n            'v': 111,\n            'f': \"111\",\n        },\n{\n            'v': 29761,\n            'f': \"29761\",\n        },\n\"SCB Bank\",\n\"Shelbyville\",\n\"IN\",\n\"First Merchants Bank, National Association\",\n\"2012-02-10 00:00:00\"],\n [{\n            'v': 112,\n            'f': \"112\",\n        },\n{\n            'v': 23187,\n            'f': \"23187\",\n        },\n\"Charter National Bank and Trust\",\n\"Hoffman Estates\",\n\"IL\",\n\"Barrington Bank & Trust Company, National Association\",\n\"2012-02-10 00:00:00\"],\n [{\n            'v': 113,\n            'f': \"113\",\n        },\n{\n            'v': 19869,\n            'f': \"19869\",\n        },\n\"BankEast\",\n\"Knoxville\",\n\"TN\",\n\"U.S. Bank, N.A.\",\n\"2012-01-27 00:00:00\"],\n [{\n            'v': 114,\n            'f': \"114\",\n        },\n{\n            'v': 34823,\n            'f': \"34823\",\n        },\n\"Patriot Bank Minnesota\",\n\"Forest Lake\",\n\"MN\",\n\"First Resource Bank\",\n\"2012-01-27 00:00:00\"],\n [{\n            'v': 115,\n            'f': \"115\",\n        },\n{\n            'v': 35296,\n            'f': \"35296\",\n        },\n\"Tennessee Commerce Bank\",\n\"Franklin\",\n\"TN\",\n\"Republic Bank & Trust Company\",\n\"2012-01-27 00:00:00\"],\n [{\n            'v': 116,\n            'f': \"116\",\n        },\n{\n            'v': 16579,\n            'f': \"16579\",\n        },\n\"First Guaranty Bank and Trust Company of Jacksonville\",\n\"Jacksonville\",\n\"FL\",\n\"CenterState Bank of Florida, N.A.\",\n\"2012-01-27 00:00:00\"],\n [{\n            'v': 117,\n            'f': \"117\",\n        },\n{\n            'v': 31581,\n            'f': \"31581\",\n        },\n\"American Eagle Savings Bank\",\n\"Boothwyn\",\n\"PA\",\n\"Capital Bank, N.A.\",\n\"2012-01-20 00:00:00\"],\n [{\n            'v': 118,\n            'f': \"118\",\n        },\n{\n            'v': 19252,\n            'f': \"19252\",\n        },\n\"The First State Bank\",\n\"Stockbridge\",\n\"GA\",\n\"Hamilton State Bank\",\n\"2012-01-20 00:00:00\"],\n [{\n            'v': 119,\n            'f': \"119\",\n        },\n{\n            'v': 57186,\n            'f': \"57186\",\n        },\n\"Central Florida State Bank\",\n\"Belleview\",\n\"FL\",\n\"CenterState Bank of Florida, N.A.\",\n\"2012-01-20 00:00:00\"],\n [{\n            'v': 120,\n            'f': \"120\",\n        },\n{\n            'v': 57917,\n            'f': \"57917\",\n        },\n\"Western National Bank\",\n\"Phoenix\",\n\"AZ\",\n\"Washington Federal\",\n\"2011-12-16 00:00:00\"],\n [{\n            'v': 121,\n            'f': \"121\",\n        },\n{\n            'v': 58343,\n            'f': \"58343\",\n        },\n\"Premier Community Bank of the Emerald Coast\",\n\"Crestview\",\n\"FL\",\n\"Summit Bank\",\n\"2011-12-16 00:00:00\"],\n [{\n            'v': 122,\n            'f': \"122\",\n        },\n{\n            'v': 19657,\n            'f': \"19657\",\n        },\n\"Central Progressive Bank\",\n\"Lacombe\",\n\"LA\",\n\"First NBC Bank\",\n\"2011-11-18 00:00:00\"],\n [{\n            'v': 123,\n            'f': \"123\",\n        },\n{\n            'v': 14194,\n            'f': \"14194\",\n        },\n\"Polk County Bank\",\n\"Johnston\",\n\"IA\",\n\"Grinnell State Bank\",\n\"2011-11-18 00:00:00\"],\n [{\n            'v': 124,\n            'f': \"124\",\n        },\n{\n            'v': 57860,\n            'f': \"57860\",\n        },\n\"Community Bank of Rockmart\",\n\"Rockmart\",\n\"GA\",\n\"Century Bank of Georgia\",\n\"2011-11-10 00:00:00\"],\n [{\n            'v': 125,\n            'f': \"125\",\n        },\n{\n            'v': 57087,\n            'f': \"57087\",\n        },\n\"SunFirst Bank\",\n\"Saint George\",\n\"UT\",\n\"Cache Valley Bank\",\n\"2011-11-04 00:00:00\"],\n [{\n            'v': 126,\n            'f': \"126\",\n        },\n{\n            'v': 19397,\n            'f': \"19397\",\n        },\n\"Mid City Bank, Inc.\",\n\"Omaha\",\n\"NE\",\n\"Premier Bank\",\n\"2011-11-04 00:00:00\"],\n [{\n            'v': 127,\n            'f': \"127\",\n        },\n{\n            'v': 57759,\n            'f': \"57759\",\n        },\n\"All American Bank\",\n\"Des Plaines\",\n\"IL\",\n\"International Bank of Chicago\",\n\"2011-10-28 00:00:00\"],\n [{\n            'v': 128,\n            'f': \"128\",\n        },\n{\n            'v': 21132,\n            'f': \"21132\",\n        },\n\"Community Banks of Colorado\",\n\"Greenwood Village\",\n\"CO\",\n\"Bank Midwest, N.A.\",\n\"2011-10-21 00:00:00\"],\n [{\n            'v': 129,\n            'f': \"129\",\n        },\n{\n            'v': 57036,\n            'f': \"57036\",\n        },\n\"Community Capital Bank\",\n\"Jonesboro\",\n\"GA\",\n\"State Bank and Trust Company\",\n\"2011-10-21 00:00:00\"],\n [{\n            'v': 130,\n            'f': \"130\",\n        },\n{\n            'v': 34392,\n            'f': \"34392\",\n        },\n\"Decatur First Bank\",\n\"Decatur\",\n\"GA\",\n\"Fidelity Bank\",\n\"2011-10-21 00:00:00\"],\n [{\n            'v': 131,\n            'f': \"131\",\n        },\n{\n            'v': 57537,\n            'f': \"57537\",\n        },\n\"Old Harbor Bank\",\n\"Clearwater\",\n\"FL\",\n\"1st United Bank\",\n\"2011-10-21 00:00:00\"],\n [{\n            'v': 132,\n            'f': \"132\",\n        },\n{\n            'v': 35395,\n            'f': \"35395\",\n        },\n\"Country Bank\",\n\"Aledo\",\n\"IL\",\n\"Blackhawk Bank & Trust\",\n\"2011-10-14 00:00:00\"],\n [{\n            'v': 133,\n            'f': \"133\",\n        },\n{\n            'v': 58046,\n            'f': \"58046\",\n        },\n\"First State Bank\",\n\"Cranford\",\n\"NJ\",\n\"Northfield Bank\",\n\"2011-10-14 00:00:00\"],\n [{\n            'v': 134,\n            'f': \"134\",\n        },\n{\n            'v': 32347,\n            'f': \"32347\",\n        },\n\"Blue Ridge Savings Bank, Inc.\",\n\"Asheville\",\n\"NC\",\n\"Bank of North Carolina\",\n\"2011-10-14 00:00:00\"],\n [{\n            'v': 135,\n            'f': \"135\",\n        },\n{\n            'v': 57256,\n            'f': \"57256\",\n        },\n\"Piedmont Community Bank\",\n\"Gray\",\n\"GA\",\n\"State Bank and Trust Company\",\n\"2011-10-14 00:00:00\"],\n [{\n            'v': 136,\n            'f': \"136\",\n        },\n{\n            'v': 20115,\n            'f': \"20115\",\n        },\n\"Sun Security Bank\",\n\"Ellington\",\n\"MO\",\n\"Great Southern Bank\",\n\"2011-10-07 00:00:00\"],\n [{\n            'v': 137,\n            'f': \"137\",\n        },\n{\n            'v': 10216,\n            'f': \"10216\",\n        },\n\"The RiverBank\",\n\"Wyoming\",\n\"MN\",\n\"Central Bank\",\n\"2011-10-07 00:00:00\"],\n [{\n            'v': 138,\n            'f': \"138\",\n        },\n{\n            'v': 33513,\n            'f': \"33513\",\n        },\n\"First International Bank\",\n\"Plano\",\n\"TX\",\n\"American First National Bank\",\n\"2011-09-30 00:00:00\"],\n [{\n            'v': 139,\n            'f': \"139\",\n        },\n{\n            'v': 33983,\n            'f': \"33983\",\n        },\n\"Citizens Bank of Northern California\",\n\"Nevada City\",\n\"CA\",\n\"Tri Counties Bank\",\n\"2011-09-23 00:00:00\"],\n [{\n            'v': 140,\n            'f': \"140\",\n        },\n{\n            'v': 20408,\n            'f': \"20408\",\n        },\n\"Bank of the Commonwealth\",\n\"Norfolk\",\n\"VA\",\n\"Southern Bank and Trust Company\",\n\"2011-09-23 00:00:00\"],\n [{\n            'v': 141,\n            'f': \"141\",\n        },\n{\n            'v': 25155,\n            'f': \"25155\",\n        },\n\"The First National Bank of Florida\",\n\"Milton\",\n\"FL\",\n\"CharterBank\",\n\"2011-09-09 00:00:00\"],\n [{\n            'v': 142,\n            'f': \"142\",\n        },\n{\n            'v': 58226,\n            'f': \"58226\",\n        },\n\"CreekSide Bank\",\n\"Woodstock\",\n\"GA\",\n\"Georgia Commerce Bank\",\n\"2011-09-02 00:00:00\"],\n [{\n            'v': 143,\n            'f': \"143\",\n        },\n{\n            'v': 58273,\n            'f': \"58273\",\n        },\n\"Patriot Bank of Georgia\",\n\"Cumming\",\n\"GA\",\n\"Georgia Commerce Bank\",\n\"2011-09-02 00:00:00\"],\n [{\n            'v': 144,\n            'f': \"144\",\n        },\n{\n            'v': 57212,\n            'f': \"57212\",\n        },\n\"First Choice Bank\",\n\"Geneva\",\n\"IL\",\n\"Inland Bank & Trust\",\n\"2011-08-19 00:00:00\"],\n [{\n            'v': 145,\n            'f': \"145\",\n        },\n{\n            'v': 57239,\n            'f': \"57239\",\n        },\n\"First Southern National Bank\",\n\"Statesboro\",\n\"GA\",\n\"Heritage Bank of the South\",\n\"2011-08-19 00:00:00\"],\n [{\n            'v': 146,\n            'f': \"146\",\n        },\n{\n            'v': 35356,\n            'f': \"35356\",\n        },\n\"Lydian Private Bank\",\n\"Palm Beach\",\n\"FL\",\n\"Sabadell United Bank, N.A.\",\n\"2011-08-19 00:00:00\"],\n [{\n            'v': 147,\n            'f': \"147\",\n        },\n{\n            'v': 34130,\n            'f': \"34130\",\n        },\n\"Public Savings Bank\",\n\"Huntingdon Valley\",\n\"PA\",\n\"Capital Bank, N.A.\",\n\"2011-08-18 00:00:00\"],\n [{\n            'v': 148,\n            'f': \"148\",\n        },\n{\n            'v': 4744,\n            'f': \"4744\",\n        },\n\"The First National Bank of Olathe\",\n\"Olathe\",\n\"KS\",\n\"Enterprise Bank & Trust\",\n\"2011-08-12 00:00:00\"],\n [{\n            'v': 149,\n            'f': \"149\",\n        },\n{\n            'v': 22528,\n            'f': \"22528\",\n        },\n\"Bank of Whitman\",\n\"Colfax\",\n\"WA\",\n\"Columbia State Bank\",\n\"2011-08-05 00:00:00\"],\n [{\n            'v': 150,\n            'f': \"150\",\n        },\n{\n            'v': 22637,\n            'f': \"22637\",\n        },\n\"Bank of Shorewood\",\n\"Shorewood\",\n\"IL\",\n\"Heartland Bank and Trust Company\",\n\"2011-08-05 00:00:00\"],\n [{\n            'v': 151,\n            'f': \"151\",\n        },\n{\n            'v': 4392,\n            'f': \"4392\",\n        },\n\"Integra Bank National Association\",\n\"Evansville\",\n\"IN\",\n\"Old National Bank\",\n\"2011-07-29 00:00:00\"],\n [{\n            'v': 152,\n            'f': \"152\",\n        },\n{\n            'v': 58222,\n            'f': \"58222\",\n        },\n\"BankMeridian, N.A.\",\n\"Columbia\",\n\"SC\",\n\"SCBT National Association\",\n\"2011-07-29 00:00:00\"],\n [{\n            'v': 153,\n            'f': \"153\",\n        },\n{\n            'v': 58283,\n            'f': \"58283\",\n        },\n\"Virginia Business Bank\",\n\"Richmond\",\n\"VA\",\n\"Xenith Bank\",\n\"2011-07-29 00:00:00\"],\n [{\n            'v': 154,\n            'f': \"154\",\n        },\n{\n            'v': 2994,\n            'f': \"2994\",\n        },\n\"Bank of Choice\",\n\"Greeley\",\n\"CO\",\n\"Bank Midwest, N.A.\",\n\"2011-07-22 00:00:00\"],\n [{\n            'v': 155,\n            'f': \"155\",\n        },\n{\n            'v': 35244,\n            'f': \"35244\",\n        },\n\"LandMark Bank of Florida\",\n\"Sarasota\",\n\"FL\",\n\"American Momentum Bank\",\n\"2011-07-22 00:00:00\"],\n [{\n            'v': 156,\n            'f': \"156\",\n        },\n{\n            'v': 58056,\n            'f': \"58056\",\n        },\n\"Southshore Community Bank\",\n\"Apollo Beach\",\n\"FL\",\n\"American Momentum Bank\",\n\"2011-07-22 00:00:00\"],\n [{\n            'v': 157,\n            'f': \"157\",\n        },\n{\n            'v': 57442,\n            'f': \"57442\",\n        },\n\"Summit Bank\",\n\"Prescott\",\n\"AZ\",\n\"The Foothills Bank\",\n\"2011-07-15 00:00:00\"],\n [{\n            'v': 158,\n            'f': \"158\",\n        },\n{\n            'v': 34870,\n            'f': \"34870\",\n        },\n\"First Peoples Bank\",\n\"Port St. Lucie\",\n\"FL\",\n\"Premier American Bank, N.A.\",\n\"2011-07-15 00:00:00\"],\n [{\n            'v': 159,\n            'f': \"159\",\n        },\n{\n            'v': 19554,\n            'f': \"19554\",\n        },\n\"High Trust Bank\",\n\"Stockbridge\",\n\"GA\",\n\"Ameris Bank\",\n\"2011-07-15 00:00:00\"],\n [{\n            'v': 160,\n            'f': \"160\",\n        },\n{\n            'v': 58238,\n            'f': \"58238\",\n        },\n\"One Georgia Bank\",\n\"Atlanta\",\n\"GA\",\n\"Ameris Bank\",\n\"2011-07-15 00:00:00\"],\n [{\n            'v': 161,\n            'f': \"161\",\n        },\n{\n            'v': 57835,\n            'f': \"57835\",\n        },\n\"Signature Bank\",\n\"Windsor\",\n\"CO\",\n\"Points West Community Bank\",\n\"2011-07-08 00:00:00\"],\n [{\n            'v': 162,\n            'f': \"162\",\n        },\n{\n            'v': 34522,\n            'f': \"34522\",\n        },\n\"Colorado Capital Bank\",\n\"Castle Rock\",\n\"CO\",\n\"First-Citizens Bank & Trust Company\",\n\"2011-07-08 00:00:00\"],\n [{\n            'v': 163,\n            'f': \"163\",\n        },\n{\n            'v': 27935,\n            'f': \"27935\",\n        },\n\"First Chicago Bank & Trust\",\n\"Chicago\",\n\"IL\",\n\"Northbrook Bank & Trust Company\",\n\"2011-07-08 00:00:00\"],\n [{\n            'v': 164,\n            'f': \"164\",\n        },\n{\n            'v': 57593,\n            'f': \"57593\",\n        },\n\"Mountain Heritage Bank\",\n\"Clayton\",\n\"GA\",\n\"First American Bank and Trust Company\",\n\"2011-06-24 00:00:00\"],\n [{\n            'v': 165,\n            'f': \"165\",\n        },\n{\n            'v': 27583,\n            'f': \"27583\",\n        },\n\"First Commercial Bank of Tampa Bay\",\n\"Tampa\",\n\"FL\",\n\"Stonegate Bank\",\n\"2011-06-17 00:00:00\"],\n [{\n            'v': 166,\n            'f': \"166\",\n        },\n{\n            'v': 19237,\n            'f': \"19237\",\n        },\n\"McIntosh State Bank\",\n\"Jackson\",\n\"GA\",\n\"Hamilton State Bank\",\n\"2011-06-17 00:00:00\"],\n [{\n            'v': 167,\n            'f': \"167\",\n        },\n{\n            'v': 58420,\n            'f': \"58420\",\n        },\n\"Atlantic Bank and Trust\",\n\"Charleston\",\n\"SC\",\n\"First Citizens Bank and Trust Company, Inc.\",\n\"2011-06-03 00:00:00\"],\n [{\n            'v': 168,\n            'f': \"168\",\n        },\n{\n            'v': 23626,\n            'f': \"23626\",\n        },\n\"First Heritage Bank\",\n\"Snohomish\",\n\"WA\",\n\"Columbia State Bank\",\n\"2011-05-27 00:00:00\"],\n [{\n            'v': 169,\n            'f': \"169\",\n        },\n{\n            'v': 513,\n            'f': \"513\",\n        },\n\"Summit Bank\",\n\"Burlington\",\n\"WA\",\n\"Columbia State Bank\",\n\"2011-05-20 00:00:00\"],\n [{\n            'v': 170,\n            'f': \"170\",\n        },\n{\n            'v': 57647,\n            'f': \"57647\",\n        },\n\"First Georgia Banking Company\",\n\"Franklin\",\n\"GA\",\n\"CertusBank, National Association\",\n\"2011-05-20 00:00:00\"],\n [{\n            'v': 171,\n            'f': \"171\",\n        },\n{\n            'v': 57213,\n            'f': \"57213\",\n        },\n\"Atlantic Southern Bank\",\n\"Macon\",\n\"GA\",\n\"CertusBank, National Association\",\n\"2011-05-20 00:00:00\"],\n [{\n            'v': 172,\n            'f': \"172\",\n        },\n{\n            'v': 34898,\n            'f': \"34898\",\n        },\n\"Coastal Bank\",\n\"Cocoa Beach\",\n\"FL\",\n\"Florida Community Bank, a division of Premier American Bank, N.A.\",\n\"2011-05-06 00:00:00\"],\n [{\n            'v': 173,\n            'f': \"173\",\n        },\n{\n            'v': 34234,\n            'f': \"34234\",\n        },\n\"Community Central Bank\",\n\"Mount Clemens\",\n\"MI\",\n\"Talmer Bank & Trust\",\n\"2011-04-29 00:00:00\"],\n [{\n            'v': 174,\n            'f': \"174\",\n        },\n{\n            'v': 19797,\n            'f': \"19797\",\n        },\n\"The Park Avenue Bank\",\n\"Valdosta\",\n\"GA\",\n\"Bank of the Ozarks\",\n\"2011-04-29 00:00:00\"],\n [{\n            'v': 175,\n            'f': \"175\",\n        },\n{\n            'v': 58539,\n            'f': \"58539\",\n        },\n\"First Choice Community Bank\",\n\"Dallas\",\n\"GA\",\n\"Bank of the Ozarks\",\n\"2011-04-29 00:00:00\"],\n [{\n            'v': 176,\n            'f': \"176\",\n        },\n{\n            'v': 57625,\n            'f': \"57625\",\n        },\n\"Cortez Community Bank\",\n\"Brooksville\",\n\"FL\",\n\"Florida Community Bank, a division of Premier American Bank, N.A.\",\n\"2011-04-29 00:00:00\"],\n [{\n            'v': 177,\n            'f': \"177\",\n        },\n{\n            'v': 26297,\n            'f': \"26297\",\n        },\n\"First National Bank of Central Florida\",\n\"Winter Park\",\n\"FL\",\n\"Florida Community Bank, a division of Premier American Bank, N.A.\",\n\"2011-04-29 00:00:00\"],\n [{\n            'v': 178,\n            'f': \"178\",\n        },\n{\n            'v': 14273,\n            'f': \"14273\",\n        },\n\"Heritage Banking Group\",\n\"Carthage\",\n\"MS\",\n\"Trustmark National Bank\",\n\"2011-04-15 00:00:00\"],\n [{\n            'v': 179,\n            'f': \"179\",\n        },\n{\n            'v': 24099,\n            'f': \"24099\",\n        },\n\"Rosemount National Bank\",\n\"Rosemount\",\n\"MN\",\n\"Central Bank\",\n\"2011-04-15 00:00:00\"],\n [{\n            'v': 180,\n            'f': \"180\",\n        },\n{\n            'v': 17750,\n            'f': \"17750\",\n        },\n\"Superior Bank\",\n\"Birmingham\",\n\"AL\",\n\"Superior Bank, National Association\",\n\"2011-04-15 00:00:00\"],\n [{\n            'v': 181,\n            'f': \"181\",\n        },\n{\n            'v': 19794,\n            'f': \"19794\",\n        },\n\"Nexity Bank\",\n\"Birmingham\",\n\"AL\",\n\"AloStar Bank of Commerce\",\n\"2011-04-15 00:00:00\"],\n [{\n            'v': 182,\n            'f': \"182\",\n        },\n{\n            'v': 57705,\n            'f': \"57705\",\n        },\n\"New Horizons Bank\",\n\"East Ellijay\",\n\"GA\",\n\"Citizens South Bank\",\n\"2011-04-15 00:00:00\"],\n [{\n            'v': 183,\n            'f': \"183\",\n        },\n{\n            'v': 21495,\n            'f': \"21495\",\n        },\n\"Bartow County Bank\",\n\"Cartersville\",\n\"GA\",\n\"Hamilton State Bank\",\n\"2011-04-15 00:00:00\"],\n [{\n            'v': 184,\n            'f': \"184\",\n        },\n{\n            'v': 35418,\n            'f': \"35418\",\n        },\n\"Nevada Commerce Bank\",\n\"Las Vegas\",\n\"NV\",\n\"City National Bank\",\n\"2011-04-08 00:00:00\"],\n [{\n            'v': 185,\n            'f': \"185\",\n        },\n{\n            'v': 10086,\n            'f': \"10086\",\n        },\n\"Western Springs National Bank and Trust\",\n\"Western Springs\",\n\"IL\",\n\"Heartland Bank and Trust Company\",\n\"2011-04-08 00:00:00\"],\n [{\n            'v': 186,\n            'f': \"186\",\n        },\n{\n            'v': 34292,\n            'f': \"34292\",\n        },\n\"The Bank of Commerce\",\n\"Wood Dale\",\n\"IL\",\n\"Advantage National Bank Group\",\n\"2011-03-25 00:00:00\"],\n [{\n            'v': 187,\n            'f': \"187\",\n        },\n{\n            'v': 34818,\n            'f': \"34818\",\n        },\n\"Legacy Bank\",\n\"Milwaukee\",\n\"WI\",\n\"Seaway Bank and Trust Company\",\n\"2011-03-11 00:00:00\"],\n [{\n            'v': 188,\n            'f': \"188\",\n        },\n{\n            'v': 4077,\n            'f': \"4077\",\n        },\n\"First National Bank of Davis\",\n\"Davis\",\n\"OK\",\n\"The Pauls Valley National Bank\",\n\"2011-03-11 00:00:00\"],\n [{\n            'v': 189,\n            'f': \"189\",\n        },\n{\n            'v': 34187,\n            'f': \"34187\",\n        },\n\"Valley Community Bank\",\n\"St. Charles\",\n\"IL\",\n\"First State Bank\",\n\"2011-02-25 00:00:00\"],\n [{\n            'v': 190,\n            'f': \"190\",\n        },\n{\n            'v': 34783,\n            'f': \"34783\",\n        },\n\"San Luis Trust Bank, FSB\",\n\"San Luis Obispo\",\n\"CA\",\n\"First California Bank\",\n\"2011-02-18 00:00:00\"],\n [{\n            'v': 191,\n            'f': \"191\",\n        },\n{\n            'v': 57855,\n            'f': \"57855\",\n        },\n\"Charter Oak Bank\",\n\"Napa\",\n\"CA\",\n\"Bank of Marin\",\n\"2011-02-18 00:00:00\"],\n [{\n            'v': 192,\n            'f': \"192\",\n        },\n{\n            'v': 34601,\n            'f': \"34601\",\n        },\n\"Citizens Bank of Effingham\",\n\"Springfield\",\n\"GA\",\n\"Heritage Bank of the South\",\n\"2011-02-18 00:00:00\"],\n [{\n            'v': 193,\n            'f': \"193\",\n        },\n{\n            'v': 151,\n            'f': \"151\",\n        },\n\"Habersham Bank\",\n\"Clarkesville\",\n\"GA\",\n\"SCBT National Association\",\n\"2011-02-18 00:00:00\"],\n [{\n            'v': 194,\n            'f': \"194\",\n        },\n{\n            'v': 34692,\n            'f': \"34692\",\n        },\n\"Canyon National Bank\",\n\"Palm Springs\",\n\"CA\",\n\"Pacific Premier Bank\",\n\"2011-02-11 00:00:00\"],\n [{\n            'v': 195,\n            'f': \"195\",\n        },\n{\n            'v': 13272,\n            'f': \"13272\",\n        },\n\"Badger State Bank\",\n\"Cassville\",\n\"WI\",\n\"Royal Bank\",\n\"2011-02-11 00:00:00\"],\n [{\n            'v': 196,\n            'f': \"196\",\n        },\n{\n            'v': 14939,\n            'f': \"14939\",\n        },\n\"Peoples State Bank\",\n\"Hamtramck\",\n\"MI\",\n\"First Michigan Bank\",\n\"2011-02-11 00:00:00\"],\n [{\n            'v': 197,\n            'f': \"197\",\n        },\n{\n            'v': 35478,\n            'f': \"35478\",\n        },\n\"Sunshine State Community Bank\",\n\"Port Orange\",\n\"FL\",\n\"Premier American Bank, N.A.\",\n\"2011-02-11 00:00:00\"],\n [{\n            'v': 198,\n            'f': \"198\",\n        },\n{\n            'v': 57948,\n            'f': \"57948\",\n        },\n\"Community First Bank Chicago\",\n\"Chicago\",\n\"IL\",\n\"Northbrook Bank & Trust Company\",\n\"2011-02-04 00:00:00\"],\n [{\n            'v': 199,\n            'f': \"199\",\n        },\n{\n            'v': 35242,\n            'f': \"35242\",\n        },\n\"North Georgia Bank\",\n\"Watkinsville\",\n\"GA\",\n\"BankSouth\",\n\"2011-02-04 00:00:00\"],\n [{\n            'v': 200,\n            'f': \"200\",\n        },\n{\n            'v': 57432,\n            'f': \"57432\",\n        },\n\"American Trust Bank\",\n\"Roswell\",\n\"GA\",\n\"Renasant Bank\",\n\"2011-02-04 00:00:00\"],\n [{\n            'v': 201,\n            'f': \"201\",\n        },\n{\n            'v': 12261,\n            'f': \"12261\",\n        },\n\"First Community Bank\",\n\"Taos\",\n\"NM\",\n\"U.S. Bank, N.A.\",\n\"2011-01-28 00:00:00\"],\n [{\n            'v': 202,\n            'f': \"202\",\n        },\n{\n            'v': 57646,\n            'f': \"57646\",\n        },\n\"FirsTier Bank\",\n\"Louisville\",\n\"CO\",\n\"No Acquirer\",\n\"2011-01-28 00:00:00\"],\n [{\n            'v': 203,\n            'f': \"203\",\n        },\n{\n            'v': 5328,\n            'f': \"5328\",\n        },\n\"Evergreen State Bank\",\n\"Stoughton\",\n\"WI\",\n\"McFarland State Bank\",\n\"2011-01-28 00:00:00\"],\n [{\n            'v': 204,\n            'f': \"204\",\n        },\n{\n            'v': 2303,\n            'f': \"2303\",\n        },\n\"The First State Bank\",\n\"Camargo\",\n\"OK\",\n\"Bank 7\",\n\"2011-01-28 00:00:00\"],\n [{\n            'v': 205,\n            'f': \"205\",\n        },\n{\n            'v': 31293,\n            'f': \"31293\",\n        },\n\"United Western Bank\",\n\"Denver\",\n\"CO\",\n\"First-Citizens Bank & Trust Company\",\n\"2011-01-21 00:00:00\"],\n [{\n            'v': 206,\n            'f': \"206\",\n        },\n{\n            'v': 34516,\n            'f': \"34516\",\n        },\n\"The Bank of Asheville\",\n\"Asheville\",\n\"NC\",\n\"First Bank\",\n\"2011-01-21 00:00:00\"],\n [{\n            'v': 207,\n            'f': \"207\",\n        },\n{\n            'v': 57868,\n            'f': \"57868\",\n        },\n\"CommunitySouth Bank & Trust\",\n\"Easley\",\n\"SC\",\n\"CertusBank, National Association\",\n\"2011-01-21 00:00:00\"],\n [{\n            'v': 208,\n            'f': \"208\",\n        },\n{\n            'v': 19758,\n            'f': \"19758\",\n        },\n\"Enterprise Banking Company\",\n\"McDonough\",\n\"GA\",\n\"No Acquirer\",\n\"2011-01-21 00:00:00\"],\n [{\n            'v': 209,\n            'f': \"209\",\n        },\n{\n            'v': 57440,\n            'f': \"57440\",\n        },\n\"Oglethorpe Bank\",\n\"Brunswick\",\n\"GA\",\n\"Bank of the Ozarks\",\n\"2011-01-14 00:00:00\"],\n [{\n            'v': 210,\n            'f': \"210\",\n        },\n{\n            'v': 57820,\n            'f': \"57820\",\n        },\n\"Legacy Bank\",\n\"Scottsdale\",\n\"AZ\",\n\"Enterprise Bank & Trust\",\n\"2011-01-07 00:00:00\"],\n [{\n            'v': 211,\n            'f': \"211\",\n        },\n{\n            'v': 34965,\n            'f': \"34965\",\n        },\n\"First Commercial Bank of Florida\",\n\"Orlando\",\n\"FL\",\n\"First Southern Bank\",\n\"2011-01-07 00:00:00\"],\n [{\n            'v': 212,\n            'f': \"212\",\n        },\n{\n            'v': 23306,\n            'f': \"23306\",\n        },\n\"Community National Bank\",\n\"Lino Lakes\",\n\"MN\",\n\"Farmers & Merchants Savings Bank\",\n\"2010-12-17 00:00:00\"],\n [{\n            'v': 213,\n            'f': \"213\",\n        },\n{\n            'v': 58052,\n            'f': \"58052\",\n        },\n\"First Southern Bank\",\n\"Batesville\",\n\"AR\",\n\"Southern Bank\",\n\"2010-12-17 00:00:00\"],\n [{\n            'v': 214,\n            'f': \"214\",\n        },\n{\n            'v': 35065,\n            'f': \"35065\",\n        },\n\"United Americas Bank, N.A.\",\n\"Atlanta\",\n\"GA\",\n\"State Bank and Trust Company\",\n\"2010-12-17 00:00:00\"],\n [{\n            'v': 215,\n            'f': \"215\",\n        },\n{\n            'v': 58495,\n            'f': \"58495\",\n        },\n\"Appalachian Community Bank, FSB\",\n\"McCaysville\",\n\"GA\",\n\"Peoples Bank of East Tennessee\",\n\"2010-12-17 00:00:00\"],\n [{\n            'v': 216,\n            'f': \"216\",\n        },\n{\n            'v': 34578,\n            'f': \"34578\",\n        },\n\"Chestatee State Bank\",\n\"Dawsonville\",\n\"GA\",\n\"Bank of the Ozarks\",\n\"2010-12-17 00:00:00\"],\n [{\n            'v': 217,\n            'f': \"217\",\n        },\n{\n            'v': 19040,\n            'f': \"19040\",\n        },\n\"The Bank of Miami,N.A.\",\n\"Coral Gables\",\n\"FL\",\n\"1st United Bank\",\n\"2010-12-17 00:00:00\"],\n [{\n            'v': 218,\n            'f': \"218\",\n        },\n{\n            'v': 35561,\n            'f': \"35561\",\n        },\n\"Earthstar Bank\",\n\"Southampton\",\n\"PA\",\n\"Polonia Bank\",\n\"2010-12-10 00:00:00\"],\n [{\n            'v': 219,\n            'f': \"219\",\n        },\n{\n            'v': 34673,\n            'f': \"34673\",\n        },\n\"Paramount Bank\",\n\"Farmington Hills\",\n\"MI\",\n\"Level One Bank\",\n\"2010-12-10 00:00:00\"],\n [{\n            'v': 220,\n            'f': \"220\",\n        },\n{\n            'v': 5287,\n            'f': \"5287\",\n        },\n\"First Banking Center\",\n\"Burlington\",\n\"WI\",\n\"First Michigan Bank\",\n\"2010-11-19 00:00:00\"],\n [{\n            'v': 221,\n            'f': \"221\",\n        },\n{\n            'v': 35078,\n            'f': \"35078\",\n        },\n\"Allegiance Bank of North America\",\n\"Bala Cynwyd\",\n\"PA\",\n\"VIST Bank\",\n\"2010-11-19 00:00:00\"],\n [{\n            'v': 222,\n            'f': \"222\",\n        },\n{\n            'v': 20340,\n            'f': \"20340\",\n        },\n\"Gulf State Community Bank\",\n\"Carrabelle\",\n\"FL\",\n\"Centennial Bank\",\n\"2010-11-19 00:00:00\"],\n [{\n            'v': 223,\n            'f': \"223\",\n        },\n{\n            'v': 35463,\n            'f': \"35463\",\n        },\n\"Copper Star Bank\",\n\"Scottsdale\",\n\"AZ\",\n\"Stearns Bank, N.A.\",\n\"2010-11-12 00:00:00\"],\n [{\n            'v': 224,\n            'f': \"224\",\n        },\n{\n            'v': 14580,\n            'f': \"14580\",\n        },\n\"Darby Bank & Trust Co.\",\n\"Vidalia\",\n\"GA\",\n\"Ameris Bank\",\n\"2010-11-12 00:00:00\"],\n [{\n            'v': 225,\n            'f': \"225\",\n        },\n{\n            'v': 57831,\n            'f': \"57831\",\n        },\n\"Tifton Banking Company\",\n\"Tifton\",\n\"GA\",\n\"Ameris Bank\",\n\"2010-11-12 00:00:00\"],\n [{\n            'v': 226,\n            'f': \"226\",\n        },\n{\n            'v': 57885,\n            'f': \"57885\",\n        },\n\"First Vietnamese American Bank\",\n\"Westminster\",\n\"CA\",\n\"Grandpoint Bank\",\n\"2010-11-05 00:00:00\"],\n [{\n            'v': 227,\n            'f': \"227\",\n        },\n{\n            'v': 34411,\n            'f': \"34411\",\n        },\n\"Pierce Commercial Bank\",\n\"Tacoma\",\n\"WA\",\n\"Heritage Bank\",\n\"2010-11-05 00:00:00\"],\n [{\n            'v': 228,\n            'f': \"228\",\n        },\n{\n            'v': 58087,\n            'f': \"58087\",\n        },\n\"Western Commercial Bank\",\n\"Woodland Hills\",\n\"CA\",\n\"First California Bank\",\n\"2010-11-05 00:00:00\"],\n [{\n            'v': 229,\n            'f': \"229\",\n        },\n{\n            'v': 31263,\n            'f': \"31263\",\n        },\n\"K Bank\",\n\"Randallstown\",\n\"MD\",\n\"Manufacturers and Traders Trust Company (M&T Bank)\",\n\"2010-11-05 00:00:00\"],\n [{\n            'v': 230,\n            'f': \"230\",\n        },\n{\n            'v': 32582,\n            'f': \"32582\",\n        },\n\"First Arizona Savings, A FSB\",\n\"Scottsdale\",\n\"AZ\",\n\"No Acquirer\",\n\"2010-10-22 00:00:00\"],\n [{\n            'v': 231,\n            'f': \"231\",\n        },\n{\n            'v': 22173,\n            'f': \"22173\",\n        },\n\"Hillcrest Bank\",\n\"Overland Park\",\n\"KS\",\n\"Hillcrest Bank, N.A.\",\n\"2010-10-22 00:00:00\"],\n [{\n            'v': 232,\n            'f': \"232\",\n        },\n{\n            'v': 16089,\n            'f': \"16089\",\n        },\n\"First Suburban National Bank\",\n\"Maywood\",\n\"IL\",\n\"Seaway Bank and Trust Company\",\n\"2010-10-22 00:00:00\"],\n [{\n            'v': 233,\n            'f': \"233\",\n        },\n{\n            'v': 2119,\n            'f': \"2119\",\n        },\n\"The First National Bank of Barnesville\",\n\"Barnesville\",\n\"GA\",\n\"United Bank\",\n\"2010-10-22 00:00:00\"],\n [{\n            'v': 234,\n            'f': \"234\",\n        },\n{\n            'v': 33904,\n            'f': \"33904\",\n        },\n\"The Gordon Bank\",\n\"Gordon\",\n\"GA\",\n\"Morris Bank\",\n\"2010-10-22 00:00:00\"],\n [{\n            'v': 235,\n            'f': \"235\",\n        },\n{\n            'v': 32251,\n            'f': \"32251\",\n        },\n\"Progress Bank of Florida\",\n\"Tampa\",\n\"FL\",\n\"Bay Cities Bank\",\n\"2010-10-22 00:00:00\"],\n [{\n            'v': 236,\n            'f': \"236\",\n        },\n{\n            'v': 27573,\n            'f': \"27573\",\n        },\n\"First Bank of Jacksonville\",\n\"Jacksonville\",\n\"FL\",\n\"Ameris Bank\",\n\"2010-10-22 00:00:00\"],\n [{\n            'v': 237,\n            'f': \"237\",\n        },\n{\n            'v': 34016,\n            'f': \"34016\",\n        },\n\"Premier Bank\",\n\"Jefferson City\",\n\"MO\",\n\"Providence Bank\",\n\"2010-10-15 00:00:00\"],\n [{\n            'v': 238,\n            'f': \"238\",\n        },\n{\n            'v': 58205,\n            'f': \"58205\",\n        },\n\"WestBridge Bank and Trust Company\",\n\"Chesterfield\",\n\"MO\",\n\"Midland States Bank\",\n\"2010-10-15 00:00:00\"],\n [{\n            'v': 239,\n            'f': \"239\",\n        },\n{\n            'v': 30898,\n            'f': \"30898\",\n        },\n\"Security Savings Bank, F.S.B.\",\n\"Olathe\",\n\"KS\",\n\"Simmons First National Bank\",\n\"2010-10-15 00:00:00\"],\n [{\n            'v': 240,\n            'f': \"240\",\n        },\n{\n            'v': 35250,\n            'f': \"35250\",\n        },\n\"Shoreline Bank\",\n\"Shoreline\",\n\"WA\",\n\"GBC International Bank\",\n\"2010-10-01 00:00:00\"],\n [{\n            'v': 241,\n            'f': \"241\",\n        },\n{\n            'v': 21777,\n            'f': \"21777\",\n        },\n\"Wakulla Bank\",\n\"Crawfordville\",\n\"FL\",\n\"Centennial Bank\",\n\"2010-10-01 00:00:00\"],\n [{\n            'v': 242,\n            'f': \"242\",\n        },\n{\n            'v': 35053,\n            'f': \"35053\",\n        },\n\"North County Bank\",\n\"Arlington\",\n\"WA\",\n\"Whidbey Island Bank\",\n\"2010-09-24 00:00:00\"],\n [{\n            'v': 243,\n            'f': \"243\",\n        },\n{\n            'v': 58308,\n            'f': \"58308\",\n        },\n\"Haven Trust Bank Florida\",\n\"Ponte Vedra Beach\",\n\"FL\",\n\"First Southern Bank\",\n\"2010-09-24 00:00:00\"],\n [{\n            'v': 244,\n            'f': \"244\",\n        },\n{\n            'v': 28612,\n            'f': \"28612\",\n        },\n\"Maritime Savings Bank\",\n\"West Allis\",\n\"WI\",\n\"North Shore Bank, FSB\",\n\"2010-09-17 00:00:00\"],\n [{\n            'v': 245,\n            'f': \"245\",\n        },\n{\n            'v': 27808,\n            'f': \"27808\",\n        },\n\"Bramble Savings Bank\",\n\"Milford\",\n\"OH\",\n\"Foundation Bank\",\n\"2010-09-17 00:00:00\"],\n [{\n            'v': 246,\n            'f': \"246\",\n        },\n{\n            'v': 182,\n            'f': \"182\",\n        },\n\"The Peoples Bank\",\n\"Winder\",\n\"GA\",\n\"Community & Southern Bank\",\n\"2010-09-17 00:00:00\"],\n [{\n            'v': 247,\n            'f': \"247\",\n        },\n{\n            'v': 57448,\n            'f': \"57448\",\n        },\n\"First Commerce Community Bank\",\n\"Douglasville\",\n\"GA\",\n\"Community & Southern Bank\",\n\"2010-09-17 00:00:00\"],\n [{\n            'v': 248,\n            'f': \"248\",\n        },\n{\n            'v': 58197,\n            'f': \"58197\",\n        },\n\"Bank of Ellijay\",\n\"Ellijay\",\n\"GA\",\n\"Community & Southern Bank\",\n\"2010-09-17 00:00:00\"],\n [{\n            'v': 249,\n            'f': \"249\",\n        },\n{\n            'v': 57107,\n            'f': \"57107\",\n        },\n\"ISN Bank\",\n\"Cherry Hill\",\n\"NJ\",\n\"Customers Bank\",\n\"2010-09-17 00:00:00\"],\n [{\n            'v': 250,\n            'f': \"250\",\n        },\n{\n            'v': 35061,\n            'f': \"35061\",\n        },\n\"Horizon Bank\",\n\"Bradenton\",\n\"FL\",\n\"Bank of the Ozarks\",\n\"2010-09-10 00:00:00\"],\n [{\n            'v': 251,\n            'f': \"251\",\n        },\n{\n            'v': 27259,\n            'f': \"27259\",\n        },\n\"Sonoma Valley Bank\",\n\"Sonoma\",\n\"CA\",\n\"Westamerica Bank\",\n\"2010-08-20 00:00:00\"],\n [{\n            'v': 252,\n            'f': \"252\",\n        },\n{\n            'v': 32165,\n            'f': \"32165\",\n        },\n\"Los Padres Bank\",\n\"Solvang\",\n\"CA\",\n\"Pacific Western Bank\",\n\"2010-08-20 00:00:00\"],\n [{\n            'v': 253,\n            'f': \"253\",\n        },\n{\n            'v': 33219,\n            'f': \"33219\",\n        },\n\"Butte Community Bank\",\n\"Chico\",\n\"CA\",\n\"Rabobank, N.A.\",\n\"2010-08-20 00:00:00\"],\n [{\n            'v': 254,\n            'f': \"254\",\n        },\n{\n            'v': 27090,\n            'f': \"27090\",\n        },\n\"Pacific State Bank\",\n\"Stockton\",\n\"CA\",\n\"Rabobank, N.A.\",\n\"2010-08-20 00:00:00\"],\n [{\n            'v': 255,\n            'f': \"255\",\n        },\n{\n            'v': 15640,\n            'f': \"15640\",\n        },\n\"ShoreBank\",\n\"Chicago\",\n\"IL\",\n\"Urban Partnership Bank\",\n\"2010-08-20 00:00:00\"],\n [{\n            'v': 256,\n            'f': \"256\",\n        },\n{\n            'v': 31623,\n            'f': \"31623\",\n        },\n\"Imperial Savings and Loan Association\",\n\"Martinsville\",\n\"VA\",\n\"River Community Bank, N.A.\",\n\"2010-08-20 00:00:00\"],\n [{\n            'v': 257,\n            'f': \"257\",\n        },\n{\n            'v': 27344,\n            'f': \"27344\",\n        },\n\"Independent National Bank\",\n\"Ocala\",\n\"FL\",\n\"CenterState Bank of Florida, N.A.\",\n\"2010-08-20 00:00:00\"],\n [{\n            'v': 258,\n            'f': \"258\",\n        },\n{\n            'v': 25266,\n            'f': \"25266\",\n        },\n\"Community National Bank at Bartow\",\n\"Bartow\",\n\"FL\",\n\"CenterState Bank of Florida, N.A.\",\n\"2010-08-20 00:00:00\"],\n [{\n            'v': 259,\n            'f': \"259\",\n        },\n{\n            'v': 17599,\n            'f': \"17599\",\n        },\n\"Palos Bank and Trust Company\",\n\"Palos Heights\",\n\"IL\",\n\"First Midwest Bank\",\n\"2010-08-13 00:00:00\"],\n [{\n            'v': 260,\n            'f': \"260\",\n        },\n{\n            'v': 34231,\n            'f': \"34231\",\n        },\n\"Ravenswood Bank\",\n\"Chicago\",\n\"IL\",\n\"Northbrook Bank & Trust Company\",\n\"2010-08-06 00:00:00\"],\n [{\n            'v': 261,\n            'f': \"261\",\n        },\n{\n            'v': 31964,\n            'f': \"31964\",\n        },\n\"LibertyBank\",\n\"Eugene\",\n\"OR\",\n\"Home Federal Bank\",\n\"2010-07-30 00:00:00\"],\n [{\n            'v': 262,\n            'f': \"262\",\n        },\n{\n            'v': 22643,\n            'f': \"22643\",\n        },\n\"The Cowlitz Bank\",\n\"Longview\",\n\"WA\",\n\"Heritage Bank\",\n\"2010-07-30 00:00:00\"],\n [{\n            'v': 263,\n            'f': \"263\",\n        },\n{\n            'v': 9619,\n            'f': \"9619\",\n        },\n\"Coastal Community Bank\",\n\"Panama City Beach\",\n\"FL\",\n\"Centennial Bank\",\n\"2010-07-30 00:00:00\"],\n [{\n            'v': 264,\n            'f': \"264\",\n        },\n{\n            'v': 57669,\n            'f': \"57669\",\n        },\n\"Bayside Savings Bank\",\n\"Port Saint Joe\",\n\"FL\",\n\"Centennial Bank\",\n\"2010-07-30 00:00:00\"],\n [{\n            'v': 265,\n            'f': \"265\",\n        },\n{\n            'v': 57658,\n            'f': \"57658\",\n        },\n\"Northwest Bank & Trust\",\n\"Acworth\",\n\"GA\",\n\"State Bank and Trust Company\",\n\"2010-07-30 00:00:00\"],\n [{\n            'v': 266,\n            'f': \"266\",\n        },\n{\n            'v': 23181,\n            'f': \"23181\",\n        },\n\"Home Valley Bank\",\n\"Cave Junction\",\n\"OR\",\n\"South Valley Bank & Trust\",\n\"2010-07-23 00:00:00\"],\n [{\n            'v': 267,\n            'f': \"267\",\n        },\n{\n            'v': 35434,\n            'f': \"35434\",\n        },\n\"SouthwestUSA Bank\",\n\"Las Vegas\",\n\"NV\",\n\"Plaza Bank\",\n\"2010-07-23 00:00:00\"],\n [{\n            'v': 268,\n            'f': \"268\",\n        },\n{\n            'v': 34486,\n            'f': \"34486\",\n        },\n\"Community Security Bank\",\n\"New Prague\",\n\"MN\",\n\"Roundbank\",\n\"2010-07-23 00:00:00\"],\n [{\n            'v': 269,\n            'f': \"269\",\n        },\n{\n            'v': 10506,\n            'f': \"10506\",\n        },\n\"Thunder Bank\",\n\"Sylvan Grove\",\n\"KS\",\n\"The Bennington State Bank\",\n\"2010-07-23 00:00:00\"],\n [{\n            'v': 270,\n            'f': \"270\",\n        },\n{\n            'v': 17837,\n            'f': \"17837\",\n        },\n\"Williamsburg First National Bank\",\n\"Kingstree\",\n\"SC\",\n\"First Citizens Bank and Trust Company, Inc.\",\n\"2010-07-23 00:00:00\"],\n [{\n            'v': 271,\n            'f': \"271\",\n        },\n{\n            'v': 27559,\n            'f': \"27559\",\n        },\n\"Crescent Bank and Trust Company\",\n\"Jasper\",\n\"GA\",\n\"Renasant Bank\",\n\"2010-07-23 00:00:00\"],\n [{\n            'v': 272,\n            'f': \"272\",\n        },\n{\n            'v': 32536,\n            'f': \"32536\",\n        },\n\"Sterling Bank\",\n\"Lantana\",\n\"FL\",\n\"IBERIABANK\",\n\"2010-07-23 00:00:00\"],\n [{\n            'v': 273,\n            'f': \"273\",\n        },\n{\n            'v': 28136,\n            'f': \"28136\",\n        },\n\"Mainstreet Savings Bank, FSB\",\n\"Hastings\",\n\"MI\",\n\"Commercial Bank\",\n\"2010-07-16 00:00:00\"],\n [{\n            'v': 274,\n            'f': \"274\",\n        },\n{\n            'v': 28864,\n            'f': \"28864\",\n        },\n\"Olde Cypress Community Bank\",\n\"Clewiston\",\n\"FL\",\n\"CenterState Bank of Florida, N.A.\",\n\"2010-07-16 00:00:00\"],\n [{\n            'v': 275,\n            'f': \"275\",\n        },\n{\n            'v': 32280,\n            'f': \"32280\",\n        },\n\"Turnberry Bank\",\n\"Aventura\",\n\"FL\",\n\"NAFH National Bank\",\n\"2010-07-16 00:00:00\"],\n [{\n            'v': 276,\n            'f': \"276\",\n        },\n{\n            'v': 25172,\n            'f': \"25172\",\n        },\n\"Metro Bank of Dade County\",\n\"Miami\",\n\"FL\",\n\"NAFH National Bank\",\n\"2010-07-16 00:00:00\"],\n [{\n            'v': 277,\n            'f': \"277\",\n        },\n{\n            'v': 35383,\n            'f': \"35383\",\n        },\n\"First National Bank of the South\",\n\"Spartanburg\",\n\"SC\",\n\"NAFH National Bank\",\n\"2010-07-16 00:00:00\"],\n [{\n            'v': 278,\n            'f': \"278\",\n        },\n{\n            'v': 32571,\n            'f': \"32571\",\n        },\n\"Woodlands Bank\",\n\"Bluffton\",\n\"SC\",\n\"Bank of the Ozarks\",\n\"2010-07-16 00:00:00\"],\n [{\n            'v': 279,\n            'f': \"279\",\n        },\n{\n            'v': 11636,\n            'f': \"11636\",\n        },\n\"Home National Bank\",\n\"Blackwell\",\n\"OK\",\n\"RCB Bank\",\n\"2010-07-09 00:00:00\"],\n [{\n            'v': 280,\n            'f': \"280\",\n        },\n{\n            'v': 58072,\n            'f': \"58072\",\n        },\n\"USA Bank\",\n\"Port Chester\",\n\"NY\",\n\"New Century Bank\",\n\"2010-07-09 00:00:00\"],\n [{\n            'v': 281,\n            'f': \"281\",\n        },\n{\n            'v': 32456,\n            'f': \"32456\",\n        },\n\"Ideal Federal Savings Bank\",\n\"Baltimore\",\n\"MD\",\n\"No Acquirer\",\n\"2010-07-09 00:00:00\"],\n [{\n            'v': 282,\n            'f': \"282\",\n        },\n{\n            'v': 35462,\n            'f': \"35462\",\n        },\n\"Bay National Bank\",\n\"Baltimore\",\n\"MD\",\n\"Bay Bank, FSB\",\n\"2010-07-09 00:00:00\"],\n [{\n            'v': 283,\n            'f': \"283\",\n        },\n{\n            'v': 35279,\n            'f': \"35279\",\n        },\n\"High Desert State Bank\",\n\"Albuquerque\",\n\"NM\",\n\"First American Bank\",\n\"2010-06-25 00:00:00\"],\n [{\n            'v': 284,\n            'f': \"284\",\n        },\n{\n            'v': 34152,\n            'f': \"34152\",\n        },\n\"First National Bank\",\n\"Savannah\",\n\"GA\",\n\"The Savannah Bank, N.A.\",\n\"2010-06-25 00:00:00\"],\n [{\n            'v': 285,\n            'f': \"285\",\n        },\n{\n            'v': 26563,\n            'f': \"26563\",\n        },\n\"Peninsula Bank\",\n\"Englewood\",\n\"FL\",\n\"Premier American Bank, N.A.\",\n\"2010-06-25 00:00:00\"],\n [{\n            'v': 286,\n            'f': \"286\",\n        },\n{\n            'v': 57110,\n            'f': \"57110\",\n        },\n\"Nevada Security Bank\",\n\"Reno\",\n\"NV\",\n\"Umpqua Bank\",\n\"2010-06-18 00:00:00\"],\n [{\n            'v': 287,\n            'f': \"287\",\n        },\n{\n            'v': 32955,\n            'f': \"32955\",\n        },\n\"Washington First International Bank\",\n\"Seattle\",\n\"WA\",\n\"East West Bank\",\n\"2010-06-11 00:00:00\"],\n [{\n            'v': 288,\n            'f': \"288\",\n        },\n{\n            'v': 29341,\n            'f': \"29341\",\n        },\n\"TierOne Bank\",\n\"Lincoln\",\n\"NE\",\n\"Great Western Bank\",\n\"2010-06-04 00:00:00\"],\n [{\n            'v': 289,\n            'f': \"289\",\n        },\n{\n            'v': 31813,\n            'f': \"31813\",\n        },\n\"Arcola Homestead Savings Bank\",\n\"Arcola\",\n\"IL\",\n\"No Acquirer\",\n\"2010-06-04 00:00:00\"],\n [{\n            'v': 290,\n            'f': \"290\",\n        },\n{\n            'v': 15814,\n            'f': \"15814\",\n        },\n\"First National Bank\",\n\"Rosedale\",\n\"MS\",\n\"The Jefferson Bank\",\n\"2010-06-04 00:00:00\"],\n [{\n            'v': 291,\n            'f': \"291\",\n        },\n{\n            'v': 34785,\n            'f': \"34785\",\n        },\n\"Sun West Bank\",\n\"Las Vegas\",\n\"NV\",\n\"City National Bank\",\n\"2010-05-28 00:00:00\"],\n [{\n            'v': 292,\n            'f': \"292\",\n        },\n{\n            'v': 57315,\n            'f': \"57315\",\n        },\n\"Granite Community Bank, NA\",\n\"Granite Bay\",\n\"CA\",\n\"Tri Counties Bank\",\n\"2010-05-28 00:00:00\"],\n [{\n            'v': 293,\n            'f': \"293\",\n        },\n{\n            'v': 57814,\n            'f': \"57814\",\n        },\n\"Bank of Florida - Tampa\",\n\"Tampa\",\n\"FL\",\n\"EverBank\",\n\"2010-05-28 00:00:00\"],\n [{\n            'v': 294,\n            'f': \"294\",\n        },\n{\n            'v': 35106,\n            'f': \"35106\",\n        },\n\"Bank of Florida - Southwest\",\n\"Naples\",\n\"FL\",\n\"EverBank\",\n\"2010-05-28 00:00:00\"],\n [{\n            'v': 295,\n            'f': \"295\",\n        },\n{\n            'v': 57360,\n            'f': \"57360\",\n        },\n\"Bank of Florida - Southeast\",\n\"Fort Lauderdale\",\n\"FL\",\n\"EverBank\",\n\"2010-05-28 00:00:00\"],\n [{\n            'v': 296,\n            'f': \"296\",\n        },\n{\n            'v': 57735,\n            'f': \"57735\",\n        },\n\"Pinehurst Bank\",\n\"Saint Paul\",\n\"MN\",\n\"Coulee Bank\",\n\"2010-05-21 00:00:00\"],\n [{\n            'v': 297,\n            'f': \"297\",\n        },\n{\n            'v': 18117,\n            'f': \"18117\",\n        },\n\"Midwest Bank and Trust Company\",\n\"Elmwood Park\",\n\"IL\",\n\"FirstMerit Bank, N.A.\",\n\"2010-05-14 00:00:00\"],\n [{\n            'v': 298,\n            'f': \"298\",\n        },\n{\n            'v': 34255,\n            'f': \"34255\",\n        },\n\"Southwest Community Bank\",\n\"Springfield\",\n\"MO\",\n\"Simmons First National Bank\",\n\"2010-05-14 00:00:00\"],\n [{\n            'v': 299,\n            'f': \"299\",\n        },\n{\n            'v': 35586,\n            'f': \"35586\",\n        },\n\"New Liberty Bank\",\n\"Plymouth\",\n\"MI\",\n\"Bank of Ann Arbor\",\n\"2010-05-14 00:00:00\"],\n [{\n            'v': 300,\n            'f': \"300\",\n        },\n{\n            'v': 35114,\n            'f': \"35114\",\n        },\n\"Satilla Community Bank\",\n\"Saint Marys\",\n\"GA\",\n\"Ameris Bank\",\n\"2010-05-14 00:00:00\"],\n [{\n            'v': 301,\n            'f': \"301\",\n        },\n{\n            'v': 35517,\n            'f': \"35517\",\n        },\n\"1st Pacific Bank of California\",\n\"San Diego\",\n\"CA\",\n\"City National Bank\",\n\"2010-05-07 00:00:00\"],\n [{\n            'v': 302,\n            'f': \"302\",\n        },\n{\n            'v': 57697,\n            'f': \"57697\",\n        },\n\"Towne Bank of Arizona\",\n\"Mesa\",\n\"AZ\",\n\"Commerce Bank of Arizona\",\n\"2010-05-07 00:00:00\"],\n [{\n            'v': 303,\n            'f': \"303\",\n        },\n{\n            'v': 16476,\n            'f': \"16476\",\n        },\n\"Access Bank\",\n\"Champlin\",\n\"MN\",\n\"PrinsBank\",\n\"2010-05-07 00:00:00\"],\n [{\n            'v': 304,\n            'f': \"304\",\n        },\n{\n            'v': 14246,\n            'f': \"14246\",\n        },\n\"The Bank of Bonifay\",\n\"Bonifay\",\n\"FL\",\n\"First Federal Bank of Florida\",\n\"2010-05-07 00:00:00\"],\n [{\n            'v': 305,\n            'f': \"305\",\n        },\n{\n            'v': 22710,\n            'f': \"22710\",\n        },\n\"Frontier Bank\",\n\"Everett\",\n\"WA\",\n\"Union Bank, N.A.\",\n\"2010-04-30 00:00:00\"],\n [{\n            'v': 306,\n            'f': \"306\",\n        },\n{\n            'v': 17792,\n            'f': \"17792\",\n        },\n\"BC National Banks\",\n\"Butler\",\n\"MO\",\n\"Community First Bank\",\n\"2010-04-30 00:00:00\"],\n [{\n            'v': 307,\n            'f': \"307\",\n        },\n{\n            'v': 58362,\n            'f': \"58362\",\n        },\n\"Champion Bank\",\n\"Creve Coeur\",\n\"MO\",\n\"BankLiberty\",\n\"2010-04-30 00:00:00\"],\n [{\n            'v': 308,\n            'f': \"308\",\n        },\n{\n            'v': 30005,\n            'f': \"30005\",\n        },\n\"CF Bancorp\",\n\"Port Huron\",\n\"MI\",\n\"First Michigan Bank\",\n\"2010-04-30 00:00:00\"],\n [{\n            'v': 309,\n            'f': \"309\",\n        },\n{\n            'v': 31027,\n            'f': \"31027\",\n        },\n\"Westernbank Puerto Rico\",\n\"Mayaguez\",\n\"PR\",\n\"Banco Popular de Puerto Rico\",\n\"2010-04-30 00:00:00\"],\n [{\n            'v': 310,\n            'f': \"310\",\n        },\n{\n            'v': 32185,\n            'f': \"32185\",\n        },\n\"R-G Premier Bank of Puerto Rico\",\n\"Hato Rey\",\n\"PR\",\n\"Scotiabank de Puerto Rico\",\n\"2010-04-30 00:00:00\"],\n [{\n            'v': 311,\n            'f': \"311\",\n        },\n{\n            'v': 27150,\n            'f': \"27150\",\n        },\n\"Eurobank\",\n\"San Juan\",\n\"PR\",\n\"Oriental Bank and Trust\",\n\"2010-04-30 00:00:00\"],\n [{\n            'v': 312,\n            'f': \"312\",\n        },\n{\n            'v': 58429,\n            'f': \"58429\",\n        },\n\"Wheatland Bank\",\n\"Naperville\",\n\"IL\",\n\"Wheaton Bank & Trust\",\n\"2010-04-23 00:00:00\"],\n [{\n            'v': 313,\n            'f': \"313\",\n        },\n{\n            'v': 10888,\n            'f': \"10888\",\n        },\n\"Peotone Bank and Trust Company\",\n\"Peotone\",\n\"IL\",\n\"First Midwest Bank\",\n\"2010-04-23 00:00:00\"],\n [{\n            'v': 314,\n            'f': \"314\",\n        },\n{\n            'v': 30600,\n            'f': \"30600\",\n        },\n\"Lincoln Park Savings Bank\",\n\"Chicago\",\n\"IL\",\n\"Northbrook Bank & Trust Company\",\n\"2010-04-23 00:00:00\"],\n [{\n            'v': 315,\n            'f': \"315\",\n        },\n{\n            'v': 34821,\n            'f': \"34821\",\n        },\n\"New Century Bank\",\n\"Chicago\",\n\"IL\",\n\"MB Financial Bank, N.A.\",\n\"2010-04-23 00:00:00\"],\n [{\n            'v': 316,\n            'f': \"316\",\n        },\n{\n            'v': 34658,\n            'f': \"34658\",\n        },\n\"Citizens Bank and Trust Company of Chicago\",\n\"Chicago\",\n\"IL\",\n\"Republic Bank of Chicago\",\n\"2010-04-23 00:00:00\"],\n [{\n            'v': 317,\n            'f': \"317\",\n        },\n{\n            'v': 22853,\n            'f': \"22853\",\n        },\n\"Broadway Bank\",\n\"Chicago\",\n\"IL\",\n\"MB Financial Bank, N.A.\",\n\"2010-04-23 00:00:00\"],\n [{\n            'v': 318,\n            'f': \"318\",\n        },\n{\n            'v': 3735,\n            'f': \"3735\",\n        },\n\"Amcore Bank, National Association\",\n\"Rockford\",\n\"IL\",\n\"Harris N.A.\",\n\"2010-04-23 00:00:00\"],\n [{\n            'v': 319,\n            'f': \"319\",\n        },\n{\n            'v': 21521,\n            'f': \"21521\",\n        },\n\"City Bank\",\n\"Lynnwood\",\n\"WA\",\n\"Whidbey Island Bank\",\n\"2010-04-16 00:00:00\"],\n [{\n            'v': 320,\n            'f': \"320\",\n        },\n{\n            'v': 33493,\n            'f': \"33493\",\n        },\n\"Tamalpais Bank\",\n\"San Rafael\",\n\"CA\",\n\"Union Bank, N.A.\",\n\"2010-04-16 00:00:00\"],\n [{\n            'v': 321,\n            'f': \"321\",\n        },\n{\n            'v': 23876,\n            'f': \"23876\",\n        },\n\"Innovative Bank\",\n\"Oakland\",\n\"CA\",\n\"Center Bank\",\n\"2010-04-16 00:00:00\"],\n [{\n            'v': 322,\n            'f': \"322\",\n        },\n{\n            'v': 26619,\n            'f': \"26619\",\n        },\n\"Butler Bank\",\n\"Lowell\",\n\"MA\",\n\"People's United Bank\",\n\"2010-04-16 00:00:00\"],\n [{\n            'v': 323,\n            'f': \"323\",\n        },\n{\n            'v': 24067,\n            'f': \"24067\",\n        },\n\"Riverside National Bank of Florida\",\n\"Fort Pierce\",\n\"FL\",\n\"TD Bank, N.A.\",\n\"2010-04-16 00:00:00\"],\n [{\n            'v': 324,\n            'f': \"324\",\n        },\n{\n            'v': 57724,\n            'f': \"57724\",\n        },\n\"AmericanFirst Bank\",\n\"Clermont\",\n\"FL\",\n\"TD Bank, N.A.\",\n\"2010-04-16 00:00:00\"],\n [{\n            'v': 325,\n            'f': \"325\",\n        },\n{\n            'v': 28886,\n            'f': \"28886\",\n        },\n\"First Federal Bank of North Florida\",\n\"Palatka\",\n\"FL\",\n\"TD Bank, N.A.\",\n\"2010-04-16 00:00:00\"],\n [{\n            'v': 326,\n            'f': \"326\",\n        },\n{\n            'v': 34878,\n            'f': \"34878\",\n        },\n\"Lakeside Community Bank\",\n\"Sterling Heights\",\n\"MI\",\n\"No Acquirer\",\n\"2010-04-16 00:00:00\"],\n [{\n            'v': 327,\n            'f': \"327\",\n        },\n{\n            'v': 34242,\n            'f': \"34242\",\n        },\n\"Beach First National Bank\",\n\"Myrtle Beach\",\n\"SC\",\n\"Bank of North Carolina\",\n\"2010-04-09 00:00:00\"],\n [{\n            'v': 328,\n            'f': \"328\",\n        },\n{\n            'v': 57060,\n            'f': \"57060\",\n        },\n\"Desert Hills Bank\",\n\"Phoenix\",\n\"AZ\",\n\"New York Community Bank\",\n\"2010-03-26 00:00:00\"],\n [{\n            'v': 329,\n            'f': \"329\",\n        },\n{\n            'v': 34678,\n            'f': \"34678\",\n        },\n\"Unity National Bank\",\n\"Cartersville\",\n\"GA\",\n\"Bank of the Ozarks\",\n\"2010-03-26 00:00:00\"],\n [{\n            'v': 330,\n            'f': \"330\",\n        },\n{\n            'v': 34684,\n            'f': \"34684\",\n        },\n\"Key West Bank\",\n\"Key West\",\n\"FL\",\n\"Centennial Bank\",\n\"2010-03-26 00:00:00\"],\n [{\n            'v': 331,\n            'f': \"331\",\n        },\n{\n            'v': 57399,\n            'f': \"57399\",\n        },\n\"McIntosh Commercial Bank\",\n\"Carrollton\",\n\"GA\",\n\"CharterBank\",\n\"2010-03-26 00:00:00\"],\n [{\n            'v': 332,\n            'f': \"332\",\n        },\n{\n            'v': 8221,\n            'f': \"8221\",\n        },\n\"State Bank of Aurora\",\n\"Aurora\",\n\"MN\",\n\"Northern State Bank\",\n\"2010-03-19 00:00:00\"],\n [{\n            'v': 333,\n            'f': \"333\",\n        },\n{\n            'v': 24957,\n            'f': \"24957\",\n        },\n\"First Lowndes Bank\",\n\"Fort Deposit\",\n\"AL\",\n\"First Citizens Bank\",\n\"2010-03-19 00:00:00\"],\n [{\n            'v': 334,\n            'f': \"334\",\n        },\n{\n            'v': 10054,\n            'f': \"10054\",\n        },\n\"Bank of Hiawassee\",\n\"Hiawassee\",\n\"GA\",\n\"Citizens South Bank\",\n\"2010-03-19 00:00:00\"],\n [{\n            'v': 335,\n            'f': \"335\",\n        },\n{\n            'v': 33989,\n            'f': \"33989\",\n        },\n\"Appalachian Community Bank\",\n\"Ellijay\",\n\"GA\",\n\"Community & Southern Bank\",\n\"2010-03-19 00:00:00\"],\n [{\n            'v': 336,\n            'f': \"336\",\n        },\n{\n            'v': 33535,\n            'f': \"33535\",\n        },\n\"Advanta Bank Corp.\",\n\"Draper\",\n\"UT\",\n\"No Acquirer\",\n\"2010-03-19 00:00:00\"],\n [{\n            'v': 337,\n            'f': \"337\",\n        },\n{\n            'v': 58104,\n            'f': \"58104\",\n        },\n\"Century Security Bank\",\n\"Duluth\",\n\"GA\",\n\"Bank of Upson\",\n\"2010-03-19 00:00:00\"],\n [{\n            'v': 338,\n            'f': \"338\",\n        },\n{\n            'v': 18806,\n            'f': \"18806\",\n        },\n\"American National Bank\",\n\"Parma\",\n\"OH\",\n\"The National Bank and Trust Company\",\n\"2010-03-19 00:00:00\"],\n [{\n            'v': 339,\n            'f': \"339\",\n        },\n{\n            'v': 29561,\n            'f': \"29561\",\n        },\n\"Statewide Bank\",\n\"Covington\",\n\"LA\",\n\"Home Bank\",\n\"2010-03-12 00:00:00\"],\n [{\n            'v': 340,\n            'f': \"340\",\n        },\n{\n            'v': 58182,\n            'f': \"58182\",\n        },\n\"Old Southern Bank\",\n\"Orlando\",\n\"FL\",\n\"Centennial Bank\",\n\"2010-03-12 00:00:00\"],\n [{\n            'v': 341,\n            'f': \"341\",\n        },\n{\n            'v': 27096,\n            'f': \"27096\",\n        },\n\"The Park Avenue Bank\",\n\"New York\",\n\"NY\",\n\"Valley National Bank\",\n\"2010-03-12 00:00:00\"],\n [{\n            'v': 342,\n            'f': \"342\",\n        },\n{\n            'v': 58071,\n            'f': \"58071\",\n        },\n\"LibertyPointe Bank\",\n\"New York\",\n\"NY\",\n\"Valley National Bank\",\n\"2010-03-11 00:00:00\"],\n [{\n            'v': 343,\n            'f': \"343\",\n        },\n{\n            'v': 34430,\n            'f': \"34430\",\n        },\n\"Centennial Bank\",\n\"Ogden\",\n\"UT\",\n\"No Acquirer\",\n\"2010-03-05 00:00:00\"],\n [{\n            'v': 344,\n            'f': \"344\",\n        },\n{\n            'v': 34976,\n            'f': \"34976\",\n        },\n\"Waterfield Bank\",\n\"Germantown\",\n\"MD\",\n\"No Acquirer\",\n\"2010-03-05 00:00:00\"],\n [{\n            'v': 345,\n            'f': \"345\",\n        },\n{\n            'v': 9268,\n            'f': \"9268\",\n        },\n\"Bank of Illinois\",\n\"Normal\",\n\"IL\",\n\"Heartland Bank and Trust Company\",\n\"2010-03-05 00:00:00\"],\n [{\n            'v': 346,\n            'f': \"346\",\n        },\n{\n            'v': 27126,\n            'f': \"27126\",\n        },\n\"Sun American Bank\",\n\"Boca Raton\",\n\"FL\",\n\"First-Citizens Bank & Trust Company\",\n\"2010-03-05 00:00:00\"],\n [{\n            'v': 347,\n            'f': \"347\",\n        },\n{\n            'v': 38129,\n            'f': \"38129\",\n        },\n\"Rainier Pacific Bank\",\n\"Tacoma\",\n\"WA\",\n\"Umpqua Bank\",\n\"2010-02-26 00:00:00\"],\n [{\n            'v': 348,\n            'f': \"348\",\n        },\n{\n            'v': 58352,\n            'f': \"58352\",\n        },\n\"Carson River Community Bank\",\n\"Carson City\",\n\"NV\",\n\"Heritage Bank of Nevada\",\n\"2010-02-26 00:00:00\"],\n [{\n            'v': 349,\n            'f': \"349\",\n        },\n{\n            'v': 32423,\n            'f': \"32423\",\n        },\n\"La Jolla Bank, FSB\",\n\"La Jolla\",\n\"CA\",\n\"OneWest Bank, FSB\",\n\"2010-02-19 00:00:00\"],\n [{\n            'v': 350,\n            'f': \"350\",\n        },\n{\n            'v': 29952,\n            'f': \"29952\",\n        },\n\"George Washington Savings Bank\",\n\"Orland Park\",\n\"IL\",\n\"FirstMerit Bank, N.A.\",\n\"2010-02-19 00:00:00\"],\n [{\n            'v': 351,\n            'f': \"351\",\n        },\n{\n            'v': 3287,\n            'f': \"3287\",\n        },\n\"The La Coste National Bank\",\n\"La Coste\",\n\"TX\",\n\"Community National Bank\",\n\"2010-02-19 00:00:00\"],\n [{\n            'v': 352,\n            'f': \"352\",\n        },\n{\n            'v': 57586,\n            'f': \"57586\",\n        },\n\"Marco Community Bank\",\n\"Marco Island\",\n\"FL\",\n\"Mutual of Omaha Bank\",\n\"2010-02-19 00:00:00\"],\n [{\n            'v': 353,\n            'f': \"353\",\n        },\n{\n            'v': 15448,\n            'f': \"15448\",\n        },\n\"1st American State Bank of Minnesota\",\n\"Hancock\",\n\"MN\",\n\"Community Development Bank, FSB\",\n\"2010-02-05 00:00:00\"],\n [{\n            'v': 354,\n            'f': \"354\",\n        },\n{\n            'v': 16730,\n            'f': \"16730\",\n        },\n\"American Marine Bank\",\n\"Bainbridge Island\",\n\"WA\",\n\"Columbia State Bank\",\n\"2010-01-29 00:00:00\"],\n [{\n            'v': 355,\n            'f': \"355\",\n        },\n{\n            'v': 23011,\n            'f': \"23011\",\n        },\n\"First Regional Bank\",\n\"Los Angeles\",\n\"CA\",\n\"First-Citizens Bank & Trust Company\",\n\"2010-01-29 00:00:00\"],\n [{\n            'v': 356,\n            'f': \"356\",\n        },\n{\n            'v': 5702,\n            'f': \"5702\",\n        },\n\"Community Bank and Trust\",\n\"Cornelia\",\n\"GA\",\n\"SCBT National Association\",\n\"2010-01-29 00:00:00\"],\n [{\n            'v': 357,\n            'f': \"357\",\n        },\n{\n            'v': 16133,\n            'f': \"16133\",\n        },\n\"Marshall Bank, N.A.\",\n\"Hallock\",\n\"MN\",\n\"United Valley Bank\",\n\"2010-01-29 00:00:00\"],\n [{\n            'v': 358,\n            'f': \"358\",\n        },\n{\n            'v': 5672,\n            'f': \"5672\",\n        },\n\"Florida Community Bank\",\n\"Immokalee\",\n\"FL\",\n\"Premier American Bank, N.A.\",\n\"2010-01-29 00:00:00\"],\n [{\n            'v': 359,\n            'f': \"359\",\n        },\n{\n            'v': 16480,\n            'f': \"16480\",\n        },\n\"First National Bank of Georgia\",\n\"Carrollton\",\n\"GA\",\n\"Community & Southern Bank\",\n\"2010-01-29 00:00:00\"],\n [{\n            'v': 360,\n            'f': \"360\",\n        },\n{\n            'v': 22469,\n            'f': \"22469\",\n        },\n\"Columbia River Bank\",\n\"The Dalles\",\n\"OR\",\n\"Columbia State Bank\",\n\"2010-01-22 00:00:00\"],\n [{\n            'v': 361,\n            'f': \"361\",\n        },\n{\n            'v': 20501,\n            'f': \"20501\",\n        },\n\"Evergreen Bank\",\n\"Seattle\",\n\"WA\",\n\"Umpqua Bank\",\n\"2010-01-22 00:00:00\"],\n [{\n            'v': 362,\n            'f': \"362\",\n        },\n{\n            'v': 32498,\n            'f': \"32498\",\n        },\n\"Charter Bank\",\n\"Santa Fe\",\n\"NM\",\n\"Charter Bank\",\n\"2010-01-22 00:00:00\"],\n [{\n            'v': 363,\n            'f': \"363\",\n        },\n{\n            'v': 8265,\n            'f': \"8265\",\n        },\n\"Bank of Leeton\",\n\"Leeton\",\n\"MO\",\n\"Sunflower Bank, N.A.\",\n\"2010-01-22 00:00:00\"],\n [{\n            'v': 364,\n            'f': \"364\",\n        },\n{\n            'v': 57147,\n            'f': \"57147\",\n        },\n\"Premier American Bank\",\n\"Miami\",\n\"FL\",\n\"Premier American Bank, N.A.\",\n\"2010-01-22 00:00:00\"],\n [{\n            'v': 365,\n            'f': \"365\",\n        },\n{\n            'v': 1252,\n            'f': \"1252\",\n        },\n\"Barnes Banking Company\",\n\"Kaysville\",\n\"UT\",\n\"No Acquirer\",\n\"2010-01-15 00:00:00\"],\n [{\n            'v': 366,\n            'f': \"366\",\n        },\n{\n            'v': 17522,\n            'f': \"17522\",\n        },\n\"St. Stephen State Bank\",\n\"St. Stephen\",\n\"MN\",\n\"First State Bank of St. Joseph\",\n\"2010-01-15 00:00:00\"],\n [{\n            'v': 367,\n            'f': \"367\",\n        },\n{\n            'v': 34705,\n            'f': \"34705\",\n        },\n\"Town Community Bank & Trust\",\n\"Antioch\",\n\"IL\",\n\"First American Bank\",\n\"2010-01-15 00:00:00\"],\n [{\n            'v': 368,\n            'f': \"368\",\n        },\n{\n            'v': 22977,\n            'f': \"22977\",\n        },\n\"Horizon Bank\",\n\"Bellingham\",\n\"WA\",\n\"Washington Federal Savings and Loan Association\",\n\"2010-01-08 00:00:00\"],\n [{\n            'v': 369,\n            'f': \"369\",\n        },\n{\n            'v': 28536,\n            'f': \"28536\",\n        },\n\"First Federal Bank of California, F.S.B.\",\n\"Santa Monica\",\n\"CA\",\n\"OneWest Bank, FSB\",\n\"2009-12-18 00:00:00\"],\n [{\n            'v': 370,\n            'f': \"370\",\n        },\n{\n            'v': 26348,\n            'f': \"26348\",\n        },\n\"Imperial Capital Bank\",\n\"La Jolla\",\n\"CA\",\n\"City National Bank\",\n\"2009-12-18 00:00:00\"],\n [{\n            'v': 371,\n            'f': \"371\",\n        },\n{\n            'v': 26820,\n            'f': \"26820\",\n        },\n\"Independent Bankers' Bank\",\n\"Springfield\",\n\"IL\",\n\"The Independent BankersBank (TIB)\",\n\"2009-12-18 00:00:00\"],\n [{\n            'v': 372,\n            'f': \"372\",\n        },\n{\n            'v': 32276,\n            'f': \"32276\",\n        },\n\"New South Federal Savings Bank\",\n\"Irondale\",\n\"AL\",\n\"Beal Bank\",\n\"2009-12-18 00:00:00\"],\n [{\n            'v': 373,\n            'f': \"373\",\n        },\n{\n            'v': 1006,\n            'f': \"1006\",\n        },\n\"Citizens State Bank\",\n\"New Baltimore\",\n\"MI\",\n\"No Acquirer\",\n\"2009-12-18 00:00:00\"],\n [{\n            'v': 374,\n            'f': \"374\",\n        },\n{\n            'v': 32167,\n            'f': \"32167\",\n        },\n\"Peoples First Community Bank\",\n\"Panama City\",\n\"FL\",\n\"Hancock Bank\",\n\"2009-12-18 00:00:00\"],\n [{\n            'v': 375,\n            'f': \"375\",\n        },\n{\n            'v': 58315,\n            'f': \"58315\",\n        },\n\"RockBridge Commercial Bank\",\n\"Atlanta\",\n\"GA\",\n\"No Acquirer\",\n\"2009-12-18 00:00:00\"],\n [{\n            'v': 376,\n            'f': \"376\",\n        },\n{\n            'v': 4731,\n            'f': \"4731\",\n        },\n\"SolutionsBank\",\n\"Overland Park\",\n\"KS\",\n\"Arvest Bank\",\n\"2009-12-11 00:00:00\"],\n [{\n            'v': 377,\n            'f': \"377\",\n        },\n{\n            'v': 58399,\n            'f': \"58399\",\n        },\n\"Valley Capital Bank, N.A.\",\n\"Mesa\",\n\"AZ\",\n\"Enterprise Bank & Trust\",\n\"2009-12-11 00:00:00\"],\n [{\n            'v': 378,\n            'f': \"378\",\n        },\n{\n            'v': 22846,\n            'f': \"22846\",\n        },\n\"Republic Federal Bank, N.A.\",\n\"Miami\",\n\"FL\",\n\"1st United Bank\",\n\"2009-12-11 00:00:00\"],\n [{\n            'v': 379,\n            'f': \"379\",\n        },\n{\n            'v': 32583,\n            'f': \"32583\",\n        },\n\"Greater Atlantic Bank\",\n\"Reston\",\n\"VA\",\n\"Sonabank\",\n\"2009-12-04 00:00:00\"],\n [{\n            'v': 380,\n            'f': \"380\",\n        },\n{\n            'v': 10440,\n            'f': \"10440\",\n        },\n\"Benchmark Bank\",\n\"Aurora\",\n\"IL\",\n\"MB Financial Bank, N.A.\",\n\"2009-12-04 00:00:00\"],\n [{\n            'v': 381,\n            'f': \"381\",\n        },\n{\n            'v': 29776,\n            'f': \"29776\",\n        },\n\"AmTrust Bank\",\n\"Cleveland\",\n\"OH\",\n\"New York Community Bank\",\n\"2009-12-04 00:00:00\"],\n [{\n            'v': 382,\n            'f': \"382\",\n        },\n{\n            'v': 12080,\n            'f': \"12080\",\n        },\n\"The Tattnall Bank\",\n\"Reidsville\",\n\"GA\",\n\"Heritage Bank of the South\",\n\"2009-12-04 00:00:00\"],\n [{\n            'v': 383,\n            'f': \"383\",\n        },\n{\n            'v': 26290,\n            'f': \"26290\",\n        },\n\"First Security National Bank\",\n\"Norcross\",\n\"GA\",\n\"State Bank and Trust Company\",\n\"2009-12-04 00:00:00\"],\n [{\n            'v': 384,\n            'f': \"384\",\n        },\n{\n            'v': 34663,\n            'f': \"34663\",\n        },\n\"The Buckhead Community Bank\",\n\"Atlanta\",\n\"GA\",\n\"State Bank and Trust Company\",\n\"2009-12-04 00:00:00\"],\n [{\n            'v': 385,\n            'f': \"385\",\n        },\n{\n            'v': 58016,\n            'f': \"58016\",\n        },\n\"Commerce Bank of Southwest Florida\",\n\"Fort Myers\",\n\"FL\",\n\"Central Bank\",\n\"2009-11-20 00:00:00\"],\n [{\n            'v': 386,\n            'f': \"386\",\n        },\n{\n            'v': 57914,\n            'f': \"57914\",\n        },\n\"Pacific Coast National Bank\",\n\"San Clemente\",\n\"CA\",\n\"Sunwest Bank\",\n\"2009-11-13 00:00:00\"],\n [{\n            'v': 387,\n            'f': \"387\",\n        },\n{\n            'v': 22427,\n            'f': \"22427\",\n        },\n\"Orion Bank\",\n\"Naples\",\n\"FL\",\n\"IBERIABANK\",\n\"2009-11-13 00:00:00\"],\n [{\n            'v': 388,\n            'f': \"388\",\n        },\n{\n            'v': 32267,\n            'f': \"32267\",\n        },\n\"Century Bank, F.S.B.\",\n\"Sarasota\",\n\"FL\",\n\"IBERIABANK\",\n\"2009-11-13 00:00:00\"],\n [{\n            'v': 389,\n            'f': \"389\",\n        },\n{\n            'v': 32469,\n            'f': \"32469\",\n        },\n\"United Commercial Bank\",\n\"San Francisco\",\n\"CA\",\n\"East West Bank\",\n\"2009-11-06 00:00:00\"],\n [{\n            'v': 390,\n            'f': \"390\",\n        },\n{\n            'v': 19450,\n            'f': \"19450\",\n        },\n\"Gateway Bank of St. Louis\",\n\"St. Louis\",\n\"MO\",\n\"Central Bank of Kansas City\",\n\"2009-11-06 00:00:00\"],\n [{\n            'v': 391,\n            'f': \"391\",\n        },\n{\n            'v': 35074,\n            'f': \"35074\",\n        },\n\"Prosperan Bank\",\n\"Oakdale\",\n\"MN\",\n\"Alerus Financial, N.A.\",\n\"2009-11-06 00:00:00\"],\n [{\n            'v': 392,\n            'f': \"392\",\n        },\n{\n            'v': 30329,\n            'f': \"30329\",\n        },\n\"Home Federal Savings Bank\",\n\"Detroit\",\n\"MI\",\n\"Liberty Bank and Trust Company\",\n\"2009-11-06 00:00:00\"],\n [{\n            'v': 393,\n            'f': \"393\",\n        },\n{\n            'v': 22286,\n            'f': \"22286\",\n        },\n\"United Security Bank\",\n\"Sparta\",\n\"GA\",\n\"Ameris Bank\",\n\"2009-11-06 00:00:00\"],\n [{\n            'v': 394,\n            'f': \"394\",\n        },\n{\n            'v': 18776,\n            'f': \"18776\",\n        },\n\"North Houston Bank\",\n\"Houston\",\n\"TX\",\n\"U.S. Bank N.A.\",\n\"2009-10-30 00:00:00\"],\n [{\n            'v': 395,\n            'f': \"395\",\n        },\n{\n            'v': 33782,\n            'f': \"33782\",\n        },\n\"Madisonville State Bank\",\n\"Madisonville\",\n\"TX\",\n\"U.S. Bank N.A.\",\n\"2009-10-30 00:00:00\"],\n [{\n            'v': 396,\n            'f': \"396\",\n        },\n{\n            'v': 25222,\n            'f': \"25222\",\n        },\n\"Citizens National Bank\",\n\"Teague\",\n\"TX\",\n\"U.S. Bank N.A.\",\n\"2009-10-30 00:00:00\"],\n [{\n            'v': 397,\n            'f': \"397\",\n        },\n{\n            'v': 11677,\n            'f': \"11677\",\n        },\n\"Park National Bank\",\n\"Chicago\",\n\"IL\",\n\"U.S. Bank N.A.\",\n\"2009-10-30 00:00:00\"],\n [{\n            'v': 398,\n            'f': \"398\",\n        },\n{\n            'v': 30006,\n            'f': \"30006\",\n        },\n\"Pacific National Bank\",\n\"San Francisco\",\n\"CA\",\n\"U.S. Bank N.A.\",\n\"2009-10-30 00:00:00\"],\n [{\n            'v': 399,\n            'f': \"399\",\n        },\n{\n            'v': 34659,\n            'f': \"34659\",\n        },\n\"California National Bank\",\n\"Los Angeles\",\n\"CA\",\n\"U.S. Bank N.A.\",\n\"2009-10-30 00:00:00\"],\n [{\n            'v': 400,\n            'f': \"400\",\n        },\n{\n            'v': 23594,\n            'f': \"23594\",\n        },\n\"San Diego National Bank\",\n\"San Diego\",\n\"CA\",\n\"U.S. Bank N.A.\",\n\"2009-10-30 00:00:00\"],\n [{\n            'v': 401,\n            'f': \"401\",\n        },\n{\n            'v': 35291,\n            'f': \"35291\",\n        },\n\"Community Bank of Lemont\",\n\"Lemont\",\n\"IL\",\n\"U.S. Bank N.A.\",\n\"2009-10-30 00:00:00\"],\n [{\n            'v': 402,\n            'f': \"402\",\n        },\n{\n            'v': 32218,\n            'f': \"32218\",\n        },\n\"Bank USA, N.A.\",\n\"Phoenix\",\n\"AZ\",\n\"U.S. Bank N.A.\",\n\"2009-10-30 00:00:00\"],\n [{\n            'v': 403,\n            'f': \"403\",\n        },\n{\n            'v': 35038,\n            'f': \"35038\",\n        },\n\"First DuPage Bank\",\n\"Westmont\",\n\"IL\",\n\"First Midwest Bank\",\n\"2009-10-23 00:00:00\"],\n [{\n            'v': 404,\n            'f': \"404\",\n        },\n{\n            'v': 57525,\n            'f': \"57525\",\n        },\n\"Riverview Community Bank\",\n\"Otsego\",\n\"MN\",\n\"Central Bank\",\n\"2009-10-23 00:00:00\"],\n [{\n            'v': 405,\n            'f': \"405\",\n        },\n{\n            'v': 18321,\n            'f': \"18321\",\n        },\n\"Bank of Elmwood\",\n\"Racine\",\n\"WI\",\n\"Tri City National Bank\",\n\"2009-10-23 00:00:00\"],\n [{\n            'v': 406,\n            'f': \"406\",\n        },\n{\n            'v': 35044,\n            'f': \"35044\",\n        },\n\"Flagship National Bank\",\n\"Bradenton\",\n\"FL\",\n\"First Federal Bank of Florida\",\n\"2009-10-23 00:00:00\"],\n [{\n            'v': 407,\n            'f': \"407\",\n        },\n{\n            'v': 58336,\n            'f': \"58336\",\n        },\n\"Hillcrest Bank Florida\",\n\"Naples\",\n\"FL\",\n\"Stonegate Bank\",\n\"2009-10-23 00:00:00\"],\n [{\n            'v': 408,\n            'f': \"408\",\n        },\n{\n            'v': 57794,\n            'f': \"57794\",\n        },\n\"American United Bank\",\n\"Lawrenceville\",\n\"GA\",\n\"Ameris Bank\",\n\"2009-10-23 00:00:00\"],\n [{\n            'v': 409,\n            'f': \"409\",\n        },\n{\n            'v': 57959,\n            'f': \"57959\",\n        },\n\"Partners Bank\",\n\"Naples\",\n\"FL\",\n\"Stonegate Bank\",\n\"2009-10-23 00:00:00\"],\n [{\n            'v': 410,\n            'f': \"410\",\n        },\n{\n            'v': 23266,\n            'f': \"23266\",\n        },\n\"San Joaquin Bank\",\n\"Bakersfield\",\n\"CA\",\n\"Citizens Business Bank\",\n\"2009-10-16 00:00:00\"],\n [{\n            'v': 411,\n            'f': \"411\",\n        },\n{\n            'v': 57263,\n            'f': \"57263\",\n        },\n\"Southern Colorado National Bank\",\n\"Pueblo\",\n\"CO\",\n\"Legacy Bank\",\n\"2009-10-02 00:00:00\"],\n [{\n            'v': 412,\n            'f': \"412\",\n        },\n{\n            'v': 11416,\n            'f': \"11416\",\n        },\n\"Jennings State Bank\",\n\"Spring Grove\",\n\"MN\",\n\"Central Bank\",\n\"2009-10-02 00:00:00\"],\n [{\n            'v': 413,\n            'f': \"413\",\n        },\n{\n            'v': 34824,\n            'f': \"34824\",\n        },\n\"Warren Bank\",\n\"Warren\",\n\"MI\",\n\"The Huntington National Bank\",\n\"2009-10-02 00:00:00\"],\n [{\n            'v': 414,\n            'f': \"414\",\n        },\n{\n            'v': 57151,\n            'f': \"57151\",\n        },\n\"Georgian Bank\",\n\"Atlanta\",\n\"GA\",\n\"First Citizens Bank and Trust Company, Inc.\",\n\"2009-09-25 00:00:00\"],\n [{\n            'v': 415,\n            'f': \"415\",\n        },\n{\n            'v': 57068,\n            'f': \"57068\",\n        },\n\"Irwin Union Bank, F.S.B.\",\n\"Louisville\",\n\"KY\",\n\"First Financial Bank, N.A.\",\n\"2009-09-18 00:00:00\"],\n [{\n            'v': 416,\n            'f': \"416\",\n        },\n{\n            'v': 10100,\n            'f': \"10100\",\n        },\n\"Irwin Union Bank and Trust Company\",\n\"Columbus\",\n\"IN\",\n\"First Financial Bank, N.A.\",\n\"2009-09-18 00:00:00\"],\n [{\n            'v': 417,\n            'f': \"417\",\n        },\n{\n            'v': 22868,\n            'f': \"22868\",\n        },\n\"Venture Bank\",\n\"Lacey\",\n\"WA\",\n\"First-Citizens Bank & Trust Company\",\n\"2009-09-11 00:00:00\"],\n [{\n            'v': 418,\n            'f': \"418\",\n        },\n{\n            'v': 57736,\n            'f': \"57736\",\n        },\n\"Brickwell Community Bank\",\n\"Woodbury\",\n\"MN\",\n\"CorTrust Bank N.A.\",\n\"2009-09-11 00:00:00\"],\n [{\n            'v': 419,\n            'f': \"419\",\n        },\n{\n            'v': 13693,\n            'f': \"13693\",\n        },\n\"Corus Bank, N.A.\",\n\"Chicago\",\n\"IL\",\n\"MB Financial Bank, N.A.\",\n\"2009-09-11 00:00:00\"],\n [{\n            'v': 420,\n            'f': \"420\",\n        },\n{\n            'v': 34875,\n            'f': \"34875\",\n        },\n\"First State Bank\",\n\"Flagstaff\",\n\"AZ\",\n\"Sunwest Bank\",\n\"2009-09-04 00:00:00\"],\n [{\n            'v': 421,\n            'f': \"421\",\n        },\n{\n            'v': 35030,\n            'f': \"35030\",\n        },\n\"Platinum Community Bank\",\n\"Rolling Meadows\",\n\"IL\",\n\"No Acquirer\",\n\"2009-09-04 00:00:00\"],\n [{\n            'v': 422,\n            'f': \"422\",\n        },\n{\n            'v': 27732,\n            'f': \"27732\",\n        },\n\"Vantus Bank\",\n\"Sioux City\",\n\"IA\",\n\"Great Southern Bank\",\n\"2009-09-04 00:00:00\"],\n [{\n            'v': 423,\n            'f': \"423\",\n        },\n{\n            'v': 20203,\n            'f': \"20203\",\n        },\n\"InBank\",\n\"Oak Forest\",\n\"IL\",\n\"MB Financial Bank, N.A.\",\n\"2009-09-04 00:00:00\"],\n [{\n            'v': 424,\n            'f': \"424\",\n        },\n{\n            'v': 25231,\n            'f': \"25231\",\n        },\n\"First Bank of Kansas City\",\n\"Kansas City\",\n\"MO\",\n\"Great American Bank\",\n\"2009-09-04 00:00:00\"],\n [{\n            'v': 425,\n            'f': \"425\",\n        },\n{\n            'v': 27197,\n            'f': \"27197\",\n        },\n\"Affinity Bank\",\n\"Ventura\",\n\"CA\",\n\"Pacific Western Bank\",\n\"2009-08-28 00:00:00\"],\n [{\n            'v': 426,\n            'f': \"426\",\n        },\n{\n            'v': 1909,\n            'f': \"1909\",\n        },\n\"Mainstreet Bank\",\n\"Forest Lake\",\n\"MN\",\n\"Central Bank\",\n\"2009-08-28 00:00:00\"],\n [{\n            'v': 427,\n            'f': \"427\",\n        },\n{\n            'v': 28312,\n            'f': \"28312\",\n        },\n\"Bradford Bank\",\n\"Baltimore\",\n\"MD\",\n\"Manufacturers and Traders Trust Company (M&T Bank)\",\n\"2009-08-28 00:00:00\"],\n [{\n            'v': 428,\n            'f': \"428\",\n        },\n{\n            'v': 32618,\n            'f': \"32618\",\n        },\n\"Guaranty Bank\",\n\"Austin\",\n\"TX\",\n\"BBVA Compass\",\n\"2009-08-21 00:00:00\"],\n [{\n            'v': 429,\n            'f': \"429\",\n        },\n{\n            'v': 22130,\n            'f': \"22130\",\n        },\n\"CapitalSouth Bank\",\n\"Birmingham\",\n\"AL\",\n\"IBERIABANK\",\n\"2009-08-21 00:00:00\"],\n [{\n            'v': 430,\n            'f': \"430\",\n        },\n{\n            'v': 57702,\n            'f': \"57702\",\n        },\n\"First Coweta Bank\",\n\"Newnan\",\n\"GA\",\n\"United Bank\",\n\"2009-08-21 00:00:00\"],\n [{\n            'v': 431,\n            'f': \"431\",\n        },\n{\n            'v': 34682,\n            'f': \"34682\",\n        },\n\"ebank\",\n\"Atlanta\",\n\"GA\",\n\"Stearns Bank, N.A.\",\n\"2009-08-21 00:00:00\"],\n [{\n            'v': 432,\n            'f': \"432\",\n        },\n{\n            'v': 34043,\n            'f': \"34043\",\n        },\n\"Community Bank of Nevada\",\n\"Las Vegas\",\n\"NV\",\n\"No Acquirer\",\n\"2009-08-14 00:00:00\"],\n [{\n            'v': 433,\n            'f': \"433\",\n        },\n{\n            'v': 57645,\n            'f': \"57645\",\n        },\n\"Community Bank of Arizona\",\n\"Phoenix\",\n\"AZ\",\n\"MidFirst Bank\",\n\"2009-08-14 00:00:00\"],\n [{\n            'v': 434,\n            'f': \"434\",\n        },\n{\n            'v': 34485,\n            'f': \"34485\",\n        },\n\"Union Bank, National Association\",\n\"Gilbert\",\n\"AZ\",\n\"MidFirst Bank\",\n\"2009-08-14 00:00:00\"],\n [{\n            'v': 435,\n            'f': \"435\",\n        },\n{\n            'v': 9609,\n            'f': \"9609\",\n        },\n\"Colonial Bank\",\n\"Montgomery\",\n\"AL\",\n\"Branch Banking & Trust Company, (BB&T)\",\n\"2009-08-14 00:00:00\"],\n [{\n            'v': 436,\n            'f': \"436\",\n        },\n{\n            'v': 31559,\n            'f': \"31559\",\n        },\n\"Dwelling House Savings and Loan Association\",\n\"Pittsburgh\",\n\"PA\",\n\"PNC Bank, N.A.\",\n\"2009-08-14 00:00:00\"],\n [{\n            'v': 437,\n            'f': \"437\",\n        },\n{\n            'v': 23268,\n            'f': \"23268\",\n        },\n\"Community First Bank\",\n\"Prineville\",\n\"OR\",\n\"Home Federal Bank\",\n\"2009-08-07 00:00:00\"],\n [{\n            'v': 438,\n            'f': \"438\",\n        },\n{\n            'v': 27183,\n            'f': \"27183\",\n        },\n\"Community National Bank of Sarasota County\",\n\"Venice\",\n\"FL\",\n\"Stearns Bank, N.A.\",\n\"2009-08-07 00:00:00\"],\n [{\n            'v': 439,\n            'f': \"439\",\n        },\n{\n            'v': 27364,\n            'f': \"27364\",\n        },\n\"First State Bank\",\n\"Sarasota\",\n\"FL\",\n\"Stearns Bank, N.A.\",\n\"2009-08-07 00:00:00\"],\n [{\n            'v': 440,\n            'f': \"440\",\n        },\n{\n            'v': 18659,\n            'f': \"18659\",\n        },\n\"Mutual Bank\",\n\"Harvey\",\n\"IL\",\n\"United Central Bank\",\n\"2009-07-31 00:00:00\"],\n [{\n            'v': 441,\n            'f': \"441\",\n        },\n{\n            'v': 34270,\n            'f': \"34270\",\n        },\n\"First BankAmericano\",\n\"Elizabeth\",\n\"NJ\",\n\"Crown Bank\",\n\"2009-07-31 00:00:00\"],\n [{\n            'v': 442,\n            'f': \"442\",\n        },\n{\n            'v': 32288,\n            'f': \"32288\",\n        },\n\"Peoples Community Bank\",\n\"West Chester\",\n\"OH\",\n\"First Financial Bank, N.A.\",\n\"2009-07-31 00:00:00\"],\n [{\n            'v': 443,\n            'f': \"443\",\n        },\n{\n            'v': 57604,\n            'f': \"57604\",\n        },\n\"Integrity Bank\",\n\"Jupiter\",\n\"FL\",\n\"Stonegate Bank\",\n\"2009-07-31 00:00:00\"],\n [{\n            'v': 444,\n            'f': \"444\",\n        },\n{\n            'v': 9873,\n            'f': \"9873\",\n        },\n\"First State Bank of Altus\",\n\"Altus\",\n\"OK\",\n\"Herring Bank\",\n\"2009-07-31 00:00:00\"],\n [{\n            'v': 445,\n            'f': \"445\",\n        },\n{\n            'v': 8486,\n            'f': \"8486\",\n        },\n\"Security Bank of Jones County\",\n\"Gray\",\n\"GA\",\n\"State Bank and Trust Company\",\n\"2009-07-24 00:00:00\"],\n [{\n            'v': 446,\n            'f': \"446\",\n        },\n{\n            'v': 27048,\n            'f': \"27048\",\n        },\n\"Security Bank of Houston County\",\n\"Perry\",\n\"GA\",\n\"State Bank and Trust Company\",\n\"2009-07-24 00:00:00\"],\n [{\n            'v': 447,\n            'f': \"447\",\n        },\n{\n            'v': 27367,\n            'f': \"27367\",\n        },\n\"Security Bank of Bibb County\",\n\"Macon\",\n\"GA\",\n\"State Bank and Trust Company\",\n\"2009-07-24 00:00:00\"],\n [{\n            'v': 448,\n            'f': \"448\",\n        },\n{\n            'v': 57105,\n            'f': \"57105\",\n        },\n\"Security Bank of North Metro\",\n\"Woodstock\",\n\"GA\",\n\"State Bank and Trust Company\",\n\"2009-07-24 00:00:00\"],\n [{\n            'v': 449,\n            'f': \"449\",\n        },\n{\n            'v': 57430,\n            'f': \"57430\",\n        },\n\"Security Bank of North Fulton\",\n\"Alpharetta\",\n\"GA\",\n\"State Bank and Trust Company\",\n\"2009-07-24 00:00:00\"],\n [{\n            'v': 450,\n            'f': \"450\",\n        },\n{\n            'v': 57346,\n            'f': \"57346\",\n        },\n\"Security Bank of Gwinnett County\",\n\"Suwanee\",\n\"GA\",\n\"State Bank and Trust Company\",\n\"2009-07-24 00:00:00\"],\n [{\n            'v': 451,\n            'f': \"451\",\n        },\n{\n            'v': 58065,\n            'f': \"58065\",\n        },\n\"Waterford Village Bank\",\n\"Williamsville\",\n\"NY\",\n\"Evans Bank, N.A.\",\n\"2009-07-24 00:00:00\"],\n [{\n            'v': 452,\n            'f': \"452\",\n        },\n{\n            'v': 34341,\n            'f': \"34341\",\n        },\n\"Temecula Valley Bank\",\n\"Temecula\",\n\"CA\",\n\"First-Citizens Bank & Trust Company\",\n\"2009-07-17 00:00:00\"],\n [{\n            'v': 453,\n            'f': \"453\",\n        },\n{\n            'v': 23556,\n            'f': \"23556\",\n        },\n\"Vineyard Bank\",\n\"Rancho Cucamonga\",\n\"CA\",\n\"California Bank & Trust\",\n\"2009-07-17 00:00:00\"],\n [{\n            'v': 454,\n            'f': \"454\",\n        },\n{\n            'v': 34103,\n            'f': \"34103\",\n        },\n\"BankFirst\",\n\"Sioux Falls\",\n\"SD\",\n\"Alerus Financial, N.A.\",\n\"2009-07-17 00:00:00\"],\n [{\n            'v': 455,\n            'f': \"455\",\n        },\n{\n            'v': 34594,\n            'f': \"34594\",\n        },\n\"First Piedmont Bank\",\n\"Winder\",\n\"GA\",\n\"First American Bank and Trust Company\",\n\"2009-07-17 00:00:00\"],\n [{\n            'v': 456,\n            'f': \"456\",\n        },\n{\n            'v': 22754,\n            'f': \"22754\",\n        },\n\"Bank of Wyoming\",\n\"Thermopolis\",\n\"WY\",\n\"Central Bank & Trust\",\n\"2009-07-10 00:00:00\"],\n [{\n            'v': 457,\n            'f': \"457\",\n        },\n{\n            'v': 18390,\n            'f': \"18390\",\n        },\n\"Founders Bank\",\n\"Worth\",\n\"IL\",\n\"The PrivateBank and Trust Company\",\n\"2009-07-02 00:00:00\"],\n [{\n            'v': 458,\n            'f': \"458\",\n        },\n{\n            'v': 57667,\n            'f': \"57667\",\n        },\n\"Millennium State Bank of Texas\",\n\"Dallas\",\n\"TX\",\n\"State Bank of Texas\",\n\"2009-07-02 00:00:00\"],\n [{\n            'v': 459,\n            'f': \"459\",\n        },\n{\n            'v': 3644,\n            'f': \"3644\",\n        },\n\"First National Bank of Danville\",\n\"Danville\",\n\"IL\",\n\"First Financial Bank, N.A.\",\n\"2009-07-02 00:00:00\"],\n [{\n            'v': 460,\n            'f': \"460\",\n        },\n{\n            'v': 9262,\n            'f': \"9262\",\n        },\n\"The Elizabeth State Bank\",\n\"Elizabeth\",\n\"IL\",\n\"Galena State Bank and Trust Company\",\n\"2009-07-02 00:00:00\"],\n [{\n            'v': 461,\n            'f': \"461\",\n        },\n{\n            'v': 15302,\n            'f': \"15302\",\n        },\n\"Rock River Bank\",\n\"Oregon\",\n\"IL\",\n\"The Harvard State Bank\",\n\"2009-07-02 00:00:00\"],\n [{\n            'v': 462,\n            'f': \"462\",\n        },\n{\n            'v': 11710,\n            'f': \"11710\",\n        },\n\"First State Bank of Winchester\",\n\"Winchester\",\n\"IL\",\n\"The First National Bank of Beardstown\",\n\"2009-07-02 00:00:00\"],\n [{\n            'v': 463,\n            'f': \"463\",\n        },\n{\n            'v': 12093,\n            'f': \"12093\",\n        },\n\"John Warner Bank\",\n\"Clinton\",\n\"IL\",\n\"State Bank of Lincoln\",\n\"2009-07-02 00:00:00\"],\n [{\n            'v': 464,\n            'f': \"464\",\n        },\n{\n            'v': 57332,\n            'f': \"57332\",\n        },\n\"Mirae Bank\",\n\"Los Angeles\",\n\"CA\",\n\"Wilshire State Bank\",\n\"2009-06-26 00:00:00\"],\n [{\n            'v': 465,\n            'f': \"465\",\n        },\n{\n            'v': 57893,\n            'f': \"57893\",\n        },\n\"MetroPacific Bank\",\n\"Irvine\",\n\"CA\",\n\"Sunwest Bank\",\n\"2009-06-26 00:00:00\"],\n [{\n            'v': 466,\n            'f': \"466\",\n        },\n{\n            'v': 9744,\n            'f': \"9744\",\n        },\n\"Horizon Bank\",\n\"Pine City\",\n\"MN\",\n\"Stearns Bank, N.A.\",\n\"2009-06-26 00:00:00\"],\n [{\n            'v': 467,\n            'f': \"467\",\n        },\n{\n            'v': 35285,\n            'f': \"35285\",\n        },\n\"Neighborhood Community Bank\",\n\"Newnan\",\n\"GA\",\n\"CharterBank\",\n\"2009-06-26 00:00:00\"],\n [{\n            'v': 468,\n            'f': \"468\",\n        },\n{\n            'v': 57436,\n            'f': \"57436\",\n        },\n\"Community Bank of West Georgia\",\n\"Villa Rica\",\n\"GA\",\n\"No Acquirer\",\n\"2009-06-26 00:00:00\"],\n [{\n            'v': 469,\n            'f': \"469\",\n        },\n{\n            'v': 4614,\n            'f': \"4614\",\n        },\n\"First National Bank of Anthony\",\n\"Anthony\",\n\"KS\",\n\"Bank of Kansas\",\n\"2009-06-19 00:00:00\"],\n [{\n            'v': 470,\n            'f': \"470\",\n        },\n{\n            'v': 27837,\n            'f': \"27837\",\n        },\n\"Cooperative Bank\",\n\"Wilmington\",\n\"NC\",\n\"First Bank\",\n\"2009-06-19 00:00:00\"],\n [{\n            'v': 471,\n            'f': \"471\",\n        },\n{\n            'v': 35251,\n            'f': \"35251\",\n        },\n\"Southern Community Bank\",\n\"Fayetteville\",\n\"GA\",\n\"United Community Bank\",\n\"2009-06-19 00:00:00\"],\n [{\n            'v': 472,\n            'f': \"472\",\n        },\n{\n            'v': 17309,\n            'f': \"17309\",\n        },\n\"Bank of Lincolnwood\",\n\"Lincolnwood\",\n\"IL\",\n\"Republic Bank of Chicago\",\n\"2009-06-05 00:00:00\"],\n [{\n            'v': 473,\n            'f': \"473\",\n        },\n{\n            'v': 5757,\n            'f': \"5757\",\n        },\n\"Citizens National Bank\",\n\"Macomb\",\n\"IL\",\n\"Morton Community Bank\",\n\"2009-05-22 00:00:00\"],\n [{\n            'v': 474,\n            'f': \"474\",\n        },\n{\n            'v': 35175,\n            'f': \"35175\",\n        },\n\"Strategic Capital Bank\",\n\"Champaign\",\n\"IL\",\n\"Midland States Bank\",\n\"2009-05-22 00:00:00\"],\n [{\n            'v': 475,\n            'f': \"475\",\n        },\n{\n            'v': 32247,\n            'f': \"32247\",\n        },\n\"BankUnited, FSB\",\n\"Coral Gables\",\n\"FL\",\n\"BankUnited\",\n\"2009-05-21 00:00:00\"],\n [{\n            'v': 476,\n            'f': \"476\",\n        },\n{\n            'v': 34843,\n            'f': \"34843\",\n        },\n\"Westsound Bank\",\n\"Bremerton\",\n\"WA\",\n\"Kitsap Bank\",\n\"2009-05-08 00:00:00\"],\n [{\n            'v': 477,\n            'f': \"477\",\n        },\n{\n            'v': 35461,\n            'f': \"35461\",\n        },\n\"America West Bank\",\n\"Layton\",\n\"UT\",\n\"Cache Valley Bank\",\n\"2009-05-01 00:00:00\"],\n [{\n            'v': 478,\n            'f': \"478\",\n        },\n{\n            'v': 57563,\n            'f': \"57563\",\n        },\n\"Citizens Community Bank\",\n\"Ridgewood\",\n\"NJ\",\n\"North Jersey Community Bank\",\n\"2009-05-01 00:00:00\"],\n [{\n            'v': 479,\n            'f': \"479\",\n        },\n{\n            'v': 26535,\n            'f': \"26535\",\n        },\n\"Silverton Bank, NA\",\n\"Atlanta\",\n\"GA\",\n\"No Acquirer\",\n\"2009-05-01 00:00:00\"],\n [{\n            'v': 480,\n            'f': \"480\",\n        },\n{\n            'v': 34396,\n            'f': \"34396\",\n        },\n\"First Bank of Idaho\",\n\"Ketchum\",\n\"ID\",\n\"U.S. Bank, N.A.\",\n\"2009-04-24 00:00:00\"],\n [{\n            'v': 481,\n            'f': \"481\",\n        },\n{\n            'v': 32069,\n            'f': \"32069\",\n        },\n\"First Bank of Beverly Hills\",\n\"Calabasas\",\n\"CA\",\n\"No Acquirer\",\n\"2009-04-24 00:00:00\"],\n [{\n            'v': 482,\n            'f': \"482\",\n        },\n{\n            'v': 34369,\n            'f': \"34369\",\n        },\n\"Michigan Heritage Bank\",\n\"Farmington Hills\",\n\"MI\",\n\"Level One Bank\",\n\"2009-04-24 00:00:00\"],\n [{\n            'v': 483,\n            'f': \"483\",\n        },\n{\n            'v': 57943,\n            'f': \"57943\",\n        },\n\"American Southern Bank\",\n\"Kennesaw\",\n\"GA\",\n\"Bank of North Georgia\",\n\"2009-04-24 00:00:00\"],\n [{\n            'v': 484,\n            'f': \"484\",\n        },\n{\n            'v': 33824,\n            'f': \"33824\",\n        },\n\"Great Basin Bank of Nevada\",\n\"Elko\",\n\"NV\",\n\"Nevada State Bank\",\n\"2009-04-17 00:00:00\"],\n [{\n            'v': 485,\n            'f': \"485\",\n        },\n{\n            'v': 8266,\n            'f': \"8266\",\n        },\n\"American Sterling Bank\",\n\"Sugar Creek\",\n\"MO\",\n\"Metcalf Bank\",\n\"2009-04-17 00:00:00\"],\n [{\n            'v': 486,\n            'f': \"486\",\n        },\n{\n            'v': 34881,\n            'f': \"34881\",\n        },\n\"New Frontier Bank\",\n\"Greeley\",\n\"CO\",\n\"No Acquirer\",\n\"2009-04-10 00:00:00\"],\n [{\n            'v': 487,\n            'f': \"487\",\n        },\n{\n            'v': 34639,\n            'f': \"34639\",\n        },\n\"Cape Fear Bank\",\n\"Wilmington\",\n\"NC\",\n\"First Federal Savings and Loan Association\",\n\"2009-04-10 00:00:00\"],\n [{\n            'v': 488,\n            'f': \"488\",\n        },\n{\n            'v': 22238,\n            'f': \"22238\",\n        },\n\"Omni National Bank\",\n\"Atlanta\",\n\"GA\",\n\"No Acquirer\",\n\"2009-03-27 00:00:00\"],\n [{\n            'v': 489,\n            'f': \"489\",\n        },\n{\n            'v': 4754,\n            'f': \"4754\",\n        },\n\"TeamBank, NA\",\n\"Paola\",\n\"KS\",\n\"Great Southern Bank\",\n\"2009-03-20 00:00:00\"],\n [{\n            'v': 490,\n            'f': \"490\",\n        },\n{\n            'v': 18896,\n            'f': \"18896\",\n        },\n\"Colorado National Bank\",\n\"Colorado Springs\",\n\"CO\",\n\"Herring Bank\",\n\"2009-03-20 00:00:00\"],\n [{\n            'v': 491,\n            'f': \"491\",\n        },\n{\n            'v': 18243,\n            'f': \"18243\",\n        },\n\"FirstCity Bank\",\n\"Stockbridge\",\n\"GA\",\n\"No Acquirer\",\n\"2009-03-20 00:00:00\"],\n [{\n            'v': 492,\n            'f': \"492\",\n        },\n{\n            'v': 57558,\n            'f': \"57558\",\n        },\n\"Freedom Bank of Georgia\",\n\"Commerce\",\n\"GA\",\n\"Northeast Georgia Bank\",\n\"2009-03-06 00:00:00\"],\n [{\n            'v': 493,\n            'f': \"493\",\n        },\n{\n            'v': 34820,\n            'f': \"34820\",\n        },\n\"Security Savings Bank\",\n\"Henderson\",\n\"NV\",\n\"Bank of Nevada\",\n\"2009-02-27 00:00:00\"],\n [{\n            'v': 494,\n            'f': \"494\",\n        },\n{\n            'v': 20078,\n            'f': \"20078\",\n        },\n\"Heritage Community Bank\",\n\"Glenwood\",\n\"IL\",\n\"MB Financial Bank, N.A.\",\n\"2009-02-27 00:00:00\"],\n [{\n            'v': 495,\n            'f': \"495\",\n        },\n{\n            'v': 35399,\n            'f': \"35399\",\n        },\n\"Silver Falls Bank\",\n\"Silverton\",\n\"OR\",\n\"Citizens Bank\",\n\"2009-02-20 00:00:00\"],\n [{\n            'v': 496,\n            'f': \"496\",\n        },\n{\n            'v': 57342,\n            'f': \"57342\",\n        },\n\"Pinnacle Bank of Oregon\",\n\"Beaverton\",\n\"OR\",\n\"Washington Trust Bank of Spokane\",\n\"2009-02-13 00:00:00\"],\n [{\n            'v': 497,\n            'f': \"497\",\n        },\n{\n            'v': 16500,\n            'f': \"16500\",\n        },\n\"Corn Belt Bank & Trust Co.\",\n\"Pittsfield\",\n\"IL\",\n\"The Carlinville National Bank\",\n\"2009-02-13 00:00:00\"],\n [{\n            'v': 498,\n            'f': \"498\",\n        },\n{\n            'v': 34563,\n            'f': \"34563\",\n        },\n\"Riverside Bank of the Gulf Coast\",\n\"Cape Coral\",\n\"FL\",\n\"TIB Bank\",\n\"2009-02-13 00:00:00\"],\n [{\n            'v': 499,\n            'f': \"499\",\n        },\n{\n            'v': 5431,\n            'f': \"5431\",\n        },\n\"Sherman County Bank\",\n\"Loup City\",\n\"NE\",\n\"Heritage Bank\",\n\"2009-02-13 00:00:00\"],\n [{\n            'v': 500,\n            'f': \"500\",\n        },\n{\n            'v': 22574,\n            'f': \"22574\",\n        },\n\"County Bank\",\n\"Merced\",\n\"CA\",\n\"Westamerica Bank\",\n\"2009-02-06 00:00:00\"],\n [{\n            'v': 501,\n            'f': \"501\",\n        },\n{\n            'v': 23124,\n            'f': \"23124\",\n        },\n\"Alliance Bank\",\n\"Culver City\",\n\"CA\",\n\"California Bank & Trust\",\n\"2009-02-06 00:00:00\"],\n [{\n            'v': 502,\n            'f': \"502\",\n        },\n{\n            'v': 57017,\n            'f': \"57017\",\n        },\n\"FirstBank Financial Services\",\n\"McDonough\",\n\"GA\",\n\"Regions Bank\",\n\"2009-02-06 00:00:00\"],\n [{\n            'v': 503,\n            'f': \"503\",\n        },\n{\n            'v': 26538,\n            'f': \"26538\",\n        },\n\"Ocala National Bank\",\n\"Ocala\",\n\"FL\",\n\"CenterState Bank of Florida, N.A.\",\n\"2009-01-30 00:00:00\"],\n [{\n            'v': 504,\n            'f': \"504\",\n        },\n{\n            'v': 30763,\n            'f': \"30763\",\n        },\n\"Suburban FSB\",\n\"Crofton\",\n\"MD\",\n\"Bank of Essex\",\n\"2009-01-30 00:00:00\"],\n [{\n            'v': 505,\n            'f': \"505\",\n        },\n{\n            'v': 58001,\n            'f': \"58001\",\n        },\n\"MagnetBank\",\n\"Salt Lake City\",\n\"UT\",\n\"No Acquirer\",\n\"2009-01-30 00:00:00\"],\n [{\n            'v': 506,\n            'f': \"506\",\n        },\n{\n            'v': 33025,\n            'f': \"33025\",\n        },\n\"1st Centennial Bank\",\n\"Redlands\",\n\"CA\",\n\"First California Bank\",\n\"2009-01-23 00:00:00\"],\n [{\n            'v': 507,\n            'f': \"507\",\n        },\n{\n            'v': 34959,\n            'f': \"34959\",\n        },\n\"Bank of Clark County\",\n\"Vancouver\",\n\"WA\",\n\"Umpqua Bank\",\n\"2009-01-16 00:00:00\"],\n [{\n            'v': 508,\n            'f': \"508\",\n        },\n{\n            'v': 19733,\n            'f': \"19733\",\n        },\n\"National Bank of Commerce\",\n\"Berkeley\",\n\"IL\",\n\"Republic Bank of Chicago\",\n\"2009-01-16 00:00:00\"],\n [{\n            'v': 509,\n            'f': \"509\",\n        },\n{\n            'v': 11568,\n            'f': \"11568\",\n        },\n\"Sanderson State Bank\",\n\"Sanderson\",\n\"TX\",\n\"The Pecos County State Bank\",\n\"2008-12-12 00:00:00\"],\n [{\n            'v': 510,\n            'f': \"510\",\n        },\n{\n            'v': 35379,\n            'f': \"35379\",\n        },\n\"Haven Trust Bank\",\n\"Duluth\",\n\"GA\",\n\"Branch Banking & Trust Company, (BB&T)\",\n\"2008-12-12 00:00:00\"],\n [{\n            'v': 511,\n            'f': \"511\",\n        },\n{\n            'v': 34301,\n            'f': \"34301\",\n        },\n\"First Georgia Community Bank\",\n\"Jackson\",\n\"GA\",\n\"United Bank\",\n\"2008-12-05 00:00:00\"],\n [{\n            'v': 512,\n            'f': \"512\",\n        },\n{\n            'v': 28344,\n            'f': \"28344\",\n        },\n\"PFF Bank & Trust\",\n\"Pomona\",\n\"CA\",\n\"U.S. Bank, N.A.\",\n\"2008-11-21 00:00:00\"],\n [{\n            'v': 513,\n            'f': \"513\",\n        },\n{\n            'v': 30968,\n            'f': \"30968\",\n        },\n\"Downey Savings & Loan\",\n\"Newport Beach\",\n\"CA\",\n\"U.S. Bank, N.A.\",\n\"2008-11-21 00:00:00\"],\n [{\n            'v': 514,\n            'f': \"514\",\n        },\n{\n            'v': 16490,\n            'f': \"16490\",\n        },\n\"Community Bank\",\n\"Loganville\",\n\"GA\",\n\"Bank of Essex\",\n\"2008-11-21 00:00:00\"],\n [{\n            'v': 515,\n            'f': \"515\",\n        },\n{\n            'v': 23595,\n            'f': \"23595\",\n        },\n\"Security Pacific Bank\",\n\"Los Angeles\",\n\"CA\",\n\"Pacific Western Bank\",\n\"2008-11-07 00:00:00\"],\n [{\n            'v': 516,\n            'f': \"516\",\n        },\n{\n            'v': 26870,\n            'f': \"26870\",\n        },\n\"Franklin Bank, SSB\",\n\"Houston\",\n\"TX\",\n\"Prosperity Bank\",\n\"2008-11-07 00:00:00\"],\n [{\n            'v': 517,\n            'f': \"517\",\n        },\n{\n            'v': 57930,\n            'f': \"57930\",\n        },\n\"Freedom Bank\",\n\"Bradenton\",\n\"FL\",\n\"Fifth Third Bank\",\n\"2008-10-31 00:00:00\"],\n [{\n            'v': 518,\n            'f': \"518\",\n        },\n{\n            'v': 58241,\n            'f': \"58241\",\n        },\n\"Alpha Bank & Trust\",\n\"Alpharetta\",\n\"GA\",\n\"Stearns Bank, N.A.\",\n\"2008-10-24 00:00:00\"],\n [{\n            'v': 519,\n            'f': \"519\",\n        },\n{\n            'v': 13789,\n            'f': \"13789\",\n        },\n\"Meridian Bank\",\n\"Eldred\",\n\"IL\",\n\"National Bank\",\n\"2008-10-10 00:00:00\"],\n [{\n            'v': 520,\n            'f': \"520\",\n        },\n{\n            'v': 57654,\n            'f': \"57654\",\n        },\n\"Main Street Bank\",\n\"Northville\",\n\"MI\",\n\"Monroe Bank & Trust\",\n\"2008-10-10 00:00:00\"],\n [{\n            'v': 521,\n            'f': \"521\",\n        },\n{\n            'v': 32633,\n            'f': \"32633\",\n        },\n\"Washington Mutual Bank (Including its subsidiary Washington Mutual Bank FSB)\",\n\"Henderson\",\n\"NV\",\n\"JP Morgan Chase Bank\",\n\"2008-09-25 00:00:00\"],\n [{\n            'v': 522,\n            'f': \"522\",\n        },\n{\n            'v': 6782,\n            'f': \"6782\",\n        },\n\"Ameribank\",\n\"Northfork\",\n\"WV\",\n\"The Citizens Savings Bank, and Pioneer Community Bank, Inc.\",\n\"2008-09-19 00:00:00\"],\n [{\n            'v': 523,\n            'f': \"523\",\n        },\n{\n            'v': 34194,\n            'f': \"34194\",\n        },\n\"Silver State Bank\",\n\"Henderson\",\n\"NV\",\n\"Nevada State Bank\",\n\"2008-09-05 00:00:00\"],\n [{\n            'v': 524,\n            'f': \"524\",\n        },\n{\n            'v': 35469,\n            'f': \"35469\",\n        },\n\"Integrity Bank\",\n\"Alpharetta\",\n\"GA\",\n\"Regions Bank\",\n\"2008-08-29 00:00:00\"],\n [{\n            'v': 525,\n            'f': \"525\",\n        },\n{\n            'v': 22728,\n            'f': \"22728\",\n        },\n\"Columbian Bank & Trust\",\n\"Topeka\",\n\"KS\",\n\"Citizens Bank & Trust\",\n\"2008-08-22 00:00:00\"],\n [{\n            'v': 526,\n            'f': \"526\",\n        },\n{\n            'v': 57523,\n            'f': \"57523\",\n        },\n\"First Priority Bank\",\n\"Bradenton\",\n\"FL\",\n\"SunTrust Bank\",\n\"2008-08-01 00:00:00\"],\n [{\n            'v': 527,\n            'f': \"527\",\n        },\n{\n            'v': 57961,\n            'f': \"57961\",\n        },\n\"First Heritage Bank, NA\",\n\"Newport Beach\",\n\"CA\",\n\"Mutual of Omaha Bank\",\n\"2008-07-25 00:00:00\"],\n [{\n            'v': 528,\n            'f': \"528\",\n        },\n{\n            'v': 27011,\n            'f': \"27011\",\n        },\n\"First National Bank of Nevada\",\n\"Reno\",\n\"NV\",\n\"Mutual of Omaha Bank\",\n\"2008-07-25 00:00:00\"],\n [{\n            'v': 529,\n            'f': \"529\",\n        },\n{\n            'v': 29730,\n            'f': \"29730\",\n        },\n\"IndyMac Bank\",\n\"Pasadena\",\n\"CA\",\n\"OneWest Bank, FSB\",\n\"2008-07-11 00:00:00\"],\n [{\n            'v': 530,\n            'f': \"530\",\n        },\n{\n            'v': 12736,\n            'f': \"12736\",\n        },\n\"First Integrity Bank, NA\",\n\"Staples\",\n\"MN\",\n\"First International Bank and Trust\",\n\"2008-05-30 00:00:00\"],\n [{\n            'v': 531,\n            'f': \"531\",\n        },\n{\n            'v': 33901,\n            'f': \"33901\",\n        },\n\"ANB Financial, NA\",\n\"Bentonville\",\n\"AR\",\n\"Pulaski Bank and Trust Company\",\n\"2008-05-09 00:00:00\"],\n [{\n            'v': 532,\n            'f': \"532\",\n        },\n{\n            'v': 1971,\n            'f': \"1971\",\n        },\n\"Hume Bank\",\n\"Hume\",\n\"MO\",\n\"Security Bank\",\n\"2008-03-07 00:00:00\"],\n [{\n            'v': 533,\n            'f': \"533\",\n        },\n{\n            'v': 24660,\n            'f': \"24660\",\n        },\n\"Douglass National Bank\",\n\"Kansas City\",\n\"MO\",\n\"Liberty Bank and Trust Company\",\n\"2008-01-25 00:00:00\"],\n [{\n            'v': 534,\n            'f': \"534\",\n        },\n{\n            'v': 16848,\n            'f': \"16848\",\n        },\n\"Miami Valley Bank\",\n\"Lakeview\",\n\"OH\",\n\"The Citizens Banking Company\",\n\"2007-10-04 00:00:00\"],\n [{\n            'v': 535,\n            'f': \"535\",\n        },\n{\n            'v': 32575,\n            'f': \"32575\",\n        },\n\"NetBank\",\n\"Alpharetta\",\n\"GA\",\n\"ING DIRECT\",\n\"2007-09-28 00:00:00\"],\n [{\n            'v': 536,\n            'f': \"536\",\n        },\n{\n            'v': 35353,\n            'f': \"35353\",\n        },\n\"Metropolitan Savings Bank\",\n\"Pittsburgh\",\n\"PA\",\n\"Allegheny Valley Bank of Pittsburgh\",\n\"2007-02-02 00:00:00\"],\n [{\n            'v': 537,\n            'f': \"537\",\n        },\n{\n            'v': 1249,\n            'f': \"1249\",\n        },\n\"Bank of Ephraim\",\n\"Ephraim\",\n\"UT\",\n\"Far West Bank\",\n\"2004-06-25 00:00:00\"],\n [{\n            'v': 538,\n            'f': \"538\",\n        },\n{\n            'v': 26778,\n            'f': \"26778\",\n        },\n\"Reliance Bank\",\n\"White Plains\",\n\"NY\",\n\"Union State Bank\",\n\"2004-03-19 00:00:00\"],\n [{\n            'v': 539,\n            'f': \"539\",\n        },\n{\n            'v': 26838,\n            'f': \"26838\",\n        },\n\"Guaranty National Bank of Tallahassee\",\n\"Tallahassee\",\n\"FL\",\n\"Hancock Bank of Florida\",\n\"2004-03-12 00:00:00\"],\n [{\n            'v': 540,\n            'f': \"540\",\n        },\n{\n            'v': 31330,\n            'f': \"31330\",\n        },\n\"Dollar Savings Bank\",\n\"Newark\",\n\"NJ\",\n\"No Acquirer\",\n\"2004-02-14 00:00:00\"],\n [{\n            'v': 541,\n            'f': \"541\",\n        },\n{\n            'v': 27203,\n            'f': \"27203\",\n        },\n\"Pulaski Savings Bank\",\n\"Philadelphia\",\n\"PA\",\n\"Earthstar Bank\",\n\"2003-11-14 00:00:00\"],\n [{\n            'v': 542,\n            'f': \"542\",\n        },\n{\n            'v': 11639,\n            'f': \"11639\",\n        },\n\"First National Bank of Blanchardville\",\n\"Blanchardville\",\n\"WI\",\n\"The Park Bank\",\n\"2003-05-09 00:00:00\"],\n [{\n            'v': 543,\n            'f': \"543\",\n        },\n{\n            'v': 27094,\n            'f': \"27094\",\n        },\n\"Southern Pacific Bank\",\n\"Torrance\",\n\"CA\",\n\"Beal Bank\",\n\"2003-02-07 00:00:00\"],\n [{\n            'v': 544,\n            'f': \"544\",\n        },\n{\n            'v': 16445,\n            'f': \"16445\",\n        },\n\"Farmers Bank of Cheneyville\",\n\"Cheneyville\",\n\"LA\",\n\"Sabine State Bank & Trust\",\n\"2002-12-17 00:00:00\"],\n [{\n            'v': 545,\n            'f': \"545\",\n        },\n{\n            'v': 9961,\n            'f': \"9961\",\n        },\n\"Bank of Alamo\",\n\"Alamo\",\n\"TN\",\n\"No Acquirer\",\n\"2002-11-08 00:00:00\"],\n [{\n            'v': 546,\n            'f': \"546\",\n        },\n{\n            'v': 33784,\n            'f': \"33784\",\n        },\n\"AmTrade International Bank\",\n\"Atlanta\",\n\"GA\",\n\"No Acquirer\",\n\"2002-09-30 00:00:00\"],\n [{\n            'v': 547,\n            'f': \"547\",\n        },\n{\n            'v': 29355,\n            'f': \"29355\",\n        },\n\"Universal Federal Savings Bank\",\n\"Chicago\",\n\"IL\",\n\"Chicago Community Bank\",\n\"2002-06-27 00:00:00\"],\n [{\n            'v': 548,\n            'f': \"548\",\n        },\n{\n            'v': 19183,\n            'f': \"19183\",\n        },\n\"Connecticut Bank of Commerce\",\n\"Stamford\",\n\"CT\",\n\"Hudson United Bank\",\n\"2002-06-26 00:00:00\"],\n [{\n            'v': 549,\n            'f': \"549\",\n        },\n{\n            'v': 34979,\n            'f': \"34979\",\n        },\n\"New Century Bank\",\n\"Shelby Township\",\n\"MI\",\n\"No Acquirer\",\n\"2002-03-28 00:00:00\"],\n [{\n            'v': 550,\n            'f': \"550\",\n        },\n{\n            'v': 26652,\n            'f': \"26652\",\n        },\n\"Net 1st National Bank\",\n\"Boca Raton\",\n\"FL\",\n\"Bank Leumi USA\",\n\"2002-03-01 00:00:00\"],\n [{\n            'v': 551,\n            'f': \"551\",\n        },\n{\n            'v': 22314,\n            'f': \"22314\",\n        },\n\"NextBank, NA\",\n\"Phoenix\",\n\"AZ\",\n\"No Acquirer\",\n\"2002-02-07 00:00:00\"],\n [{\n            'v': 552,\n            'f': \"552\",\n        },\n{\n            'v': 8966,\n            'f': \"8966\",\n        },\n\"Oakwood Deposit Bank Co.\",\n\"Oakwood\",\n\"OH\",\n\"The State Bank & Trust Company\",\n\"2002-02-01 00:00:00\"],\n [{\n            'v': 553,\n            'f': \"553\",\n        },\n{\n            'v': 22002,\n            'f': \"22002\",\n        },\n\"Bank of Sierra Blanca\",\n\"Sierra Blanca\",\n\"TX\",\n\"The Security State Bank of Pecos\",\n\"2002-01-18 00:00:00\"],\n [{\n            'v': 554,\n            'f': \"554\",\n        },\n{\n            'v': 24382,\n            'f': \"24382\",\n        },\n\"Hamilton Bank, NA\",\n\"Miami\",\n\"FL\",\n\"Israel Discount Bank of New York\",\n\"2002-01-11 00:00:00\"],\n [{\n            'v': 555,\n            'f': \"555\",\n        },\n{\n            'v': 34248,\n            'f': \"34248\",\n        },\n\"Sinclair National Bank\",\n\"Gravette\",\n\"AR\",\n\"Delta Trust & Bank\",\n\"2001-09-07 00:00:00\"],\n [{\n            'v': 556,\n            'f': \"556\",\n        },\n{\n            'v': 32646,\n            'f': \"32646\",\n        },\n\"Superior Bank, FSB\",\n\"Hinsdale\",\n\"IL\",\n\"Superior Federal, FSB\",\n\"2001-07-27 00:00:00\"],\n [{\n            'v': 557,\n            'f': \"557\",\n        },\n{\n            'v': 6629,\n            'f': \"6629\",\n        },\n\"Malta National Bank\",\n\"Malta\",\n\"OH\",\n\"North Valley Bank\",\n\"2001-05-03 00:00:00\"],\n [{\n            'v': 558,\n            'f': \"558\",\n        },\n{\n            'v': 34264,\n            'f': \"34264\",\n        },\n\"First Alliance Bank & Trust Co.\",\n\"Manchester\",\n\"NH\",\n\"Southern New Hampshire Bank & Trust\",\n\"2001-02-02 00:00:00\"],\n [{\n            'v': 559,\n            'f': \"559\",\n        },\n{\n            'v': 3815,\n            'f': \"3815\",\n        },\n\"National State Bank of Metropolis\",\n\"Metropolis\",\n\"IL\",\n\"Banterra Bank of Marion\",\n\"2000-12-14 00:00:00\"],\n [{\n            'v': 560,\n            'f': \"560\",\n        },\n{\n            'v': 21029,\n            'f': \"21029\",\n        },\n\"Bank of Honolulu\",\n\"Honolulu\",\n\"HI\",\n\"Bank of the Orient\",\n\"2000-10-13 00:00:00\"]],\n        columns: [[\"number\", \"index\"], [\"number\", \"bank_number\"], [\"string\", \"bank_name\"], [\"string\", \"city\"], [\"string\", \"state\"], [\"string\", \"acquired_by\"], [\"string\", \"closed\"]],\n        columnOptions: [{\"width\": \"1px\", \"className\": \"index_column\"}],\n        rowsPerPage: 25,\n        helpUrl: \"https://colab.research.google.com/notebooks/data_table.ipynb\",\n        suppressOutputScrolling: true,\n        minimumWidth: undefined,\n      });\n    ",
            "text/html": [
              "<div>\n",
              "<style scoped>\n",
              "    .dataframe tbody tr th:only-of-type {\n",
              "        vertical-align: middle;\n",
              "    }\n",
              "\n",
              "    .dataframe tbody tr th {\n",
              "        vertical-align: top;\n",
              "    }\n",
              "\n",
              "    .dataframe thead th {\n",
              "        text-align: right;\n",
              "    }\n",
              "</style>\n",
              "<table border=\"1\" class=\"dataframe\">\n",
              "  <thead>\n",
              "    <tr style=\"text-align: right;\">\n",
              "      <th></th>\n",
              "      <th>bank_number</th>\n",
              "      <th>bank_name</th>\n",
              "      <th>city</th>\n",
              "      <th>state</th>\n",
              "      <th>acquired_by</th>\n",
              "      <th>closed</th>\n",
              "    </tr>\n",
              "  </thead>\n",
              "  <tbody>\n",
              "    <tr>\n",
              "      <th>0</th>\n",
              "      <td>14361</td>\n",
              "      <td>The First State Bank</td>\n",
              "      <td>Barboursville</td>\n",
              "      <td>WV</td>\n",
              "      <td>MVB Bank, Inc.</td>\n",
              "      <td>2020-04-03</td>\n",
              "    </tr>\n",
              "    <tr>\n",
              "      <th>1</th>\n",
              "      <td>18265</td>\n",
              "      <td>Ericson State Bank</td>\n",
              "      <td>Ericson</td>\n",
              "      <td>NE</td>\n",
              "      <td>Farmers and Merchants Bank</td>\n",
              "      <td>2020-02-14</td>\n",
              "    </tr>\n",
              "    <tr>\n",
              "      <th>2</th>\n",
              "      <td>21111</td>\n",
              "      <td>City National Bank of New Jersey</td>\n",
              "      <td>Newark</td>\n",
              "      <td>NJ</td>\n",
              "      <td>Industrial Bank</td>\n",
              "      <td>2019-11-01</td>\n",
              "    </tr>\n",
              "    <tr>\n",
              "      <th>3</th>\n",
              "      <td>58317</td>\n",
              "      <td>Resolute Bank</td>\n",
              "      <td>Maumee</td>\n",
              "      <td>OH</td>\n",
              "      <td>Buckeye State Bank</td>\n",
              "      <td>2019-10-25</td>\n",
              "    </tr>\n",
              "    <tr>\n",
              "      <th>4</th>\n",
              "      <td>58112</td>\n",
              "      <td>Louisa Community Bank</td>\n",
              "      <td>Louisa</td>\n",
              "      <td>KY</td>\n",
              "      <td>Kentucky Farmers Bank Corporation</td>\n",
              "      <td>2019-10-25</td>\n",
              "    </tr>\n",
              "    <tr>\n",
              "      <th>...</th>\n",
              "      <td>...</td>\n",
              "      <td>...</td>\n",
              "      <td>...</td>\n",
              "      <td>...</td>\n",
              "      <td>...</td>\n",
              "      <td>...</td>\n",
              "    </tr>\n",
              "    <tr>\n",
              "      <th>556</th>\n",
              "      <td>32646</td>\n",
              "      <td>Superior Bank, FSB</td>\n",
              "      <td>Hinsdale</td>\n",
              "      <td>IL</td>\n",
              "      <td>Superior Federal, FSB</td>\n",
              "      <td>2001-07-27</td>\n",
              "    </tr>\n",
              "    <tr>\n",
              "      <th>557</th>\n",
              "      <td>6629</td>\n",
              "      <td>Malta National Bank</td>\n",
              "      <td>Malta</td>\n",
              "      <td>OH</td>\n",
              "      <td>North Valley Bank</td>\n",
              "      <td>2001-05-03</td>\n",
              "    </tr>\n",
              "    <tr>\n",
              "      <th>558</th>\n",
              "      <td>34264</td>\n",
              "      <td>First Alliance Bank &amp; Trust Co.</td>\n",
              "      <td>Manchester</td>\n",
              "      <td>NH</td>\n",
              "      <td>Southern New Hampshire Bank &amp; Trust</td>\n",
              "      <td>2001-02-02</td>\n",
              "    </tr>\n",
              "    <tr>\n",
              "      <th>559</th>\n",
              "      <td>3815</td>\n",
              "      <td>National State Bank of Metropolis</td>\n",
              "      <td>Metropolis</td>\n",
              "      <td>IL</td>\n",
              "      <td>Banterra Bank of Marion</td>\n",
              "      <td>2000-12-14</td>\n",
              "    </tr>\n",
              "    <tr>\n",
              "      <th>560</th>\n",
              "      <td>21029</td>\n",
              "      <td>Bank of Honolulu</td>\n",
              "      <td>Honolulu</td>\n",
              "      <td>HI</td>\n",
              "      <td>Bank of the Orient</td>\n",
              "      <td>2000-10-13</td>\n",
              "    </tr>\n",
              "  </tbody>\n",
              "</table>\n",
              "<p>561 rows × 6 columns</p>\n",
              "</div>"
            ],
            "text/plain": [
              "     bank_number  ...     closed\n",
              "0          14361  ... 2020-04-03\n",
              "1          18265  ... 2020-02-14\n",
              "2          21111  ... 2019-11-01\n",
              "3          58317  ... 2019-10-25\n",
              "4          58112  ... 2019-10-25\n",
              "..           ...  ...        ...\n",
              "556        32646  ... 2001-07-27\n",
              "557         6629  ... 2001-05-03\n",
              "558        34264  ... 2001-02-02\n",
              "559         3815  ... 2000-12-14\n",
              "560        21029  ... 2000-10-13\n",
              "\n",
              "[561 rows x 6 columns]"
            ]
          },
          "metadata": {
            "tags": []
          },
          "execution_count": 28
        }
      ]
    }
  ]
}